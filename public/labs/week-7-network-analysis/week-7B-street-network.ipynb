{
 "cells": [
  {
   "cell_type": "markdown",
   "id": "0924c4ff",
   "metadata": {},
   "source": [
    "---\n",
    "# title: \"My Notebook\"\n",
    "format:\n",
    "  html:\n",
    "    toc: true           # ✅ Table of contents (outline)\n",
    "    toc-location: left  # ✅ Place TOC in the left sidebar\n",
    "    number-sections: true\n",
    "    code-fold: true\n",
    "    code-summary: \"Show Code\"\n",
    "    theme: cosmo        # Optional themes: cosmo, flatly, default, etc.\n",
    "---"
   ]
  },
  {
   "cell_type": "markdown",
   "id": "a935b394-6237-41d4-be9c-76884aea4425",
   "metadata": {},
   "source": [
    "## Traffic Network Analysis using NetworkX\n",
    "There are two major section. First one is the static road network data processing. Second section is about analyzing the realtime traffic data\n",
    "\n",
    "\n",
    "Reference\n",
    "- [Reference of NetworkX](https://networkx.org/documentation/stable/tutorial.html)\n",
    "- [Source code of NetworkX on GitHub](https://networkx.org/documentation/networkx-2.4/_modules/networkx/readwrite/nx_shp.html)\n",
    "\n",
    "\n",
    "You may find the networkx versions are different in the terminal and the jupyter notebook. "
   ]
  },
  {
   "cell_type": "code",
   "execution_count": 45,
   "id": "2bfe18b6-1439-4084-bfc0-dbaaa51bf47b",
   "metadata": {},
   "outputs": [
    {
     "name": "stdout",
     "output_type": "stream",
     "text": [
      "3.4.2\n"
     ]
    }
   ],
   "source": [
    "import networkx as nx\n",
    "print(nx.__version__)"
   ]
  },
  {
   "cell_type": "markdown",
   "id": "cd21829d-70eb-4dab-9105-2e34f0ea77fe",
   "metadata": {},
   "source": [
    "It is tricky for the different version of networkx, we are going to use the most recent one. "
   ]
  },
  {
   "cell_type": "code",
   "execution_count": 46,
   "id": "2b25bbf6-1efa-4cd8-a7ec-8da15df8607c",
   "metadata": {},
   "outputs": [],
   "source": [
    "# !pip install networkx==3.2.1"
   ]
  },
  {
   "cell_type": "markdown",
   "id": "1cdd3147-aad7-4e2f-abce-9698eb4970f7",
   "metadata": {},
   "source": [
    "This tutorial focuses on spatial networks and learn how to construct a routable directed graph for Networkx and find shortest paths along the given street network based on travel times or distance by car. In addition, we will learn how to calculate travel times from a single source into all nodes in the graph.\n",
    "\n"
   ]
  },
  {
   "cell_type": "code",
   "execution_count": 47,
   "id": "74aa3229-52c0-454c-aebc-f03a497d95ff",
   "metadata": {},
   "outputs": [],
   "source": [
    "import fiona\n",
    "import os, os.path\n",
    "import shapely\n",
    "from shapely.geometry import Polygon, Point, shape\n",
    "import networkx as nx"
   ]
  },
  {
   "cell_type": "markdown",
   "id": "21666812-d145-473e-81f5-7c4185c7d72b",
   "metadata": {},
   "source": [
    "#### Create an empty graph"
   ]
  },
  {
   "cell_type": "code",
   "execution_count": 48,
   "id": "119af891-8285-4a75-a7ac-c5ca653fbd1c",
   "metadata": {},
   "outputs": [],
   "source": [
    "G = nx.Graph()"
   ]
  },
  {
   "cell_type": "markdown",
   "id": "bf886650-0157-4803-8199-bf30aceb869f",
   "metadata": {},
   "source": [
    "**Nodes**\n",
    "\n",
    "The graph `G` can be grown in several ways. NetworkX includes many graph generator functions and facilities to read and write graphs in many formats. To get started though we’ll look at simple manipulations. You can add one node at a time,\n"
   ]
  },
  {
   "cell_type": "code",
   "execution_count": 49,
   "id": "66f8d124-d5fe-4431-acef-a68b47925d34",
   "metadata": {},
   "outputs": [],
   "source": [
    "G.add_node(1)"
   ]
  },
  {
   "cell_type": "markdown",
   "id": "463d1ba1-9849-4c68-9def-d7a045e7a3b1",
   "metadata": {},
   "source": [
    "or add nodes from any iterable container, such as a list\n"
   ]
  },
  {
   "cell_type": "code",
   "execution_count": 50,
   "id": "e62b0acf-b3f5-49a4-bcdc-0f4759306dec",
   "metadata": {},
   "outputs": [],
   "source": [
    "G.add_nodes_from([2, 3])"
   ]
  },
  {
   "cell_type": "markdown",
   "id": "013fd8cf-71ba-4ad1-8d1b-4c8f8d0d85c0",
   "metadata": {},
   "source": [
    "add node with attribute"
   ]
  },
  {
   "cell_type": "code",
   "execution_count": 51,
   "id": "f25f3e42-121a-418d-bfba-f6199ff4109e",
   "metadata": {},
   "outputs": [],
   "source": [
    "G.add_nodes_from([\n",
    "    (4, {\"color\": \"red\"}),\n",
    "    (5, {\"color\": \"green\"}),\n",
    "])"
   ]
  },
  {
   "cell_type": "markdown",
   "id": "f7fe2f40",
   "metadata": {},
   "source": [
    "We can draw the graph, "
   ]
  },
  {
   "cell_type": "code",
   "execution_count": 52,
   "id": "76b28348-436c-4816-98ba-38c1a0fa0fe8",
   "metadata": {},
   "outputs": [
    {
     "data": {
      "image/png": "[encoded data removed]",
      "text/plain": [
       "<Figure size 640x480 with 1 Axes>"
      ]
     },
     "metadata": {},
     "output_type": "display_data"
    }
   ],
   "source": [
    "nx.draw(G, with_labels = True)"
   ]
  },
  {
   "cell_type": "markdown",
   "id": "41b27ea8-b089-4d3d-a78e-cc66d8d8d0cc",
   "metadata": {},
   "source": [
    "Print all the nodes of a graph"
   ]
  },
  {
   "cell_type": "code",
   "execution_count": 53,
   "id": "2a368d5b-9da2-4817-865f-d52ce2e28268",
   "metadata": {},
   "outputs": [
    {
     "data": {
      "text/plain": [
       "NodeView((1, 2, 3, 4, 5))"
      ]
     },
     "execution_count": 53,
     "metadata": {},
     "output_type": "execute_result"
    }
   ],
   "source": [
    "G.nodes"
   ]
  },
  {
   "cell_type": "code",
   "execution_count": null,
   "id": "a7aaf4fb-1544-48d7-8a23-d8f6d730199c",
   "metadata": {},
   "outputs": [],
   "source": []
  },
  {
   "cell_type": "markdown",
   "id": "73a3e714-a811-41e1-9acd-8af5bed2e5d4",
   "metadata": {},
   "source": [
    "To get the node data along with the nodes:"
   ]
  },
  {
   "cell_type": "code",
   "execution_count": 54,
   "id": "19366bee-c328-4573-9cf5-d649505b7e90",
   "metadata": {},
   "outputs": [
    {
     "data": {
      "text/plain": [
       "({}, {'color': 'red'})"
      ]
     },
     "execution_count": 54,
     "metadata": {},
     "output_type": "execute_result"
    }
   ],
   "source": [
    "G.nodes[1], G.nodes[4]"
   ]
  },
  {
   "cell_type": "code",
   "execution_count": 55,
   "id": "c02de661-a1c3-4146-adbb-b8cc47c2f403",
   "metadata": {},
   "outputs": [
    {
     "data": {
      "text/plain": [
       "True"
      ]
     },
     "execution_count": 55,
     "metadata": {},
     "output_type": "execute_result"
    }
   ],
   "source": [
    "G.has_node(1)"
   ]
  },
  {
   "cell_type": "code",
   "execution_count": null,
   "id": "fe1c442a-b240-40c8-8b76-d0c560ed0072",
   "metadata": {},
   "outputs": [],
   "source": []
  },
  {
   "cell_type": "markdown",
   "id": "0210150d-849c-45ed-b634-564ff2af5eb4",
   "metadata": {},
   "source": [
    "### Edges\n",
    "We can add edge to the graph"
   ]
  },
  {
   "cell_type": "code",
   "execution_count": 56,
   "id": "7779dd96-d79a-477b-b1f3-472cad5c91c1",
   "metadata": {},
   "outputs": [],
   "source": [
    "G.add_edge(1, 2)\n",
    "e = (2, 3)\n",
    "G.add_edge(*e)  # unpack edge tuple*"
   ]
  },
  {
   "cell_type": "code",
   "execution_count": 57,
   "id": "2a8bf5fb-4365-4890-abc3-eb4236771469",
   "metadata": {},
   "outputs": [],
   "source": [
    "G.add_edges_from([(1, 2), (1, 3)])"
   ]
  },
  {
   "cell_type": "code",
   "execution_count": 58,
   "id": "82feecc2-e2f3-4ed4-9aef-da9774673657",
   "metadata": {},
   "outputs": [
    {
     "data": {
      "text/plain": [
       "EdgeView([(1, 2), (1, 3), (2, 3)])"
      ]
     },
     "execution_count": 58,
     "metadata": {},
     "output_type": "execute_result"
    }
   ],
   "source": [
    "G.edges"
   ]
  },
  {
   "cell_type": "code",
   "execution_count": null,
   "id": "5000df25-1909-4bab-b930-be34213b970b",
   "metadata": {},
   "outputs": [],
   "source": []
  },
  {
   "cell_type": "markdown",
   "id": "7f9e4e5e-c56d-4c5b-8f08-0e31ed7a21af",
   "metadata": {},
   "source": [
    "Check if the graph has the edge"
   ]
  },
  {
   "cell_type": "code",
   "execution_count": 59,
   "id": "e72f20a1-3e20-4d3b-95f5-7992b10ac0d4",
   "metadata": {},
   "outputs": [
    {
     "data": {
      "text/plain": [
       "True"
      ]
     },
     "execution_count": 59,
     "metadata": {},
     "output_type": "execute_result"
    }
   ],
   "source": [
    "G.has_edge(*(1,2))"
   ]
  },
  {
   "cell_type": "code",
   "execution_count": 60,
   "id": "44245467-4ed5-4ba5-b006-8dc44f58d867",
   "metadata": {},
   "outputs": [
    {
     "data": {
      "text/plain": [
       "True"
      ]
     },
     "execution_count": 60,
     "metadata": {},
     "output_type": "execute_result"
    }
   ],
   "source": [
    "G.has_edge(1, 2)"
   ]
  },
  {
   "cell_type": "code",
   "execution_count": 61,
   "id": "0a45b485-b9a6-4e41-b41e-4047fb5bc6f5",
   "metadata": {},
   "outputs": [
    {
     "data": {
      "text/plain": [
       "5"
      ]
     },
     "execution_count": 61,
     "metadata": {},
     "output_type": "execute_result"
    }
   ],
   "source": [
    "G.number_of_nodes()"
   ]
  },
  {
   "cell_type": "code",
   "execution_count": 62,
   "id": "70a2b308-1add-4dbd-ab9b-dcee2790b4b4",
   "metadata": {},
   "outputs": [
    {
     "data": {
      "text/plain": [
       "3"
      ]
     },
     "execution_count": 62,
     "metadata": {},
     "output_type": "execute_result"
    }
   ],
   "source": [
    "G.number_of_edges()"
   ]
  },
  {
   "cell_type": "code",
   "execution_count": null,
   "id": "11f1fd45-c6d5-40c3-af69-767a47637479",
   "metadata": {},
   "outputs": [],
   "source": []
  },
  {
   "cell_type": "markdown",
   "id": "8a9b1d98-2be0-4d8d-a38a-c6480fdc6648",
   "metadata": {},
   "source": [
    "### Examining elements of a graph\n",
    "We can examine the nodes and edges. Four basic graph properties facilitate reporting: `G.nodes`, `G.edges`, `G.adj` and `G.degree`. These are set-like views of the nodes, edges, neighbors (adjacencies), and degrees of nodes in a graph. They offer a continually updated read-only view into the graph structure. They are also dict-like in that you can look up node and edge data attributes via the views and iterate with data attributes using methods .items(), .data(). If you want a specific container type instead of a view, you can specify one. Here we use lists, though sets, dicts, tuples and other containers may be better in other contexts."
   ]
  },
  {
   "cell_type": "code",
   "execution_count": 63,
   "id": "4f2e2ea7-28e7-468d-b73f-ce07914cfc5e",
   "metadata": {},
   "outputs": [
    {
     "data": {
      "text/plain": [
       "[1, 2, 3, 4, 5]"
      ]
     },
     "execution_count": 63,
     "metadata": {},
     "output_type": "execute_result"
    }
   ],
   "source": [
    "list(G.nodes)"
   ]
  },
  {
   "cell_type": "code",
   "execution_count": 64,
   "id": "7034541f-6eb5-4bc2-bbef-3e1fccbfb37c",
   "metadata": {},
   "outputs": [
    {
     "data": {
      "text/plain": [
       "[(1, 2), (1, 3), (2, 3)]"
      ]
     },
     "execution_count": 64,
     "metadata": {},
     "output_type": "execute_result"
    }
   ],
   "source": [
    "list(G.edges)\n"
   ]
  },
  {
   "cell_type": "code",
   "execution_count": null,
   "id": "452a099b-4ece-4e91-9e5c-2776cef8fef5",
   "metadata": {},
   "outputs": [],
   "source": []
  },
  {
   "cell_type": "markdown",
   "id": "b51f951c-16b7-4e78-aa99-ae1820f6d35f",
   "metadata": {},
   "source": [
    "find the adjancent nodes of node 1"
   ]
  },
  {
   "cell_type": "code",
   "execution_count": 65,
   "id": "72f49c2b-57fc-47f5-8f51-36f84c14e7b9",
   "metadata": {},
   "outputs": [
    {
     "data": {
      "text/plain": [
       "[2, 3]"
      ]
     },
     "execution_count": 65,
     "metadata": {},
     "output_type": "execute_result"
    }
   ],
   "source": [
    "list(G.adj[1])  # or list(G.neighbors(1))"
   ]
  },
  {
   "cell_type": "code",
   "execution_count": 66,
   "id": "256f23b9-12f1-42b6-94aa-c025a5e7cf99",
   "metadata": {},
   "outputs": [
    {
     "data": {
      "text/plain": [
       "DegreeView({1: 2, 2: 2, 3: 2, 4: 0, 5: 0})"
      ]
     },
     "execution_count": 66,
     "metadata": {},
     "output_type": "execute_result"
    }
   ],
   "source": [
    "G.degree"
   ]
  },
  {
   "cell_type": "code",
   "execution_count": 67,
   "id": "7e754a71-9339-4c83-8616-c66102625128",
   "metadata": {},
   "outputs": [
    {
     "data": {
      "text/plain": [
       "2"
      ]
     },
     "execution_count": 67,
     "metadata": {},
     "output_type": "execute_result"
    }
   ],
   "source": [
    "# the number of edges incident to 1\n",
    "G.degree[1]"
   ]
  },
  {
   "cell_type": "code",
   "execution_count": null,
   "id": "8c5fc264-3e2f-438d-908d-9b08056c81b6",
   "metadata": {},
   "outputs": [],
   "source": []
  },
  {
   "cell_type": "markdown",
   "id": "a43a48c5-5ed2-4782-9da7-deab4a72e5c2",
   "metadata": {},
   "source": [
    "### Edge Attributes\n",
    "\n",
    "The edge can have different attributes. For example, the road network the edge attribute can be the physical distance. For the social network, the edge attribute can be the relationships. "
   ]
  },
  {
   "cell_type": "code",
   "execution_count": 68,
   "id": "d5a2300f-66c3-42f9-8096-dd7234b136d4",
   "metadata": {},
   "outputs": [],
   "source": [
    "G.add_edge(1, 2, weight=4.7 )\n",
    "G.add_edges_from([(3, 4), (4, 5)], color='red')\n",
    "G.add_edges_from([(1, 2, {'color': 'blue'}), (2, 3, {'weight': 8})])\n",
    "G[1][2]['weight'] = 4.7\n",
    "G.edges[3, 4]['weight'] = 4.2"
   ]
  },
  {
   "cell_type": "code",
   "execution_count": 69,
   "id": "8e379000-b1d6-44c7-8eea-fa0a9a7fca8f",
   "metadata": {},
   "outputs": [
    {
     "data": {
      "text/plain": [
       "[(1, 2), (1, 3), (2, 3), (3, 4), (4, 5)]"
      ]
     },
     "execution_count": 69,
     "metadata": {},
     "output_type": "execute_result"
    }
   ],
   "source": [
    "list(G.edges)"
   ]
  },
  {
   "cell_type": "code",
   "execution_count": 70,
   "id": "f3b6e0e7-abcc-42eb-998a-91115e4cf441",
   "metadata": {},
   "outputs": [
    {
     "data": {
      "text/plain": [
       "{'color': 'red', 'weight': 4.2}"
      ]
     },
     "execution_count": 70,
     "metadata": {},
     "output_type": "execute_result"
    }
   ],
   "source": [
    "G.edges[3, 4]"
   ]
  },
  {
   "cell_type": "code",
   "execution_count": null,
   "id": "73af7bf2-987a-459a-b102-114dce5b8803",
   "metadata": {},
   "outputs": [],
   "source": []
  },
  {
   "cell_type": "markdown",
   "id": "8fac3a71",
   "metadata": {},
   "source": [
    "Let's just create some simple graphs and the draw the edges"
   ]
  },
  {
   "cell_type": "code",
   "execution_count": 71,
   "id": "8f3aa588-e589-4db7-8213-094b35536fcb",
   "metadata": {},
   "outputs": [
    {
     "data": {
      "image/png": "[encoded data removed]",
      "text/plain": [
       "<Figure size 640x480 with 2 Axes>"
      ]
     },
     "metadata": {},
     "output_type": "display_data"
    }
   ],
   "source": [
    "from matplotlib import pyplot as plt\n",
    "\n",
    "G = nx.petersen_graph()\n",
    "subax1 = plt.subplot(121)\n",
    "\n",
    "nx.draw(G, with_labels=True, font_weight='bold')\n",
    "subax2 = plt.subplot(122)\n",
    "nx.draw_shell(G, nlist=[range(5, 10), range(5)], with_labels=True, font_weight='bold')\n"
   ]
  },
  {
   "cell_type": "code",
   "execution_count": null,
   "id": "4c19cb2a-2da9-440d-a17f-0c3bcda81c4c",
   "metadata": {},
   "outputs": [],
   "source": []
  },
  {
   "cell_type": "code",
   "execution_count": 72,
   "id": "79dddeb4-2f57-47eb-9deb-80f97feda7ca",
   "metadata": {},
   "outputs": [
    {
     "data": {
      "image/png": "[encoded data removed]",
      "text/plain": [
       "<Figure size 640x480 with 1 Axes>"
      ]
     },
     "metadata": {},
     "output_type": "display_data"
    }
   ],
   "source": [
    "G = nx.dodecahedral_graph()\n",
    "edges = nx.draw_networkx_edges(G, pos=nx.spring_layout(G))"
   ]
  },
  {
   "cell_type": "code",
   "execution_count": null,
   "id": "501046e6-0e30-4ea9-a02a-7bc918f9f42d",
   "metadata": {},
   "outputs": [],
   "source": []
  },
  {
   "cell_type": "code",
   "execution_count": 73,
   "id": "3fb0eb4b-4316-4759-8200-98937d969b0e",
   "metadata": {},
   "outputs": [
    {
     "data": {
      "image/png": "[encoded data removed]",
      "text/plain": [
       "<Figure size 640x480 with 1 Axes>"
      ]
     },
     "metadata": {},
     "output_type": "display_data"
    }
   ],
   "source": [
    "\n",
    "G.add_edge(1, 2)  # default edge data=1\n",
    "G.add_edge(2, 3)  # specify edge data\n",
    "\n",
    "nx.draw(G, with_labels = True)\n"
   ]
  },
  {
   "cell_type": "code",
   "execution_count": null,
   "id": "ddc742e4-30b3-461c-a991-c0937acea7e6",
   "metadata": {},
   "outputs": [],
   "source": []
  },
  {
   "cell_type": "code",
   "execution_count": 75,
   "id": "56b3914f-6d5e-4151-9e94-f978cc7d2c72",
   "metadata": {},
   "outputs": [],
   "source": [
    "import math\n",
    "G = nx.Graph()\n",
    "G.add_edge('y', 'x', function=math.cos)\n",
    "G.add_node(math.cos)  # any hashable can be a node"
   ]
  },
  {
   "cell_type": "code",
   "execution_count": null,
   "id": "57fb9863-23ad-400a-b2ed-7d39672bc69f",
   "metadata": {},
   "outputs": [],
   "source": []
  },
  {
   "cell_type": "code",
   "execution_count": 76,
   "id": "eec2776d-2b35-4175-9bf8-aead6c48af2b",
   "metadata": {},
   "outputs": [],
   "source": [
    "elist = [(1, 2), (2, 3), (1, 4), (4, 2)]\n",
    "G.add_edges_from(elist)\n",
    "elist = [('a', 'b', 5.0), ('b', 'c', 3.0), ('a', 'c', 1.0), ('c', 'd', 7.3)]\n",
    "G.add_weighted_edges_from(elist)"
   ]
  },
  {
   "cell_type": "code",
   "execution_count": 77,
   "id": "2e4fa847-d6db-4ae3-85e6-d5f1acd0a8a0",
   "metadata": {},
   "outputs": [
    {
     "data": {
      "image/png": "[encoded data removed]",
      "text/plain": [
       "<Figure size 640x480 with 1 Axes>"
      ]
     },
     "metadata": {},
     "output_type": "display_data"
    }
   ],
   "source": [
    "nx.draw(G, with_labels = True)"
   ]
  },
  {
   "cell_type": "code",
   "execution_count": null,
   "id": "03abd9df-5297-4dce-b68d-7b19220b0001",
   "metadata": {},
   "outputs": [],
   "source": []
  },
  {
   "cell_type": "code",
   "execution_count": 78,
   "id": "66ebae65-789a-45f6-914e-f0e7a5969d01",
   "metadata": {},
   "outputs": [],
   "source": [
    "G = nx.Graph()\n",
    "e = [('a', 'b', 0.3), ('b', 'c', 0.9), ('a', 'c', 0.5), ('c', 'd', 1.2)]\n",
    "G.add_weighted_edges_from(e)"
   ]
  },
  {
   "cell_type": "code",
   "execution_count": 79,
   "id": "75086ec0-408c-415b-8c2f-66c8d93cf027",
   "metadata": {},
   "outputs": [
    {
     "data": {
      "image/png": "[encoded data removed]",
      "text/plain": [
       "<Figure size 640x480 with 1 Axes>"
      ]
     },
     "metadata": {},
     "output_type": "display_data"
    }
   ],
   "source": [
    "nx.draw(G, with_labels = True)"
   ]
  },
  {
   "cell_type": "code",
   "execution_count": 81,
   "id": "65fe6941-8b57-4d12-8fa7-589137caade6",
   "metadata": {},
   "outputs": [
    {
     "name": "stdout",
     "output_type": "stream",
     "text": [
      "['a', 'c', 'd']\n"
     ]
    }
   ],
   "source": [
    "print(nx.dijkstra_path(G, 'a', 'd'))"
   ]
  },
  {
   "cell_type": "code",
   "execution_count": null,
   "id": "7e6651e7-54cf-48e8-ac5b-ea7ab8fbc3ab",
   "metadata": {},
   "outputs": [],
   "source": []
  },
  {
   "cell_type": "markdown",
   "id": "86260fa1-170a-49ad-88be-f72516f5a763",
   "metadata": {},
   "source": [
    "### Conduct the network analysis on the road network"
   ]
  },
  {
   "cell_type": "markdown",
   "id": "fc87469b-dac0-4eef-b765-614337d4404e",
   "metadata": {},
   "source": [
    "#### The following functions are inspired from the sourced code of NetworkX [link](https://networkx.org/documentation/networkx-2.4/_modules/networkx/readwrite/nx_shp.html)"
   ]
  },
  {
   "cell_type": "code",
   "execution_count": 82,
   "id": "ac7f25c6-c012-4fd1-88fa-a155c5075298",
   "metadata": {},
   "outputs": [],
   "source": [
    "def edges_from_line(geom, attrs, simplify=True, geom_attrs=True):\n",
    "    \"\"\"\n",
    "    Generate edges for each line in geom\n",
    "    Written as a helper for read_shp\n",
    "\n",
    "    Parameters\n",
    "    ----------\n",
    "    \n",
    "    geom:  ogr line geometry\n",
    "        To be converted into an edge or edges\n",
    "    \n",
    "    attrs:  dict\n",
    "        Attributes to be associated with all geoms\n",
    "\n",
    "    simplify:  bool\n",
    "        If True, simplify the line as in read_shp\n",
    "\n",
    "    geom_attrs:  bool\n",
    "        If True, add geom attributes to edge as in read_shp\n",
    "\n",
    "\n",
    "    Returns\n",
    "    -------\n",
    "     edges:  generator of edges\n",
    "        each edge is a tuple of form\n",
    "        (node1_coord, node2_coord, attribute_dict)\n",
    "        suitable for expanding into a networkx Graph add_edge call\n",
    "    \"\"\"\n",
    "    try:\n",
    "        from osgeo import ogr\n",
    "    except ImportError:\n",
    "        raise ImportError(\"edges_from_line requires OGR: http://www.gdal.org/\")\n",
    "\n",
    "    if geom.GetGeometryType() == ogr.wkbLineString:\n",
    "        if simplify:\n",
    "            edge_attrs = attrs.copy()\n",
    "            last = geom.GetPointCount() - 1\n",
    "            if geom_attrs:\n",
    "                edge_attrs[\"Wkb\"] = geom.ExportToWkb()\n",
    "                edge_attrs[\"Wkt\"] = geom.ExportToWkt()\n",
    "                edge_attrs[\"Json\"] = geom.ExportToJson()\n",
    "            yield (geom.GetPoint_2D(0), geom.GetPoint_2D(last), edge_attrs)\n",
    "        else:\n",
    "            for i in range(0, geom.GetPointCount() - 1):\n",
    "                pt1 = geom.GetPoint_2D(i)\n",
    "                pt2 = geom.GetPoint_2D(i + 1)\n",
    "                edge_attrs = attrs.copy()\n",
    "                if geom_attrs:\n",
    "                    segment = ogr.Geometry(ogr.wkbLineString)\n",
    "                    segment.AddPoint_2D(pt1[0], pt1[1])\n",
    "                    segment.AddPoint_2D(pt2[0], pt2[1])\n",
    "                    edge_attrs[\"Wkb\"] = segment.ExportToWkb()\n",
    "                    edge_attrs[\"Wkt\"] = segment.ExportToWkt()\n",
    "                    edge_attrs[\"Json\"] = segment.ExportToJson()\n",
    "                    del segment\n",
    "                yield (pt1, pt2, edge_attrs)\n",
    "\n",
    "    elif geom.GetGeometryType() == ogr.wkbMultiLineString:\n",
    "        for i in range(geom.GetGeometryCount()):\n",
    "            geom_i = geom.GetGeometryRef(i)\n",
    "            for edge in edges_from_line(geom_i, attrs, simplify, geom_attrs):\n",
    "                yield edge"
   ]
  },
  {
   "cell_type": "code",
   "execution_count": null,
   "id": "d222b796-ab6a-4832-91bb-dab3bb5de62c",
   "metadata": {},
   "outputs": [],
   "source": []
  },
  {
   "cell_type": "code",
   "execution_count": 83,
   "id": "dadf5e31-8557-4ce4-9045-18744003f0f8",
   "metadata": {},
   "outputs": [],
   "source": [
    "\n",
    "def read_shp(path, simplify=True, geom_attrs=True, strict=True):\n",
    "    \"\"\"Generates a networkx.DiGraph from shapefiles. Point geometries are\n",
    "    translated into nodes, lines into edges. Coordinate tuples are used as\n",
    "    keys. Attributes are preserved, line geometries are simplified into start\n",
    "    and end coordinates. Accepts a single shapefile or directory of many\n",
    "    shapefiles.\n",
    "\n",
    "    \"The Esri Shapefile or simply a shapefile is a popular geospatial vector\n",
    "    data format for geographic information systems software [1]_.\"\n",
    "\n",
    "    Parameters\n",
    "    ----------\n",
    "    path : file or string\n",
    "       File, directory, or filename to read.\n",
    "\n",
    "    simplify:  bool\n",
    "        If True, simplify line geometries to start and end coordinates.\n",
    "        If False, and line feature geometry has multiple segments, the\n",
    "        non-geometric attributes for that feature will be repeated for each\n",
    "        edge comprising that feature.\n",
    "\n",
    "    geom_attrs: bool\n",
    "        If True, include the Wkb, Wkt and Json geometry attributes with\n",
    "        each edge.\n",
    "\n",
    "        NOTE:  if these attributes are available, write_shp will use them\n",
    "        to write the geometry.  If nodes store the underlying coordinates for\n",
    "        the edge geometry as well (as they do when they are read via\n",
    "        this method) and they change, your geomety will be out of sync.\n",
    "\n",
    "    strict: bool\n",
    "        If True, raise NetworkXError when feature geometry is missing or\n",
    "        GeometryType is not supported.\n",
    "        If False, silently ignore missing or unsupported geometry in features.\n",
    "\n",
    "    Returns\n",
    "    -------\n",
    "    G : NetworkX graph\n",
    "\n",
    "    Raises\n",
    "    ------\n",
    "    ImportError\n",
    "       If ogr module is not available.\n",
    "\n",
    "    RuntimeError\n",
    "       If file cannot be open or read.\n",
    "\n",
    "    NetworkXError\n",
    "       If strict=True and feature is missing geometry or GeometryType is\n",
    "       not supported.\n",
    "\n",
    "    Examples\n",
    "    --------\n",
    "    >>> G=nx.read_shp('test.shp') # doctest: +SKIP\n",
    "\n",
    "    References\n",
    "    ----------\n",
    "    .. [1] https://en.wikipedia.org/wiki/Shapefile\n",
    "    \"\"\"\n",
    "    try:\n",
    "        from osgeo import ogr\n",
    "    except ImportError:\n",
    "        raise ImportError(\"read_shp requires OGR: http://www.gdal.org/\")\n",
    "\n",
    "    if not isinstance(path, str):\n",
    "        return\n",
    "\n",
    "    net = nx.DiGraph()\n",
    "    shp = ogr.Open(path)\n",
    "    if shp is None:\n",
    "        raise RuntimeError(\"Unable to open {}\".format(path))\n",
    "    for lyr in shp:\n",
    "        fields = [x.GetName() for x in lyr.schema]\n",
    "        for f in lyr:\n",
    "            g = f.geometry()\n",
    "            if g is None:\n",
    "                if strict:\n",
    "                    raise nx.NetworkXError(\"Bad data: feature missing geometry\")\n",
    "                else:\n",
    "                    continue\n",
    "            flddata = [f.GetField(f.GetFieldIndex(x)) for x in fields]\n",
    "            attributes = dict(zip(fields, flddata))\n",
    "            attributes[\"ShpName\"] = lyr.GetName()\n",
    "            # Note:  Using layer level geometry type\n",
    "            if g.GetGeometryType() == ogr.wkbPoint:\n",
    "                net.add_node((g.GetPoint_2D(0)), **attributes)\n",
    "            elif g.GetGeometryType() in (ogr.wkbLineString,\n",
    "                                         ogr.wkbMultiLineString):\n",
    "                for edge in edges_from_line(g, attributes, simplify,\n",
    "                                            geom_attrs):\n",
    "                    e1, e2, attr = edge\n",
    "                    net.add_edge(e1, e2)\n",
    "                    net[e1][e2].update(attr)\n",
    "            else:\n",
    "                if strict:\n",
    "                    raise nx.NetworkXError(\"GeometryType {} not supported\".\n",
    "                                           format(g.GetGeometryType()))\n",
    "\n",
    "    return net\n"
   ]
  },
  {
   "cell_type": "code",
   "execution_count": null,
   "id": "a905a080-df5e-4fa2-9c6b-ef39fcea2e6b",
   "metadata": {},
   "outputs": [],
   "source": []
  },
  {
   "cell_type": "code",
   "execution_count": 84,
   "id": "a6c4643d-0859-401d-9286-1e8c60d56d84",
   "metadata": {},
   "outputs": [],
   "source": [
    "import os, os.path\n",
    "import fiona\n",
    "from shapely.geometry import shape\n",
    "\n",
    "\n",
    "def connected_component_subgraphs(G):\n",
    "    for c in nx.connected_components(G):\n",
    "        yield G.subgraph(c)\n",
    "\n",
    "\n",
    "## Using Networkx2.3 or earlier version\n",
    "def getNetworkGraph(segments,segmentlengths):\n",
    "    \"\"\"\n",
    "    Builds a networkx graph from the network file, inluding segment length taken from arcpy.\n",
    "    It selects the largest connected component of the network (to prevent errors from routing between unconnected parts)\n",
    "    \"\"\"\n",
    "    \n",
    "    import networkx as nx\n",
    "    \n",
    "    #generate the full network path for GDAL to be able to read the file\n",
    "    path = segments # use absolute root\n",
    "    print (path)\n",
    "    \n",
    "    if os.path.exists(path):\n",
    "        g = read_shp(path)\n",
    "        \n",
    "        #This selects the largest connected component of the graph\n",
    "        #sg = list(nx.connected_component_subgraphs(g.to_undirected()))[0] #before version 2.3\n",
    "        sg = list(connected_component_subgraphs(g.to_undirected()))[0] ## new version\n",
    "        \n",
    "        print (\"graph size (excluding unconnected parts): \"+str(len(g)))\n",
    "        \n",
    "        # Get the length for each road segment and append it as an attribute to the edges in the graph.\n",
    "        for n0, n1 in sg.edges():\n",
    "            oid = sg[n0][n1][\"objectid\"] #osm_id\n",
    "            sg[n0][n1]['length'] = segmentlengths[oid]\n",
    "            sg[n0][n1]['fid'] = oid\n",
    "#             print(sg)\n",
    "        return sg\n",
    "    else:\n",
    "        print (\"network file not found on path: \"+path)\n",
    "\n",
    "\n",
    "def getSegmentInfo(segments):\n",
    "    \"\"\"\n",
    "    Builds a dictionary for looking up endpoints of network segments (needed only\n",
    "    because networkx graph identifies edges by nodes)\n",
    "    \"\"\"\n",
    "    \n",
    "    # import os, os.path\n",
    "    # import fiona\n",
    "    # from shapely.geometry import shape, mapping\n",
    "    \n",
    "    if os.path.exists(segments):\n",
    "        endpoints = {}\n",
    "        segmentlengths = {}\n",
    "        street_lyr = fiona.open(streetMap, 'r')\n",
    "        \n",
    "        for idx, feat in enumerate(street_lyr):\n",
    "            geom = feat['geometry']\n",
    "            coord = geom['coordinates']\n",
    "            feat_id = feat['properties']['objectid'] #osm_id\n",
    "            length = shape(geom).length\n",
    "            \n",
    "            if idx % 10000 == 0: print('The osmid and length are:', idx, feat_id, length)\n",
    "            \n",
    "            # first point and the last point\n",
    "            endpoints[feat_id] = ((coord[0][0], coord[0][1]), (coord[-1][0], coord[-1][1]))\n",
    "            segmentlengths[feat_id] = length\n",
    "            \n",
    "        print (\"Number of segments: \"+ str(len(endpoints)))\n",
    "        return (endpoints, segmentlengths)\n",
    "    else:\n",
    "        print (\"segment file does not exist!\")\n",
    "\n",
    "\n",
    "def buildNetwork(segments):\n",
    "    #build network graph (graph, endpoints, lengths) and get segment info\n",
    "    r = getSegmentInfo(segments)\n",
    "    endpoints = r[0]\n",
    "    lengths = r[1]\n",
    "    graph = getNetworkGraph(segments,lengths)\n",
    "    \n",
    "    return [endpoints, lengths, graph]"
   ]
  },
  {
   "cell_type": "markdown",
   "id": "c47136e1",
   "metadata": {},
   "source": [
    "We can create the graph from the shapefile. You can download the sidewalk shapefile from [here](data/sidewalk.zip). "
   ]
  },
  {
   "cell_type": "code",
   "execution_count": null,
   "id": "1435fbbd-de11-488a-8bbc-ec4224bef698",
   "metadata": {},
   "outputs": [],
   "source": [
    "streetMap = 'data/sidewalk.shp'\n",
    "\n",
    "[endpoints, lengths, graph] = buildNetwork(streetMap)"
   ]
  },
  {
   "cell_type": "markdown",
   "id": "ff60db06",
   "metadata": {},
   "source": [
    "Here we use two endpoints of the sidewalk graph as the origin and destination."
   ]
  },
  {
   "cell_type": "code",
   "execution_count": 40,
   "id": "3a53997b-3c33-49f2-b7a6-b062f4766370",
   "metadata": {},
   "outputs": [],
   "source": [
    "s1_point = (2674629.019778946, 233887.42317315526)\n",
    "s2_point = (2676819.994840707, 233998.8937345071)\n",
    "\n",
    "#Compute a shortest path (using segment length) on graph where segment endpoints are nodes and segments are (undirected) edges\n",
    "if graph.has_node(s1_point) and graph.has_node(s2_point):\n",
    "    dist = nx.shortest_path_length(graph, s1_point, s2_point, weight='length')\n",
    "    path = nx.shortest_path(graph, s1_point, s2_point, weight='length')"
   ]
  },
  {
   "cell_type": "code",
   "execution_count": 85,
   "id": "d998ffc3-2896-4eee-97c5-12b22c7de66c",
   "metadata": {},
   "outputs": [
    {
     "data": {
      "text/plain": [
       "(2239.187257781493,\n",
       " [(2674629.019778946, 233887.42317315526),\n",
       "  (2675063.484593347, 233895.2384052628),\n",
       "  (2675115.2077349196, 233892.43677666123),\n",
       "  (2675131.3505460056, 233892.1815988601),\n",
       "  (2675157.64553571, 233891.76624855347),\n",
       "  (2675194.6822983907, 233894.80562187612),\n",
       "  (2675558.573598633, 233899.59502712416),\n",
       "  (2675613.0183556173, 233905.90717337467),\n",
       "  (2675630.2018974577, 233911.72542009607),\n",
       "  (2675651.2510666423, 233903.49926487225),\n",
       "  (2675728.5513929822, 233904.42103680802),\n",
       "  (2675735.165564337, 233913.50363536438),\n",
       "  (2675973.666402716, 233913.2098672439),\n",
       "  (2676051.848300272, 233914.85865282876),\n",
       "  (2676233.1438519773, 233925.74859682945),\n",
       "  (2676240.7664461, 233911.12548257585),\n",
       "  (2676257.4528208617, 233898.6908843843),\n",
       "  (2676265.9243400875, 233894.33221573415),\n",
       "  (2676308.2581279846, 233915.78094614836),\n",
       "  (2676310.4227480562, 233924.97806112084),\n",
       "  (2676809.520503303, 234003.31260332352),\n",
       "  (2676819.994840707, 233998.8937345071)])"
      ]
     },
     "execution_count": 85,
     "metadata": {},
     "output_type": "execute_result"
    }
   ],
   "source": [
    "dist, path"
   ]
  },
  {
   "cell_type": "code",
   "execution_count": null,
   "id": "7c3bef67-393d-403a-90ec-35411c839487",
   "metadata": {},
   "outputs": [],
   "source": []
  },
  {
   "cell_type": "markdown",
   "id": "71590ca8-2edd-4f46-9a35-da9a19137464",
   "metadata": {},
   "source": [
    "#### Get the shortest distance and also the path of the shortest distance"
   ]
  },
  {
   "cell_type": "code",
   "execution_count": 86,
   "id": "fc44181c-ea6d-4b34-946b-daaf0edf294a",
   "metadata": {},
   "outputs": [
    {
     "name": "stdout",
     "output_type": "stream",
     "text": [
      "oid path:[67, 101354, 153614, 136348, 99194, 119948, 83281, 112093, 158108, 91137, 180777, 175219, 80366, 179855, 155287, 99997, 115588, 75881, 177392, 125590, 163167]\n"
     ]
    }
   ],
   "source": [
    "#Compute a shortest path (using segment length) on graph where segment endpoints are nodes and segments are (undirected) edges\n",
    "if graph.has_node(s1_point) and graph.has_node(s2_point):\n",
    "    dist = nx.shortest_path_length(graph, s1_point, s2_point, weight='length')\n",
    "    path = nx.shortest_path(graph, s1_point, s2_point, weight='length')\n",
    "    #get path edges\n",
    "    path_edges = zip(path,path[1:])\n",
    "    #print \"edges: \"+str(path_edges)\n",
    "    subpath = []\n",
    "    # get object ids for path edges\n",
    "    for e in path_edges:\n",
    "        oid = graph[e[0]][e[1]][\"objectid\"]\n",
    "        subpath.append(oid)\n",
    "    print (\"oid path:\"+str(subpath))"
   ]
  },
  {
   "cell_type": "code",
   "execution_count": 87,
   "id": "7ab836eb-d33f-46c3-80f2-597e46a60e83",
   "metadata": {},
   "outputs": [
    {
     "name": "stdout",
     "output_type": "stream",
     "text": [
      "(2674629.019778946, 233887.42317315526)\n",
      "(2675063.484593347, 233895.2384052628)\n",
      "(2677370.9139951007, 234099.03786372015)\n",
      "(2677331.098267104, 234139.85190359864)\n",
      "(2676819.994840707, 233998.8937345071)\n",
      "(2676874.8400247567, 234004.04994090827)\n",
      "(2677398.8984584543, 234090.96045311925)\n",
      "(2677452.6642256537, 234098.92121608992)\n",
      "(2677418.0230016173, 234179.81781638178)\n",
      "(2677382.3291674173, 234191.45753613432)\n",
      "(2676893.9161705, 233916.11122627818)\n"
     ]
    }
   ],
   "source": [
    "for idx, node in enumerate(graph.nodes):\n",
    "    if idx >10: continue\n",
    "    print(node)"
   ]
  },
  {
   "cell_type": "code",
   "execution_count": 89,
   "id": "589406ba-c8fc-4a8f-852c-92bc170e1c6a",
   "metadata": {},
   "outputs": [],
   "source": [
    "s1_point = (2675063.484593347, 233895.2384052628)\n",
    "s2_point = (2688743.6504137763, 232314.04444539145)"
   ]
  },
  {
   "cell_type": "code",
   "execution_count": 88,
   "id": "f3519c2f-4c00-4b9b-9cae-2c65233ba569",
   "metadata": {},
   "outputs": [
    {
     "data": {
      "text/plain": [
       "True"
      ]
     },
     "execution_count": 88,
     "metadata": {},
     "output_type": "execute_result"
    }
   ],
   "source": [
    "graph.has_node(s1_point)"
   ]
  },
  {
   "cell_type": "code",
   "execution_count": 90,
   "id": "7a493eb9-7b0f-4b5c-a996-4726ef338c10",
   "metadata": {},
   "outputs": [
    {
     "data": {
      "text/plain": [
       "True"
      ]
     },
     "execution_count": 90,
     "metadata": {},
     "output_type": "execute_result"
    }
   ],
   "source": [
    "graph.has_node(s2_point)"
   ]
  },
  {
   "cell_type": "code",
   "execution_count": null,
   "id": "0a2309e0-86b4-4fa2-ab0a-058034223d2f",
   "metadata": {},
   "outputs": [],
   "source": []
  },
  {
   "cell_type": "code",
   "execution_count": 91,
   "id": "8f01ed6d-460a-4439-9509-eb113dbda526",
   "metadata": {},
   "outputs": [],
   "source": [
    "dist = nx.shortest_path_length(graph, s1_point, s2_point, weight='length')\n",
    "path = nx.shortest_path(graph, s1_point, s2_point, weight='length')"
   ]
  },
  {
   "cell_type": "code",
   "execution_count": null,
   "id": "bfa7a387-130b-4894-b14b-c8fdcacddc74",
   "metadata": {},
   "outputs": [],
   "source": []
  },
  {
   "cell_type": "code",
   "execution_count": 92,
   "id": "674cf89b-1364-4d4a-a07c-e087151b39cb",
   "metadata": {},
   "outputs": [
    {
     "data": {
      "text/plain": [
       "16415.891881111354"
      ]
     },
     "execution_count": 92,
     "metadata": {},
     "output_type": "execute_result"
    }
   ],
   "source": [
    "dist"
   ]
  },
  {
   "cell_type": "code",
   "execution_count": 55,
   "id": "b991b480-5902-4590-a215-fd71b767780d",
   "metadata": {},
   "outputs": [
    {
     "data": {
      "text/plain": [
       "[(2675063.484593347, 233895.2384052628),\n",
       " (2675115.2077349196, 233892.43677666123),\n",
       " (2675131.3505460056, 233892.1815988601),\n",
       " (2675157.64553571, 233891.76624855347),\n",
       " (2675194.6822983907, 233894.80562187612),\n",
       " (2675558.573598633, 233899.59502712416),\n",
       " (2675613.0183556173, 233905.90717337467),\n",
       " (2675630.2018974577, 233911.72542009607),\n",
       " (2675651.2510666423, 233903.49926487225),\n",
       " (2675728.5513929822, 233904.42103680802),\n",
       " (2675735.165564337, 233913.50363536438),\n",
       " (2675973.666402716, 233913.2098672439),\n",
       " (2676051.848300272, 233914.85865282876),\n",
       " (2676233.1438519773, 233925.74859682945),\n",
       " (2676240.7664461, 233911.12548257585),\n",
       " (2676257.4528208617, 233898.6908843843),\n",
       " (2676265.9243400875, 233894.33221573415),\n",
       " (2676308.2581279846, 233915.78094614836),\n",
       " (2676310.4227480562, 233924.97806112084),\n",
       " (2676809.520503303, 234003.31260332352),\n",
       " (2676819.994840707, 233998.8937345071),\n",
       " (2676874.8400247567, 234004.04994090827),\n",
       " (2676874.064745394, 234014.15348545252),\n",
       " (2676957.813333418, 234023.46448996506),\n",
       " (2677007.2955817403, 234029.95908470638),\n",
       " (2677370.9139951007, 234099.03786372015),\n",
       " (2677398.8984584543, 234090.96045311925),\n",
       " (2677452.6642256537, 234098.92121608992),\n",
       " (2677454.941419613, 234111.02728595326),\n",
       " (2677907.0137035456, 234185.17733252712),\n",
       " (2677932.2420339272, 234242.0282067263),\n",
       " (2677941.3842299017, 234255.36684626815),\n",
       " (2677990.141920403, 234261.8616053579),\n",
       " (2678005.2040250394, 234254.34261407817),\n",
       " (2678527.927399018, 234343.59434335225),\n",
       " (2678534.8443517126, 234353.0832785276),\n",
       " (2678575.5627107075, 234361.6010977371),\n",
       " (2678585.3282965315, 234353.83500047328),\n",
       " (2678846.310453198, 234397.02691518224),\n",
       " (2678887.2252412294, 234403.8263951464),\n",
       " (2679088.0142569984, 234445.11230064248),\n",
       " (2679084.916992422, 234463.0033843295),\n",
       " (2679110.9364222256, 234503.63877807587),\n",
       " (2679119.031203387, 234508.44703937852),\n",
       " (2679161.630812761, 234506.2541478733),\n",
       " (2679167.725321452, 234500.00931735014),\n",
       " (2679411.514545877, 234502.76658634288),\n",
       " (2679444.6865912573, 234505.75490665063),\n",
       " (2679457.7385895746, 234501.22096371316),\n",
       " (2679670.8238325035, 234537.05839798946),\n",
       " (2679691.223058482, 234549.1421311993),\n",
       " (2679735.7623356427, 234554.34492353565),\n",
       " (2679753.333471439, 234550.81966564266),\n",
       " (2679877.025557437, 234576.12110668348),\n",
       " (2680168.239846406, 234628.83797003972),\n",
       " (2680208.733640359, 234636.4052490283),\n",
       " (2680216.8301490014, 234630.23136584464),\n",
       " (2680723.5722291935, 234748.62329798038),\n",
       " (2680727.7798782215, 234752.85957966626),\n",
       " (2680769.5750580714, 234766.45033323587),\n",
       " (2680774.52217293, 234763.60728424237),\n",
       " (2681152.802792656, 234847.33014804224),\n",
       " (2681302.687449447, 234856.50998220246),\n",
       " (2681306.6252149055, 234863.98715456706),\n",
       " (2681357.123331068, 234865.32915489745),\n",
       " (2681362.210264231, 234861.15897282277),\n",
       " (2681692.1215955643, 234886.4181370486),\n",
       " (2681699.355624311, 234894.39671735794),\n",
       " (2681736.5442193267, 234895.59133949786),\n",
       " (2681745.715213006, 234890.37457753514),\n",
       " (2682066.7968359203, 234915.0260280753),\n",
       " (2682333.112356359, 234935.90829843114),\n",
       " (2682348.7610627725, 234942.76536287944),\n",
       " (2682387.0749724396, 234943.90924178105),\n",
       " (2682392.96649399, 234940.45891116298),\n",
       " (2682967.788370863, 234978.88946004419),\n",
       " (2682995.7552366946, 234973.75627360333),\n",
       " (2683002.1594804395, 234959.65170422112),\n",
       " (2683371.526776604, 234850.29003378446),\n",
       " (2683448.666176682, 235097.16829136465),\n",
       " (2683497.606516197, 235395.38814054022),\n",
       " (2683530.8800540864, 235392.1465222744),\n",
       " (2683574.2342847297, 235388.95462271638),\n",
       " (2683589.7387387, 235402.76356023492),\n",
       " (2684083.5089586717, 235346.60231169572),\n",
       " (2684635.3308200566, 235277.55478697235),\n",
       " (2685373.557770412, 235172.01081611312),\n",
       " (2685383.0665468746, 235164.64807134375),\n",
       " (2685418.501619694, 235156.4882973923),\n",
       " (2685425.213920341, 235161.03703511806),\n",
       " (2685593.112400591, 235134.0114814397),\n",
       " (2685597.1667276775, 235127.75097808542),\n",
       " (2685647.637742642, 235112.5096627914),\n",
       " (2685663.546551098, 235114.8701428145),\n",
       " (2686191.5867158985, 234645.771882989),\n",
       " (2686195.8975672983, 234628.9907206273),\n",
       " (2686228.4587320555, 234597.17336507412),\n",
       " (2686248.6786997677, 234595.83923046888),\n",
       " (2686742.151375865, 234166.48874183433),\n",
       " (2686761.5286288843, 234131.61591230836),\n",
       " (2686805.809617109, 234090.8638000553),\n",
       " (2686852.0284037506, 234073.57574945263),\n",
       " (2687182.643957702, 233780.50315164228),\n",
       " (2687354.7748588067, 233669.4651945763),\n",
       " (2687379.7572525633, 233661.7946223563),\n",
       " (2687400.235589389, 233662.99080785774),\n",
       " (2687742.9475660105, 233614.50791171848),\n",
       " (2687751.196016693, 233597.2696205356),\n",
       " (2687802.298103555, 233589.14866995855),\n",
       " (2687810.2430023956, 233610.0165433152),\n",
       " (2687935.76011087, 233591.8050653929),\n",
       " (2687898.219488951, 233311.907332479),\n",
       " (2687916.218319036, 233309.81716483322),\n",
       " (2688047.540972163, 233291.80922577917),\n",
       " (2688065.902964053, 233289.07701865683),\n",
       " (2688204.129894759, 233270.86976774325),\n",
       " (2688225.311872064, 233268.41684603435),\n",
       " (2688710.8177772593, 233200.5747280974),\n",
       " (2688709.904579304, 233167.68030699),\n",
       " (2688713.21728898, 233165.75554342783),\n",
       " (2688744.986548535, 233161.97593939138),\n",
       " (2688749.0910898466, 233163.85052149036),\n",
       " (2688768.992373024, 233161.15889029673),\n",
       " (2688773.1297168243, 233155.87251426547),\n",
       " (2688824.3337859195, 233146.27006329867),\n",
       " (2688861.746836447, 233144.54630401186),\n",
       " (2688838.4949222845, 232998.77472394655),\n",
       " (2688835.4173997133, 232978.89330074197),\n",
       " (2688819.8523215735, 232835.94391950782),\n",
       " (2688806.3193665748, 232828.05758166913),\n",
       " (2688803.239877881, 232797.72623907388),\n",
       " (2688812.8167634537, 232786.2595300599),\n",
       " (2688797.5320008136, 232723.42268666055),\n",
       " (2688796.2936263853, 232714.0122307466),\n",
       " (2688772.4540506476, 232539.2425137284),\n",
       " (2688770.3982452843, 232529.83159415305),\n",
       " (2688768.163860336, 232464.2878029931),\n",
       " (2688760.476848694, 232457.2906648712),\n",
       " (2688757.6035582, 232426.01925449946),\n",
       " (2688761.358278947, 232419.1750672862),\n",
       " (2688751.714564611, 232370.7019925957),\n",
       " (2688750.164769101, 232360.17349556973),\n",
       " (2688748.699462584, 232348.2935739961),\n",
       " (2688743.6504137763, 232314.04444539145)]"
      ]
     },
     "execution_count": 55,
     "metadata": {},
     "output_type": "execute_result"
    }
   ],
   "source": [
    "path"
   ]
  },
  {
   "cell_type": "code",
   "execution_count": null,
   "id": "e71d128a-823c-4126-99a5-051935dad458",
   "metadata": {},
   "outputs": [],
   "source": []
  },
  {
   "cell_type": "markdown",
   "id": "c9cf080f-45a7-4956-bcb8-ea3bf38f67bf",
   "metadata": {},
   "source": [
    "### create the shapefile based on the path\n",
    "\n",
    "We have the path, we can create the shapefile based on the path."
   ]
  },
  {
   "cell_type": "code",
   "execution_count": 95,
   "id": "4c1143b6-95aa-4e86-9642-ef3d13964d75",
   "metadata": {},
   "outputs": [],
   "source": [
    "layer = fiona.open(streetMap)\n",
    "crs = layer.crs\n",
    "# schema = layer.schema"
   ]
  },
  {
   "cell_type": "code",
   "execution_count": 96,
   "id": "28da249f-daa2-44f5-9d00-68395667dfbb",
   "metadata": {},
   "outputs": [],
   "source": [
    "schema = {'properties': {\n",
    "                        'fid': 'str'\n",
    "                        },\n",
    "         'geometry': 'LineString'\n",
    "         }"
   ]
  },
  {
   "cell_type": "code",
   "execution_count": 59,
   "id": "058c26f9-82bf-47b5-9235-66ff0788b78e",
   "metadata": {},
   "outputs": [],
   "source": [
    "from shapely.geometry import shape, mapping\n",
    "from shapely.geometry import LineString, Point\n",
    "\n",
    "with fiona.open('outname.shp', 'w', crs = crs, driver='ESRI Shapefile', schema = schema) as out:\n",
    "    for i in range(len(path) - 1):\n",
    "        node1 = path[i]\n",
    "        node2 = path[i+1]\n",
    "        \n",
    "        line = LineString((Point(node1), Point(node2)))\n",
    "        \n",
    "        feat = {\n",
    "                'geometry': mapping(line), \n",
    "               'properties': \n",
    "                        {'fid': i}\n",
    "               }\n",
    "        out.write(feat)\n"
   ]
  },
  {
   "cell_type": "code",
   "execution_count": null,
   "id": "ea327a27-9d7a-432d-9a0f-2f6b5e3473c8",
   "metadata": {},
   "outputs": [],
   "source": []
  },
  {
   "cell_type": "markdown",
   "id": "ed849cb5-1dd9-4d2d-bbb0-0c7521d4baf9",
   "metadata": {},
   "source": [
    "#### Find the nearest node of any input point\n",
    "\n",
    "You may wonder, what if the origin and destination node are not in the graph. How do we calculate the shortest distance and find the shortest path? We can snap those points to the nearest nodes in the graph. The following scripts can help you find the nearest node of any input point."
   ]
  },
  {
   "cell_type": "markdown",
   "id": "5914305a-5f72-457e-9b9d-beebd831831e",
   "metadata": {},
   "source": [
    "we can loop and see all the ndoes"
   ]
  },
  {
   "cell_type": "code",
   "execution_count": 60,
   "id": "ecdee129-5719-4f15-8c8a-47d038d26675",
   "metadata": {},
   "outputs": [
    {
     "name": "stdout",
     "output_type": "stream",
     "text": [
      "(2674629.019778946, 233887.42317315526)\n",
      "(2675063.484593347, 233895.2384052628)\n",
      "(2677370.9139951007, 234099.03786372015)\n",
      "(2677331.098267104, 234139.85190359864)\n",
      "(2676819.994840707, 233998.8937345071)\n",
      "(2676874.8400247567, 234004.04994090827)\n",
      "(2677398.8984584543, 234090.96045311925)\n",
      "(2677452.6642256537, 234098.92121608992)\n",
      "(2677418.0230016173, 234179.81781638178)\n",
      "(2677382.3291674173, 234191.45753613432)\n",
      "(2676893.9161705, 233916.11122627818)\n"
     ]
    }
   ],
   "source": [
    "for idx, node in enumerate(graph.nodes):\n",
    "    if idx >10: continue\n",
    "    print(node)"
   ]
  },
  {
   "cell_type": "code",
   "execution_count": null,
   "id": "5f17ea72-5c02-4d5f-851f-c2efe427e44b",
   "metadata": {},
   "outputs": [],
   "source": []
  },
  {
   "cell_type": "markdown",
   "id": "a7ba3164-0808-4c3f-89df-b7362599bab6",
   "metadata": {},
   "source": [
    "Numpy is very efficient for indexing and computing, we going to turn the coordinates of nodes into numpy arrays."
   ]
  },
  {
   "cell_type": "code",
   "execution_count": 97,
   "id": "86f10778-565d-4ca3-bd6a-53895fbbc962",
   "metadata": {},
   "outputs": [],
   "source": [
    "import numpy as np\n",
    "\n",
    "nodelist = list(graph.nodes)\n",
    "node_array = np.array(nodelist)"
   ]
  },
  {
   "cell_type": "code",
   "execution_count": 98,
   "id": "4683b37c-49ed-44c6-a575-98935825751a",
   "metadata": {},
   "outputs": [
    {
     "data": {
      "text/plain": [
       "(88516, 2)"
      ]
     },
     "execution_count": 98,
     "metadata": {},
     "output_type": "execute_result"
    }
   ],
   "source": [
    "node_array.shape"
   ]
  },
  {
   "cell_type": "code",
   "execution_count": 99,
   "id": "f379d992-fe38-4bda-897a-069f915c973f",
   "metadata": {},
   "outputs": [
    {
     "data": {
      "text/plain": [
       "array([2674629.01977895,  233887.42317316])"
      ]
     },
     "execution_count": 99,
     "metadata": {},
     "output_type": "execute_result"
    }
   ],
   "source": [
    "node_array[0,:]"
   ]
  },
  {
   "cell_type": "markdown",
   "id": "a86c870c-1302-4298-8614-b29d305a8ddc",
   "metadata": {},
   "source": [
    "Specify any point with x, and y in the study area"
   ]
  },
  {
   "cell_type": "code",
   "execution_count": 100,
   "id": "d4dd8054-9966-48e8-99a5-5366bee048ad",
   "metadata": {},
   "outputs": [],
   "source": [
    "anypnt = (2675067.484593347, 233893.2384052628)"
   ]
  },
  {
   "cell_type": "code",
   "execution_count": null,
   "id": "e99c9f77-2780-4f9f-bcb6-0c1b794704df",
   "metadata": {},
   "outputs": [],
   "source": []
  },
  {
   "cell_type": "markdown",
   "id": "be50b20d-03b2-4de5-b519-a1bb9cc2f4f0",
   "metadata": {},
   "source": [
    "calculate the absolute difference of the anypoint to all the nodes in the graph"
   ]
  },
  {
   "cell_type": "code",
   "execution_count": 101,
   "id": "2ec682d5-7a51-4184-b631-4070ccd31907",
   "metadata": {},
   "outputs": [],
   "source": [
    "abs_diff = np.abs(anypnt - node_array)"
   ]
  },
  {
   "cell_type": "code",
   "execution_count": 102,
   "id": "04e54e9e-de36-4c3c-a9ea-dd277cda823f",
   "metadata": {},
   "outputs": [
    {
     "data": {
      "text/plain": [
       "(88516, 2)"
      ]
     },
     "execution_count": 102,
     "metadata": {},
     "output_type": "execute_result"
    }
   ],
   "source": [
    "abs_diff.shape"
   ]
  },
  {
   "cell_type": "markdown",
   "id": "c41c7f78-f6d2-467a-9463-11ac6e1c804c",
   "metadata": {},
   "source": [
    "we will sum the x, and y for each node."
   ]
  },
  {
   "cell_type": "code",
   "execution_count": 103,
   "id": "9099dec6-85d1-492c-a675-c2bab73d3680",
   "metadata": {},
   "outputs": [
    {
     "data": {
      "text/plain": [
       "(88516,)"
      ]
     },
     "execution_count": 103,
     "metadata": {},
     "output_type": "execute_result"
    }
   ],
   "source": [
    "abs_diff_sum = np.sum(abs_diff, 1)\n",
    "abs_diff_sum.shape"
   ]
  },
  {
   "cell_type": "markdown",
   "id": "9d0bac72-be8f-4117-8056-909e9d2fde7b",
   "metadata": {},
   "source": [
    "we can easily find the index of the minimum value"
   ]
  },
  {
   "cell_type": "code",
   "execution_count": 104,
   "id": "7ba4782e-4282-4248-9522-9bd2d08d2f97",
   "metadata": {},
   "outputs": [
    {
     "data": {
      "text/plain": [
       "1"
      ]
     },
     "execution_count": 104,
     "metadata": {},
     "output_type": "execute_result"
    }
   ],
   "source": [
    "index = abs_diff_sum.argmin()\n",
    "index"
   ]
  },
  {
   "cell_type": "markdown",
   "id": "66b8072c",
   "metadata": {},
   "source": [
    "we can find the coordinate of the nearest node"
   ]
  },
  {
   "cell_type": "code",
   "execution_count": 105,
   "id": "88024d21-c9f0-49ce-8b03-99690e8ae338",
   "metadata": {},
   "outputs": [
    {
     "data": {
      "text/plain": [
       "(2675063.484593347, 233895.2384052628)"
      ]
     },
     "execution_count": 105,
     "metadata": {},
     "output_type": "execute_result"
    }
   ],
   "source": [
    "nodelist[1]"
   ]
  },
  {
   "cell_type": "code",
   "execution_count": 106,
   "id": "4696d393-aeb0-49b0-82c2-e00188212adc",
   "metadata": {},
   "outputs": [
    {
     "data": {
      "text/plain": [
       "(2675067.484593347, 233893.2384052628)"
      ]
     },
     "execution_count": 106,
     "metadata": {},
     "output_type": "execute_result"
    }
   ],
   "source": [
    "anypnt"
   ]
  },
  {
   "cell_type": "code",
   "execution_count": null,
   "id": "9ad5b70a",
   "metadata": {},
   "outputs": [],
   "source": []
  }
 ],
 "metadata": {
  "kernelspec": {
   "display_name": "geospatial",
   "language": "python",
   "name": "python3"
  },
  "language_info": {
   "codemirror_mode": {
    "name": "ipython",
    "version": 3
   },
   "file_extension": ".py",
   "mimetype": "text/x-python",
   "name": "python",
   "nbconvert_exporter": "python",
   "pygments_lexer": "ipython3",
   "version": "3.10.16"
  }
 },
 "nbformat": 4,
 "nbformat_minor": 5
}
