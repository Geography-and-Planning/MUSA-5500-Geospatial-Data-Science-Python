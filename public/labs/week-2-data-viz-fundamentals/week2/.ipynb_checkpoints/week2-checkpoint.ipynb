{
 "cells": [
  {
   "cell_type": "code",
   "execution_count": 1,
   "id": "fb60d2f0-6814-49a7-b1ba-bc1feca7599c",
   "metadata": {},
   "outputs": [],
   "source": [
    "import pandas as pd"
   ]
  },
  {
   "cell_type": "code",
   "execution_count": null,
   "id": "5e760e5d-b608-4535-b9be-6dde987fdde8",
   "metadata": {},
   "outputs": [],
   "source": []
  },
  {
   "cell_type": "code",
   "execution_count": 2,
   "id": "d2699444-4b96-407e-adc3-8a92ffeef899",
   "metadata": {},
   "outputs": [],
   "source": [
    "## Philadelphia metro counties and populations\n",
    "county_names = pd.Series(\n",
    "    [\n",
    "        \"Bucks\",\n",
    "        \"Chester\",\n",
    "        \"Delaware\",\n",
    "        \"Montgomery\",\n",
    "        \"Philadelphia\",\n",
    "        \"Burlington\",\n",
    "        \"Camden\",\n",
    "        \"Gloucester\",\n",
    "    ]\n",
    ")\n",
    "\n",
    "population = pd.Series(\n",
    "    [\n",
    "        645054.0,\n",
    "        545823.0,\n",
    "        575182.0,\n",
    "        864683.0,\n",
    "        1567258.0,\n",
    "        466103.0,\n",
    "        524907.0,\n",
    "        306601.0,\n",
    "    ]\n",
    ")"
   ]
  },
  {
   "cell_type": "code",
   "execution_count": 3,
   "id": "4dd782d4-5129-4619-8748-699dd431f20d",
   "metadata": {},
   "outputs": [
    {
     "data": {
      "text/html": [
       "<div>\n",
       "<style scoped>\n",
       "    .dataframe tbody tr th:only-of-type {\n",
       "        vertical-align: middle;\n",
       "    }\n",
       "\n",
       "    .dataframe tbody tr th {\n",
       "        vertical-align: top;\n",
       "    }\n",
       "\n",
       "    .dataframe thead th {\n",
       "        text-align: right;\n",
       "    }\n",
       "</style>\n",
       "<table border=\"1\" class=\"dataframe\">\n",
       "  <thead>\n",
       "    <tr style=\"text-align: right;\">\n",
       "      <th></th>\n",
       "      <th>County Name</th>\n",
       "      <th>Population</th>\n",
       "    </tr>\n",
       "  </thead>\n",
       "  <tbody>\n",
       "    <tr>\n",
       "      <th>0</th>\n",
       "      <td>Bucks</td>\n",
       "      <td>645054.0</td>\n",
       "    </tr>\n",
       "    <tr>\n",
       "      <th>1</th>\n",
       "      <td>Chester</td>\n",
       "      <td>545823.0</td>\n",
       "    </tr>\n",
       "    <tr>\n",
       "      <th>2</th>\n",
       "      <td>Delaware</td>\n",
       "      <td>575182.0</td>\n",
       "    </tr>\n",
       "    <tr>\n",
       "      <th>3</th>\n",
       "      <td>Montgomery</td>\n",
       "      <td>864683.0</td>\n",
       "    </tr>\n",
       "    <tr>\n",
       "      <th>4</th>\n",
       "      <td>Philadelphia</td>\n",
       "      <td>1567258.0</td>\n",
       "    </tr>\n",
       "    <tr>\n",
       "      <th>5</th>\n",
       "      <td>Burlington</td>\n",
       "      <td>466103.0</td>\n",
       "    </tr>\n",
       "    <tr>\n",
       "      <th>6</th>\n",
       "      <td>Camden</td>\n",
       "      <td>524907.0</td>\n",
       "    </tr>\n",
       "    <tr>\n",
       "      <th>7</th>\n",
       "      <td>Gloucester</td>\n",
       "      <td>306601.0</td>\n",
       "    </tr>\n",
       "  </tbody>\n",
       "</table>\n",
       "</div>"
      ],
      "text/plain": [
       "    County Name  Population\n",
       "0         Bucks    645054.0\n",
       "1       Chester    545823.0\n",
       "2      Delaware    575182.0\n",
       "3    Montgomery    864683.0\n",
       "4  Philadelphia   1567258.0\n",
       "5    Burlington    466103.0\n",
       "6        Camden    524907.0\n",
       "7    Gloucester    306601.0"
      ]
     },
     "execution_count": 3,
     "metadata": {},
     "output_type": "execute_result"
    }
   ],
   "source": [
    "county_df = pd.DataFrame({\"County Name\": county_names, \"Population\": population})\n",
    "\n",
    "county_df"
   ]
  },
  {
   "cell_type": "code",
   "execution_count": 4,
   "id": "c5ebb14a-3c66-47f8-9788-2125e3260cc1",
   "metadata": {},
   "outputs": [
    {
     "data": {
      "text/plain": [
       "0     645054.0\n",
       "1     545823.0\n",
       "2     575182.0\n",
       "3     864683.0\n",
       "4    1567258.0\n",
       "5     466103.0\n",
       "6     524907.0\n",
       "7     306601.0\n",
       "Name: Population, dtype: float64"
      ]
     },
     "execution_count": 4,
     "metadata": {},
     "output_type": "execute_result"
    }
   ],
   "source": [
    "# Access columns with a dict-like syntax\n",
    "county_df[\"Population\"]"
   ]
  },
  {
   "cell_type": "code",
   "execution_count": 5,
   "id": "09998120-fa32-4d7b-80fb-890b4f02995a",
   "metadata": {},
   "outputs": [
    {
     "data": {
      "text/plain": [
       "560502.5"
      ]
     },
     "execution_count": 5,
     "metadata": {},
     "output_type": "execute_result"
    }
   ],
   "source": [
    "county_df[\"Population\"].median()\n"
   ]
  },
  {
   "cell_type": "code",
   "execution_count": null,
   "id": "85edc502-957a-4991-8dbf-534f60c147af",
   "metadata": {},
   "outputs": [],
   "source": []
  },
  {
   "cell_type": "code",
   "execution_count": null,
   "id": "a0f016d4-685a-4512-9726-17bc3736e993",
   "metadata": {},
   "outputs": [],
   "source": [
    "# Define our function\n",
    "def get_large_counties(population):\n",
    "    return population > 1e6\n",
    "\n",
    "\n",
    "large_county_sel = county_df[\"Population\"].apply(get_large_counties)"
   ]
  },
  {
   "cell_type": "code",
   "execution_count": null,
   "id": "372f7865-2739-474e-8727-03f757bf7841",
   "metadata": {},
   "outputs": [],
   "source": []
  },
  {
   "cell_type": "code",
   "execution_count": null,
   "id": "39dadfb1-0aab-410c-91f5-e659475f60c3",
   "metadata": {},
   "outputs": [],
   "source": []
  },
  {
   "cell_type": "code",
   "execution_count": null,
   "id": "cb80fd4d-e279-4150-8157-6a11eeb176de",
   "metadata": {},
   "outputs": [],
   "source": []
  },
  {
   "cell_type": "code",
   "execution_count": null,
   "id": "0ef67574-ea6b-4999-810e-8cb30a18292f",
   "metadata": {},
   "outputs": [],
   "source": []
  },
  {
   "cell_type": "code",
   "execution_count": null,
   "id": "b22a1e43-4f94-44b0-9c12-6f53bd1ed15f",
   "metadata": {},
   "outputs": [],
   "source": []
  },
  {
   "cell_type": "code",
   "execution_count": null,
   "id": "ff581881-e279-42c1-9183-36045ec42d59",
   "metadata": {},
   "outputs": [],
   "source": []
  },
  {
   "cell_type": "code",
   "execution_count": null,
   "id": "5f1f1aaf-c40c-477b-abef-3253fab067d1",
   "metadata": {},
   "outputs": [],
   "source": []
  },
  {
   "cell_type": "code",
   "execution_count": null,
   "id": "5ccf2e63-8a3f-48fa-a383-44d05a989623",
   "metadata": {},
   "outputs": [],
   "source": []
  },
  {
   "cell_type": "code",
   "execution_count": null,
   "id": "f3c91acf-a8ca-4de7-88b4-6d5704577cb4",
   "metadata": {},
   "outputs": [],
   "source": []
  }
 ],
 "metadata": {
  "kernelspec": {
   "display_name": "Python 3 (ipykernel)",
   "language": "python",
   "name": "python3"
  },
  "language_info": {
   "codemirror_mode": {
    "name": "ipython",
    "version": 3
   },
   "file_extension": ".py",
   "mimetype": "text/x-python",
   "name": "python",
   "nbconvert_exporter": "python",
   "pygments_lexer": "ipython3",
   "version": "3.13.5"
  }
 },
 "nbformat": 4,
 "nbformat_minor": 5
}
