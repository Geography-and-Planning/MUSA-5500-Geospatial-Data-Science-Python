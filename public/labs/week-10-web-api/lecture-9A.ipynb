{
 "cells": [
  {
   "cell_type": "markdown",
   "metadata": {},
   "source": [
    "---\n",
    "# title: \"My Notebook\"\n",
    "format:\n",
    "  html:\n",
    "    toc: true           # ✅ Table of contents (outline)\n",
    "    toc-location: left  # ✅ Place TOC in the left sidebar\n",
    "    number-sections: true\n",
    "    code-fold: true\n",
    "    code-summary: \"Show Code\"\n",
    "    theme: cosmo        # Optional themes: cosmo, flatly, default, etc.\n",
    "---"
   ]
  },
  {
   "cell_type": "markdown",
   "metadata": {
    "slideshow": {
     "slide_type": "slide"
    }
   },
   "source": [
    "# Week 9A<br>Getting Data, Part 2: Working with APIs\n"
   ]
  },
  {
   "cell_type": "markdown",
   "metadata": {
    "slideshow": {
     "slide_type": "slide"
    }
   },
   "source": [
    "**Week #7 Agenda**\n",
    "\n",
    "- Introduction to APIs\n",
    "- Natural language processing via Philly's 311 API\n",
    "    - Word frequencies\n",
    "    - Sentiment analysis\n",
    "- Pulling census data and shape files using Python"
   ]
  },
  {
   "cell_type": "markdown",
   "metadata": {},
   "source": [
    "::: {.callout-important}\n",
    "\n",
    "Update your local environment!\n",
    "\n",
    "- Small update to the course's Python environment\n",
    "- Update the environment on your laptop using [these instructions](https://musa-550-fall-2023.github.io/resource/mamba.html#updating-an-existing-environment) on course website\n",
    "\n",
    ":::"
   ]
  },
  {
   "cell_type": "code",
   "execution_count": 30,
   "metadata": {},
   "outputs": [],
   "source": [
    "# !pip install holoviews\n",
    "# !pip install hvplot\n",
    "# !pip install seaborn"
   ]
  },
  {
   "cell_type": "code",
   "execution_count": 31,
   "metadata": {
    "slideshow": {
     "slide_type": "slide"
    }
   },
   "outputs": [
    {
     "data": {
      "text/html": [
       "<script type=\"esms-options\">{\"shimMode\": true}</script><style>*[data-root-id],\n",
       "*[data-root-id] > * {\n",
       "  box-sizing: border-box;\n",
       "  font-family: var(--jp-ui-font-family);\n",
       "  font-size: var(--jp-ui-font-size1);\n",
       "  color: var(--vscode-editor-foreground, var(--jp-ui-font-color1));\n",
       "}\n",
       "\n",
       "/* Override VSCode background color */\n",
       ".cell-output-ipywidget-background:has(\n",
       "  > .cell-output-ipywidget-background > .lm-Widget > *[data-root-id]\n",
       "),\n",
       ".cell-output-ipywidget-background:has(> .lm-Widget > *[data-root-id]) {\n",
       "  background-color: transparent !important;\n",
       "}\n",
       "</style>"
      ]
     },
     "metadata": {},
     "output_type": "display_data"
    },
    {
     "data": {
      "application/javascript": "(function(root) {\n  function now() {\n    return new Date();\n  }\n\n  const force = true;\n  const py_version = '3.7.3'.replace('rc', '-rc.').replace('.dev', '-dev.');\n  const reloading = false;\n  const Bokeh = root.Bokeh;\n\n  // Set a timeout for this load but only if we are not already initializing\n  if (typeof (root._bokeh_timeout) === \"undefined\" || (force || !root._bokeh_is_initializing)) {\n    root._bokeh_timeout = Date.now() + 5000;\n    root._bokeh_failed_load = false;\n  }\n\n  function run_callbacks() {\n    try {\n      root._bokeh_onload_callbacks.forEach(function(callback) {\n        if (callback != null)\n          callback();\n      });\n    } finally {\n      delete root._bokeh_onload_callbacks;\n    }\n    console.debug(\"Bokeh: all callbacks have finished\");\n  }\n\n  function load_libs(css_urls, js_urls, js_modules, js_exports, callback) {\n    if (css_urls == null) css_urls = [];\n    if (js_urls == null) js_urls = [];\n    if (js_modules == null) js_modules = [];\n    if (js_exports == null) js_exports = {};\n\n    root._bokeh_onload_callbacks.push(callback);\n\n    if (root._bokeh_is_loading > 0) {\n      // Don't load bokeh if it is still initializing\n      console.debug(\"Bokeh: BokehJS is being loaded, scheduling callback at\", now());\n      return null;\n    } else if (js_urls.length === 0 && js_modules.length === 0 && Object.keys(js_exports).length === 0) {\n      // There is nothing to load\n      run_callbacks();\n      return null;\n    }\n\n    function on_load() {\n      root._bokeh_is_loading--;\n      if (root._bokeh_is_loading === 0) {\n        console.debug(\"Bokeh: all BokehJS libraries/stylesheets loaded\");\n        run_callbacks()\n      }\n    }\n    window._bokeh_on_load = on_load\n\n    function on_error(e) {\n      const src_el = e.srcElement\n      console.error(\"failed to load \" + (src_el.href || src_el.src));\n    }\n\n    const skip = [];\n    if (window.requirejs) {\n      window.requirejs.config({'packages': {}, 'paths': {}, 'shim': {}});\n      root._bokeh_is_loading = css_urls.length + 0;\n    } else {\n      root._bokeh_is_loading = css_urls.length + js_urls.length + js_modules.length + Object.keys(js_exports).length;\n    }\n\n    const existing_stylesheets = []\n    const links = document.getElementsByTagName('link')\n    for (let i = 0; i < links.length; i++) {\n      const link = links[i]\n      if (link.href != null) {\n        existing_stylesheets.push(link.href)\n      }\n    }\n    for (let i = 0; i < css_urls.length; i++) {\n      const url = css_urls[i];\n      const escaped = encodeURI(url)\n      if (existing_stylesheets.indexOf(escaped) !== -1) {\n        on_load()\n        continue;\n      }\n      const element = document.createElement(\"link\");\n      element.onload = on_load;\n      element.onerror = on_error;\n      element.rel = \"stylesheet\";\n      element.type = \"text/css\";\n      element.href = url;\n      console.debug(\"Bokeh: injecting link tag for BokehJS stylesheet: \", url);\n      document.body.appendChild(element);\n    }    var existing_scripts = []\n    const scripts = document.getElementsByTagName('script')\n    for (let i = 0; i < scripts.length; i++) {\n      var script = scripts[i]\n      if (script.src != null) {\n        existing_scripts.push(script.src)\n      }\n    }\n    for (let i = 0; i < js_urls.length; i++) {\n      const url = js_urls[i];\n      const escaped = encodeURI(url)\n      if (skip.indexOf(escaped) !== -1 || existing_scripts.indexOf(escaped) !== -1) {\n        if (!window.requirejs) {\n          on_load();\n        }\n        continue;\n      }\n      const element = document.createElement('script');\n      element.onload = on_load;\n      element.onerror = on_error;\n      element.async = false;\n      element.src = url;\n      console.debug(\"Bokeh: injecting script tag for BokehJS library: \", url);\n      document.head.appendChild(element);\n    }\n    for (let i = 0; i < js_modules.length; i++) {\n      const url = js_modules[i];\n      const escaped = encodeURI(url)\n      if (skip.indexOf(escaped) !== -1 || existing_scripts.indexOf(escaped) !== -1) {\n        if (!window.requirejs) {\n          on_load();\n        }\n        continue;\n      }\n      var element = document.createElement('script');\n      element.onload = on_load;\n      element.onerror = on_error;\n      element.async = false;\n      element.src = url;\n      element.type = \"module\";\n      console.debug(\"Bokeh: injecting script tag for BokehJS library: \", url);\n      document.head.appendChild(element);\n    }\n    for (const name in js_exports) {\n      const url = js_exports[name];\n      const escaped = encodeURI(url)\n      if (skip.indexOf(escaped) >= 0 || root[name] != null) {\n        if (!window.requirejs) {\n          on_load();\n        }\n        continue;\n      }\n      var element = document.createElement('script');\n      element.onerror = on_error;\n      element.async = false;\n      element.type = \"module\";\n      console.debug(\"Bokeh: injecting script tag for BokehJS library: \", url);\n      element.textContent = `\n      import ${name} from \"${url}\"\n      window.${name} = ${name}\n      window._bokeh_on_load()\n      `\n      document.head.appendChild(element);\n    }\n    if (!js_urls.length && !js_modules.length) {\n      on_load()\n    }\n  };\n\n  function inject_raw_css(css) {\n    const element = document.createElement(\"style\");\n    element.appendChild(document.createTextNode(css));\n    document.body.appendChild(element);\n  }\n\n  const js_urls = [\"https://cdn.holoviz.org/panel/1.7.5/dist/bundled/reactiveesm/es-module-shims@^1.10.0/dist/es-module-shims.min.js\", \"https://cdn.bokeh.org/bokeh/release/bokeh-3.7.3.min.js\", \"https://cdn.bokeh.org/bokeh/release/bokeh-gl-3.7.3.min.js\", \"https://cdn.bokeh.org/bokeh/release/bokeh-widgets-3.7.3.min.js\", \"https://cdn.bokeh.org/bokeh/release/bokeh-tables-3.7.3.min.js\", \"https://cdn.holoviz.org/panel/1.7.5/dist/panel.min.js\"];\n  const js_modules = [];\n  const js_exports = {};\n  const css_urls = [];\n  const inline_js = [    function(Bokeh) {\n      Bokeh.set_log_level(\"info\");\n    },\nfunction(Bokeh) {} // ensure no trailing comma for IE\n  ];\n\n  function run_inline_js() {\n    if ((root.Bokeh !== undefined) || (force === true)) {\n      for (let i = 0; i < inline_js.length; i++) {\n        try {\n          inline_js[i].call(root, root.Bokeh);\n        } catch(e) {\n          if (!reloading) {\n            throw e;\n          }\n        }\n      }\n      // Cache old bokeh versions\n      if (Bokeh != undefined && !reloading) {\n        var NewBokeh = root.Bokeh;\n        if (Bokeh.versions === undefined) {\n          Bokeh.versions = new Map();\n        }\n        if (NewBokeh.version !== Bokeh.version) {\n          Bokeh.versions.set(NewBokeh.version, NewBokeh)\n        }\n        root.Bokeh = Bokeh;\n      }\n    } else if (Date.now() < root._bokeh_timeout) {\n      setTimeout(run_inline_js, 100);\n    } else if (!root._bokeh_failed_load) {\n      console.log(\"Bokeh: BokehJS failed to load within specified timeout.\");\n      root._bokeh_failed_load = true;\n    }\n    root._bokeh_is_initializing = false\n  }\n\n  function load_or_wait() {\n    // Implement a backoff loop that tries to ensure we do not load multiple\n    // versions of Bokeh and its dependencies at the same time.\n    // In recent versions we use the root._bokeh_is_initializing flag\n    // to determine whether there is an ongoing attempt to initialize\n    // bokeh, however for backward compatibility we also try to ensure\n    // that we do not start loading a newer (Panel>=1.0 and Bokeh>3) version\n    // before older versions are fully initialized.\n    if (root._bokeh_is_initializing && Date.now() > root._bokeh_timeout) {\n      // If the timeout and bokeh was not successfully loaded we reset\n      // everything and try loading again\n      root._bokeh_timeout = Date.now() + 5000;\n      root._bokeh_is_initializing = false;\n      root._bokeh_onload_callbacks = undefined;\n      root._bokeh_is_loading = 0\n      console.log(\"Bokeh: BokehJS was loaded multiple times but one version failed to initialize.\");\n      load_or_wait();\n    } else if (root._bokeh_is_initializing || (typeof root._bokeh_is_initializing === \"undefined\" && root._bokeh_onload_callbacks !== undefined)) {\n      setTimeout(load_or_wait, 100);\n    } else {\n      root._bokeh_is_initializing = true\n      root._bokeh_onload_callbacks = []\n      const bokeh_loaded = root.Bokeh != null && (root.Bokeh.version === py_version || (root.Bokeh.versions !== undefined && root.Bokeh.versions.has(py_version)));\n      if (!reloading && !bokeh_loaded) {\n        if (root.Bokeh) {\n          root.Bokeh = undefined;\n        }\n        console.debug(\"Bokeh: BokehJS not loaded, scheduling load and callback at\", now());\n      }\n      load_libs(css_urls, js_urls, js_modules, js_exports, function() {\n        console.debug(\"Bokeh: BokehJS plotting callback run at\", now());\n        run_inline_js();\n      });\n    }\n  }\n  // Give older versions of the autoload script a head-start to ensure\n  // they initialize before we start loading newer version.\n  setTimeout(load_or_wait, 100)\n}(window));",
      "application/vnd.holoviews_load.v0+json": ""
     },
     "metadata": {},
     "output_type": "display_data"
    },
    {
     "data": {
      "application/javascript": "\nif ((window.PyViz === undefined) || (window.PyViz instanceof HTMLElement)) {\n  window.PyViz = {comms: {}, comm_status:{}, kernels:{}, receivers: {}, plot_index: []}\n}\n\n\n    function JupyterCommManager() {\n    }\n\n    JupyterCommManager.prototype.register_target = function(plot_id, comm_id, msg_handler) {\n      if (window.comm_manager || ((window.Jupyter !== undefined) && (Jupyter.notebook.kernel != null))) {\n        var comm_manager = window.comm_manager || Jupyter.notebook.kernel.comm_manager;\n        comm_manager.register_target(comm_id, function(comm) {\n          comm.on_msg(msg_handler);\n        });\n      } else if ((plot_id in window.PyViz.kernels) && (window.PyViz.kernels[plot_id])) {\n        window.PyViz.kernels[plot_id].registerCommTarget(comm_id, function(comm) {\n          comm.onMsg = msg_handler;\n        });\n      } else if (typeof google != 'undefined' && google.colab.kernel != null) {\n        google.colab.kernel.comms.registerTarget(comm_id, (comm) => {\n          var messages = comm.messages[Symbol.asyncIterator]();\n          function processIteratorResult(result) {\n            var message = result.value;\n            var content = {data: message.data, comm_id};\n            var buffers = []\n            for (var buffer of message.buffers || []) {\n              buffers.push(new DataView(buffer))\n            }\n            var metadata = message.metadata || {};\n            var msg = {content, buffers, metadata}\n            msg_handler(msg);\n            return messages.next().then(processIteratorResult);\n          }\n          return messages.next().then(processIteratorResult);\n        })\n      }\n    }\n\n    JupyterCommManager.prototype.get_client_comm = function(plot_id, comm_id, msg_handler) {\n      if (comm_id in window.PyViz.comms) {\n        return window.PyViz.comms[comm_id];\n      } else if (window.comm_manager || ((window.Jupyter !== undefined) && (Jupyter.notebook.kernel != null))) {\n        var comm_manager = window.comm_manager || Jupyter.notebook.kernel.comm_manager;\n        var comm = comm_manager.new_comm(comm_id, {}, {}, {}, comm_id);\n        if (msg_handler) {\n          comm.on_msg(msg_handler);\n        }\n      } else if ((plot_id in window.PyViz.kernels) && (window.PyViz.kernels[plot_id])) {\n        var comm = window.PyViz.kernels[plot_id].connectToComm(comm_id);\n        let retries = 0;\n        const open = () => {\n          if (comm.active) {\n            comm.open();\n          } else if (retries > 3) {\n            console.warn('Comm target never activated')\n          } else {\n            retries += 1\n            setTimeout(open, 500)\n          }\n        }\n        if (comm.active) {\n          comm.open();\n        } else {\n          setTimeout(open, 500)\n        }\n        if (msg_handler) {\n          comm.onMsg = msg_handler;\n        }\n      } else if (typeof google != 'undefined' && google.colab.kernel != null) {\n        var comm_promise = google.colab.kernel.comms.open(comm_id)\n        comm_promise.then((comm) => {\n          window.PyViz.comms[comm_id] = comm;\n          if (msg_handler) {\n            var messages = comm.messages[Symbol.asyncIterator]();\n            function processIteratorResult(result) {\n              var message = result.value;\n              var content = {data: message.data};\n              var metadata = message.metadata || {comm_id};\n              var msg = {content, metadata}\n              msg_handler(msg);\n              return messages.next().then(processIteratorResult);\n            }\n            return messages.next().then(processIteratorResult);\n          }\n        })\n        var sendClosure = (data, metadata, buffers, disposeOnDone) => {\n          return comm_promise.then((comm) => {\n            comm.send(data, metadata, buffers, disposeOnDone);\n          });\n        };\n        var comm = {\n          send: sendClosure\n        };\n      }\n      window.PyViz.comms[comm_id] = comm;\n      return comm;\n    }\n    window.PyViz.comm_manager = new JupyterCommManager();\n    \n\n\nvar JS_MIME_TYPE = 'application/javascript';\nvar HTML_MIME_TYPE = 'text/html';\nvar EXEC_MIME_TYPE = 'application/vnd.holoviews_exec.v0+json';\nvar CLASS_NAME = 'output';\n\n/**\n * Render data to the DOM node\n */\nfunction render(props, node) {\n  var div = document.createElement(\"div\");\n  var script = document.createElement(\"script\");\n  node.appendChild(div);\n  node.appendChild(script);\n}\n\n/**\n * Handle when a new output is added\n */\nfunction handle_add_output(event, handle) {\n  var output_area = handle.output_area;\n  var output = handle.output;\n  if ((output.data == undefined) || (!output.data.hasOwnProperty(EXEC_MIME_TYPE))) {\n    return\n  }\n  var id = output.metadata[EXEC_MIME_TYPE][\"id\"];\n  var toinsert = output_area.element.find(\".\" + CLASS_NAME.split(' ')[0]);\n  if (id !== undefined) {\n    var nchildren = toinsert.length;\n    var html_node = toinsert[nchildren-1].children[0];\n    html_node.innerHTML = output.data[HTML_MIME_TYPE];\n    var scripts = [];\n    var nodelist = html_node.querySelectorAll(\"script\");\n    for (var i in nodelist) {\n      if (nodelist.hasOwnProperty(i)) {\n        scripts.push(nodelist[i])\n      }\n    }\n\n    scripts.forEach( function (oldScript) {\n      var newScript = document.createElement(\"script\");\n      var attrs = [];\n      var nodemap = oldScript.attributes;\n      for (var j in nodemap) {\n        if (nodemap.hasOwnProperty(j)) {\n          attrs.push(nodemap[j])\n        }\n      }\n      attrs.forEach(function(attr) { newScript.setAttribute(attr.name, attr.value) });\n      newScript.appendChild(document.createTextNode(oldScript.innerHTML));\n      oldScript.parentNode.replaceChild(newScript, oldScript);\n    });\n    if (JS_MIME_TYPE in output.data) {\n      toinsert[nchildren-1].children[1].textContent = output.data[JS_MIME_TYPE];\n    }\n    output_area._hv_plot_id = id;\n    if ((window.Bokeh !== undefined) && (id in Bokeh.index)) {\n      window.PyViz.plot_index[id] = Bokeh.index[id];\n    } else {\n      window.PyViz.plot_index[id] = null;\n    }\n  } else if (output.metadata[EXEC_MIME_TYPE][\"server_id\"] !== undefined) {\n    var bk_div = document.createElement(\"div\");\n    bk_div.innerHTML = output.data[HTML_MIME_TYPE];\n    var script_attrs = bk_div.children[0].attributes;\n    for (var i = 0; i < script_attrs.length; i++) {\n      toinsert[toinsert.length - 1].childNodes[1].setAttribute(script_attrs[i].name, script_attrs[i].value);\n    }\n    // store reference to server id on output_area\n    output_area._bokeh_server_id = output.metadata[EXEC_MIME_TYPE][\"server_id\"];\n  }\n}\n\n/**\n * Handle when an output is cleared or removed\n */\nfunction handle_clear_output(event, handle) {\n  var id = handle.cell.output_area._hv_plot_id;\n  var server_id = handle.cell.output_area._bokeh_server_id;\n  if (((id === undefined) || !(id in PyViz.plot_index)) && (server_id !== undefined)) { return; }\n  var comm = window.PyViz.comm_manager.get_client_comm(\"hv-extension-comm\", \"hv-extension-comm\", function () {});\n  if (server_id !== null) {\n    comm.send({event_type: 'server_delete', 'id': server_id});\n    return;\n  } else if (comm !== null) {\n    comm.send({event_type: 'delete', 'id': id});\n  }\n  delete PyViz.plot_index[id];\n  if ((window.Bokeh !== undefined) & (id in window.Bokeh.index)) {\n    var doc = window.Bokeh.index[id].model.document\n    doc.clear();\n    const i = window.Bokeh.documents.indexOf(doc);\n    if (i > -1) {\n      window.Bokeh.documents.splice(i, 1);\n    }\n  }\n}\n\n/**\n * Handle kernel restart event\n */\nfunction handle_kernel_cleanup(event, handle) {\n  delete PyViz.comms[\"hv-extension-comm\"];\n  window.PyViz.plot_index = {}\n}\n\n/**\n * Handle update_display_data messages\n */\nfunction handle_update_output(event, handle) {\n  handle_clear_output(event, {cell: {output_area: handle.output_area}})\n  handle_add_output(event, handle)\n}\n\nfunction register_renderer(events, OutputArea) {\n  function append_mime(data, metadata, element) {\n    // create a DOM node to render to\n    var toinsert = this.create_output_subarea(\n    metadata,\n    CLASS_NAME,\n    EXEC_MIME_TYPE\n    );\n    this.keyboard_manager.register_events(toinsert);\n    // Render to node\n    var props = {data: data, metadata: metadata[EXEC_MIME_TYPE]};\n    render(props, toinsert[0]);\n    element.append(toinsert);\n    return toinsert\n  }\n\n  events.on('output_added.OutputArea', handle_add_output);\n  events.on('output_updated.OutputArea', handle_update_output);\n  events.on('clear_output.CodeCell', handle_clear_output);\n  events.on('delete.Cell', handle_clear_output);\n  events.on('kernel_ready.Kernel', handle_kernel_cleanup);\n\n  OutputArea.prototype.register_mime_type(EXEC_MIME_TYPE, append_mime, {\n    safe: true,\n    index: 0\n  });\n}\n\nif (window.Jupyter !== undefined) {\n  try {\n    var events = require('base/js/events');\n    var OutputArea = require('notebook/js/outputarea').OutputArea;\n    if (OutputArea.prototype.mime_types().indexOf(EXEC_MIME_TYPE) == -1) {\n      register_renderer(events, OutputArea);\n    }\n  } catch(err) {\n  }\n}\n",
      "application/vnd.holoviews_load.v0+json": ""
     },
     "metadata": {},
     "output_type": "display_data"
    },
    {
     "data": {
      "application/vnd.holoviews_exec.v0+json": "",
      "text/html": [
       "<div id='6f93c40b-d916-4b83-97f6-d08ebd607d53'>\n",
       "  <div id=\"e57e301f-3392-49dc-b1ea-c9d88f2eb9f8\" data-root-id=\"6f93c40b-d916-4b83-97f6-d08ebd607d53\" style=\"display: contents;\"></div>\n",
       "</div>\n",
       "<script type=\"application/javascript\">(function(root) {\n",
       "  var docs_json = {\"58e87949-b6ca-4b27-8e62-874d57896a6d\":{\"version\":\"3.7.3\",\"title\":\"Bokeh Application\",\"roots\":[{\"type\":\"object\",\"name\":\"panel.models.browser.BrowserInfo\",\"id\":\"6f93c40b-d916-4b83-97f6-d08ebd607d53\"},{\"type\":\"object\",\"name\":\"panel.models.comm_manager.CommManager\",\"id\":\"58afc3b0-4194-421e-9105-e5d35faff0b1\",\"attributes\":{\"plot_id\":\"6f93c40b-d916-4b83-97f6-d08ebd607d53\",\"comm_id\":\"64dd106418eb409abc5afc4814bd92e4\",\"client_comm_id\":\"bd1c47f485dc45cfa21ce239f40f4e3b\"}}],\"defs\":[{\"type\":\"model\",\"name\":\"ReactiveHTML1\"},{\"type\":\"model\",\"name\":\"FlexBox1\",\"properties\":[{\"name\":\"align_content\",\"kind\":\"Any\",\"default\":\"flex-start\"},{\"name\":\"align_items\",\"kind\":\"Any\",\"default\":\"flex-start\"},{\"name\":\"flex_direction\",\"kind\":\"Any\",\"default\":\"row\"},{\"name\":\"flex_wrap\",\"kind\":\"Any\",\"default\":\"wrap\"},{\"name\":\"gap\",\"kind\":\"Any\",\"default\":\"\"},{\"name\":\"justify_content\",\"kind\":\"Any\",\"default\":\"flex-start\"}]},{\"type\":\"model\",\"name\":\"FloatPanel1\",\"properties\":[{\"name\":\"config\",\"kind\":\"Any\",\"default\":{\"type\":\"map\"}},{\"name\":\"contained\",\"kind\":\"Any\",\"default\":true},{\"name\":\"position\",\"kind\":\"Any\",\"default\":\"right-top\"},{\"name\":\"offsetx\",\"kind\":\"Any\",\"default\":null},{\"name\":\"offsety\",\"kind\":\"Any\",\"default\":null},{\"name\":\"theme\",\"kind\":\"Any\",\"default\":\"primary\"},{\"name\":\"status\",\"kind\":\"Any\",\"default\":\"normalized\"}]},{\"type\":\"model\",\"name\":\"GridStack1\",\"properties\":[{\"name\":\"ncols\",\"kind\":\"Any\",\"default\":null},{\"name\":\"nrows\",\"kind\":\"Any\",\"default\":null},{\"name\":\"allow_resize\",\"kind\":\"Any\",\"default\":true},{\"name\":\"allow_drag\",\"kind\":\"Any\",\"default\":true},{\"name\":\"state\",\"kind\":\"Any\",\"default\":[]}]},{\"type\":\"model\",\"name\":\"drag1\",\"properties\":[{\"name\":\"slider_width\",\"kind\":\"Any\",\"default\":5},{\"name\":\"slider_color\",\"kind\":\"Any\",\"default\":\"black\"},{\"name\":\"value\",\"kind\":\"Any\",\"default\":50}]},{\"type\":\"model\",\"name\":\"click1\",\"properties\":[{\"name\":\"terminal_output\",\"kind\":\"Any\",\"default\":\"\"},{\"name\":\"debug_name\",\"kind\":\"Any\",\"default\":\"\"},{\"name\":\"clears\",\"kind\":\"Any\",\"default\":0}]},{\"type\":\"model\",\"name\":\"ReactiveESM1\",\"properties\":[{\"name\":\"esm_constants\",\"kind\":\"Any\",\"default\":{\"type\":\"map\"}}]},{\"type\":\"model\",\"name\":\"JSComponent1\",\"properties\":[{\"name\":\"esm_constants\",\"kind\":\"Any\",\"default\":{\"type\":\"map\"}}]},{\"type\":\"model\",\"name\":\"ReactComponent1\",\"properties\":[{\"name\":\"use_shadow_dom\",\"kind\":\"Any\",\"default\":true},{\"name\":\"esm_constants\",\"kind\":\"Any\",\"default\":{\"type\":\"map\"}}]},{\"type\":\"model\",\"name\":\"AnyWidgetComponent1\",\"properties\":[{\"name\":\"use_shadow_dom\",\"kind\":\"Any\",\"default\":true},{\"name\":\"esm_constants\",\"kind\":\"Any\",\"default\":{\"type\":\"map\"}}]},{\"type\":\"model\",\"name\":\"FastWrapper1\",\"properties\":[{\"name\":\"object\",\"kind\":\"Any\",\"default\":null},{\"name\":\"style\",\"kind\":\"Any\",\"default\":null}]},{\"type\":\"model\",\"name\":\"NotificationArea1\",\"properties\":[{\"name\":\"js_events\",\"kind\":\"Any\",\"default\":{\"type\":\"map\"}},{\"name\":\"max_notifications\",\"kind\":\"Any\",\"default\":5},{\"name\":\"notifications\",\"kind\":\"Any\",\"default\":[]},{\"name\":\"position\",\"kind\":\"Any\",\"default\":\"bottom-right\"},{\"name\":\"_clear\",\"kind\":\"Any\",\"default\":0},{\"name\":\"types\",\"kind\":\"Any\",\"default\":[{\"type\":\"map\",\"entries\":[[\"type\",\"warning\"],[\"background\",\"#ffc107\"],[\"icon\",{\"type\":\"map\",\"entries\":[[\"className\",\"fas fa-exclamation-triangle\"],[\"tagName\",\"i\"],[\"color\",\"white\"]]}]]},{\"type\":\"map\",\"entries\":[[\"type\",\"info\"],[\"background\",\"#007bff\"],[\"icon\",{\"type\":\"map\",\"entries\":[[\"className\",\"fas fa-info-circle\"],[\"tagName\",\"i\"],[\"color\",\"white\"]]}]]}]}]},{\"type\":\"model\",\"name\":\"Notification\",\"properties\":[{\"name\":\"background\",\"kind\":\"Any\",\"default\":null},{\"name\":\"duration\",\"kind\":\"Any\",\"default\":3000},{\"name\":\"icon\",\"kind\":\"Any\",\"default\":null},{\"name\":\"message\",\"kind\":\"Any\",\"default\":\"\"},{\"name\":\"notification_type\",\"kind\":\"Any\",\"default\":null},{\"name\":\"_rendered\",\"kind\":\"Any\",\"default\":false},{\"name\":\"_destroyed\",\"kind\":\"Any\",\"default\":false}]},{\"type\":\"model\",\"name\":\"TemplateActions1\",\"properties\":[{\"name\":\"open_modal\",\"kind\":\"Any\",\"default\":0},{\"name\":\"close_modal\",\"kind\":\"Any\",\"default\":0}]},{\"type\":\"model\",\"name\":\"BootstrapTemplateActions1\",\"properties\":[{\"name\":\"open_modal\",\"kind\":\"Any\",\"default\":0},{\"name\":\"close_modal\",\"kind\":\"Any\",\"default\":0}]},{\"type\":\"model\",\"name\":\"TemplateEditor1\",\"properties\":[{\"name\":\"layout\",\"kind\":\"Any\",\"default\":[]}]},{\"type\":\"model\",\"name\":\"MaterialTemplateActions1\",\"properties\":[{\"name\":\"open_modal\",\"kind\":\"Any\",\"default\":0},{\"name\":\"close_modal\",\"kind\":\"Any\",\"default\":0}]},{\"type\":\"model\",\"name\":\"request_value1\",\"properties\":[{\"name\":\"fill\",\"kind\":\"Any\",\"default\":\"none\"},{\"name\":\"_synced\",\"kind\":\"Any\",\"default\":null},{\"name\":\"_request_sync\",\"kind\":\"Any\",\"default\":0}]},{\"type\":\"model\",\"name\":\"holoviews.plotting.bokeh.raster.HoverModel\",\"properties\":[{\"name\":\"xy\",\"kind\":\"Any\",\"default\":null},{\"name\":\"data\",\"kind\":\"Any\",\"default\":null}]}]}};\n",
       "  var render_items = [{\"docid\":\"58e87949-b6ca-4b27-8e62-874d57896a6d\",\"roots\":{\"6f93c40b-d916-4b83-97f6-d08ebd607d53\":\"e57e301f-3392-49dc-b1ea-c9d88f2eb9f8\"},\"root_ids\":[\"6f93c40b-d916-4b83-97f6-d08ebd607d53\"]}];\n",
       "  var docs = Object.values(docs_json)\n",
       "  if (!docs) {\n",
       "    return\n",
       "  }\n",
       "  const py_version = docs[0].version.replace('rc', '-rc.').replace('.dev', '-dev.')\n",
       "  async function embed_document(root) {\n",
       "    var Bokeh = get_bokeh(root)\n",
       "    await Bokeh.embed.embed_items_notebook(docs_json, render_items);\n",
       "    for (const render_item of render_items) {\n",
       "      for (const root_id of render_item.root_ids) {\n",
       "\tconst id_el = document.getElementById(root_id)\n",
       "\tif (id_el.children.length && id_el.children[0].hasAttribute('data-root-id')) {\n",
       "\t  const root_el = id_el.children[0]\n",
       "\t  root_el.id = root_el.id + '-rendered'\n",
       "\t  for (const child of root_el.children) {\n",
       "            // Ensure JupyterLab does not capture keyboard shortcuts\n",
       "            // see: https://jupyterlab.readthedocs.io/en/4.1.x/extension/notebook.html#keyboard-interaction-model\n",
       "\t    child.setAttribute('data-lm-suppress-shortcuts', 'true')\n",
       "\t  }\n",
       "\t}\n",
       "      }\n",
       "    }\n",
       "  }\n",
       "  function get_bokeh(root) {\n",
       "    if (root.Bokeh === undefined) {\n",
       "      return null\n",
       "    } else if (root.Bokeh.version !== py_version) {\n",
       "      if (root.Bokeh.versions === undefined || !root.Bokeh.versions.has(py_version)) {\n",
       "\treturn null\n",
       "      }\n",
       "      return root.Bokeh.versions.get(py_version);\n",
       "    } else if (root.Bokeh.version === py_version) {\n",
       "      return root.Bokeh\n",
       "    }\n",
       "    return null\n",
       "  }\n",
       "  function is_loaded(root) {\n",
       "    var Bokeh = get_bokeh(root)\n",
       "    return (Bokeh != null && Bokeh.Panel !== undefined)\n",
       "  }\n",
       "  if (is_loaded(root)) {\n",
       "    embed_document(root);\n",
       "  } else {\n",
       "    var attempts = 0;\n",
       "    var timer = setInterval(function(root) {\n",
       "      if (is_loaded(root)) {\n",
       "        clearInterval(timer);\n",
       "        embed_document(root);\n",
       "      } else if (document.readyState == \"complete\") {\n",
       "        attempts++;\n",
       "        if (attempts > 200) {\n",
       "          clearInterval(timer);\n",
       "\t  var Bokeh = get_bokeh(root)\n",
       "\t  if (Bokeh == null || Bokeh.Panel == null) {\n",
       "            console.warn(\"Panel: ERROR: Unable to run Panel code because Bokeh or Panel library is missing\");\n",
       "\t  } else {\n",
       "\t    console.warn(\"Panel: WARNING: Attempting to render but not all required libraries could be resolved.\")\n",
       "\t    embed_document(root)\n",
       "\t  }\n",
       "        }\n",
       "      }\n",
       "    }, 25, root)\n",
       "  }\n",
       "})(window);</script>"
      ]
     },
     "metadata": {
      "application/vnd.holoviews_exec.v0+json": {
       "id": "6f93c40b-d916-4b83-97f6-d08ebd607d53"
      }
     },
     "output_type": "display_data"
    }
   ],
   "source": [
    "import geopandas as gpd\n",
    "import holoviews as hv\n",
    "import hvplot.pandas\n",
    "import numpy as np\n",
    "import pandas as pd\n",
    "import seaborn as sns\n",
    "from matplotlib import pyplot as plt"
   ]
  },
  {
   "cell_type": "code",
   "execution_count": 32,
   "metadata": {},
   "outputs": [],
   "source": [
    "# Show all columns\n",
    "pd.options.display.max_columns = 999"
   ]
  },
  {
   "cell_type": "markdown",
   "metadata": {
    "slideshow": {
     "slide_type": "slide"
    }
   },
   "source": [
    "## Part 1: Introduction to APIs\n",
    "\n",
    "Or, how to pull data from the web using Python"
   ]
  },
  {
   "cell_type": "markdown",
   "metadata": {},
   "source": [
    "**Application programming interface (API):**\n",
    "\n",
    "> (noun): A particular set of rules and specifications that software programs can follow to communicate with each other and exchange data."
   ]
  },
  {
   "cell_type": "markdown",
   "metadata": {
    "slideshow": {
     "slide_type": "slide"
    }
   },
   "source": [
    "**Example APIs**\n",
    "\n",
    "- Socrata Open Data: [https://dev.socrata.com/](https://dev.socrata.com/)\n",
    "- Open Data Philly: [https://opendataphilly.org](https://opendataphilly.org)\n",
    "- US Census Bureau: [https://www.census.gov/data/developers/data-sets.html](https://www.census.gov/data/developers/data-sets.html)\n",
    "- Bureau of Labor Statistics: [https://www.bls.gov/developers/](https://www.bls.gov/developers/)\n",
    "- US Geological Survey: [https://www.usgs.gov/products/data-and-tools/apis](https://www.usgs.gov/products/data-and-tools/apis)\n",
    "- US Environmental Protection Agency: [https://www.epa.gov/enviro/web-services](https://www.epa.gov/enviro/web-services)\n",
    "- Google APIs: [https://console.cloud.google.com/apis/library](https://console.cloud.google.com/apis/library)\n",
    "- Facebook: [https://developers.facebook.com/docs/apis-and-sdks/](https://developers.facebook.com/docs/apis-and-sdks/)\n",
    "- Twitter: [https://developer.twitter.com/en/docs/api-reference-index.html](https://developer.twitter.com/en/docs/api-reference-index) (RIP 💀)\n",
    "- Foursquare: [https://developer.foursquare.com/](https://developer.foursquare.com/)\n",
    "- Instagram: [https://www.instagram.com/developer/](https://www.instagram.com/developer/)\n",
    "- Yelp: [https://www.yelp.com/developers](https://www.instagram.com/developer/)"
   ]
  },
  {
   "cell_type": "markdown",
   "metadata": {
    "slideshow": {
     "slide_type": "subslide"
    }
   },
   "source": [
    "::: {.callout-note}\n",
    "\n",
    "When accessing data via API, many services will require you to register an API key to prevent you from overloading the service with requests.\n",
    "\n",
    ":::"
   ]
  },
  {
   "cell_type": "markdown",
   "metadata": {
    "slideshow": {
     "slide_type": "slide"
    }
   },
   "source": [
    "###  Example #1: Automated data feeds\n",
    "\n",
    "The simplest form of API is when data providers maintain data files via a URL that are automatically updated with new data over time. "
   ]
  },
  {
   "cell_type": "markdown",
   "metadata": {
    "slideshow": {
     "slide_type": "subslide"
    }
   },
   "source": [
    "#### USGS real-time earthquake feeds\n",
    "\n",
    "This is an API for near-real-time data about earthquakes, and data is provided in GeoJSON format over the web. \n",
    "\n",
    "The API has a separate endpoint for each version of the data that users might want. No authentication is required."
   ]
  },
  {
   "cell_type": "markdown",
   "metadata": {
    "slideshow": {
     "slide_type": "subslide"
    }
   },
   "source": [
    "API documentation:\n",
    "\n",
    "[http://earthquake.usgs.gov/earthquakes/feed/v1.0/geojson.php](http://earthquake.usgs.gov/earthquakes/feed/v1.0/geojson.php)\n",
    "\n",
    "Sample API endpoint, for magnitude 4.5+ earthquakes in past day:\n",
    "\n",
    "[http://earthquake.usgs.gov/earthquakes/feed/v1.0/summary/4.5_day.geojson](http://earthquake.usgs.gov/earthquakes/feed/v1.0/summary/4.5_day.geojson)"
   ]
  },
  {
   "cell_type": "markdown",
   "metadata": {
    "slideshow": {
     "slide_type": "slide"
    }
   },
   "source": [
    "GeoPandas can read GeoJSON files from the web directly. Simply pass the URL to the `gpd.read_file()` function:"
   ]
  },
  {
   "cell_type": "code",
   "execution_count": 33,
   "metadata": {
    "slideshow": {
     "slide_type": "subslide"
    }
   },
   "outputs": [],
   "source": [
    "# Download data on magnitude 2.5+ quakes from the past week\n",
    "endpoint_url = (\n",
    "    \"http://earthquake.usgs.gov/earthquakes/feed/v1.0/summary/2.5_week.geojson\"\n",
    ")\n",
    "earthquakes = gpd.read_file(endpoint_url)"
   ]
  },
  {
   "cell_type": "code",
   "execution_count": 34,
   "metadata": {
    "slideshow": {
     "slide_type": "fragment"
    }
   },
   "outputs": [
    {
     "data": {
      "text/html": [
       "<div>\n",
       "<style scoped>\n",
       "    .dataframe tbody tr th:only-of-type {\n",
       "        vertical-align: middle;\n",
       "    }\n",
       "\n",
       "    .dataframe tbody tr th {\n",
       "        vertical-align: top;\n",
       "    }\n",
       "\n",
       "    .dataframe thead th {\n",
       "        text-align: right;\n",
       "    }\n",
       "</style>\n",
       "<table border=\"1\" class=\"dataframe\">\n",
       "  <thead>\n",
       "    <tr style=\"text-align: right;\">\n",
       "      <th></th>\n",
       "      <th>id</th>\n",
       "      <th>mag</th>\n",
       "      <th>place</th>\n",
       "      <th>time</th>\n",
       "      <th>updated</th>\n",
       "      <th>tz</th>\n",
       "      <th>url</th>\n",
       "      <th>detail</th>\n",
       "      <th>felt</th>\n",
       "      <th>cdi</th>\n",
       "      <th>mmi</th>\n",
       "      <th>alert</th>\n",
       "      <th>status</th>\n",
       "      <th>tsunami</th>\n",
       "      <th>sig</th>\n",
       "      <th>net</th>\n",
       "      <th>code</th>\n",
       "      <th>ids</th>\n",
       "      <th>sources</th>\n",
       "      <th>types</th>\n",
       "      <th>nst</th>\n",
       "      <th>dmin</th>\n",
       "      <th>rms</th>\n",
       "      <th>gap</th>\n",
       "      <th>magType</th>\n",
       "      <th>type</th>\n",
       "      <th>title</th>\n",
       "      <th>geometry</th>\n",
       "    </tr>\n",
       "  </thead>\n",
       "  <tbody>\n",
       "    <tr>\n",
       "      <th>0</th>\n",
       "      <td>us6000qys8</td>\n",
       "      <td>4.40</td>\n",
       "      <td>159 km SSW of Hihifo, Tonga</td>\n",
       "      <td>1754536150895</td>\n",
       "      <td>1754537779040</td>\n",
       "      <td>None</td>\n",
       "      <td>https://earthquake.usgs.gov/earthquakes/eventp...</td>\n",
       "      <td>https://earthquake.usgs.gov/earthquakes/feed/v...</td>\n",
       "      <td>NaN</td>\n",
       "      <td>NaN</td>\n",
       "      <td>NaN</td>\n",
       "      <td>None</td>\n",
       "      <td>reviewed</td>\n",
       "      <td>0</td>\n",
       "      <td>298</td>\n",
       "      <td>us</td>\n",
       "      <td>6000qys8</td>\n",
       "      <td>,us6000qys8,</td>\n",
       "      <td>,us,</td>\n",
       "      <td>,origin,phase-data,</td>\n",
       "      <td>31.0</td>\n",
       "      <td>4.1930</td>\n",
       "      <td>0.90</td>\n",
       "      <td>90.0</td>\n",
       "      <td>mb</td>\n",
       "      <td>earthquake</td>\n",
       "      <td>M 4.4 - 159 km SSW of Hihifo, Tonga</td>\n",
       "      <td>POINT Z (-174.42110 -17.26250 163.49100)</td>\n",
       "    </tr>\n",
       "    <tr>\n",
       "      <th>1</th>\n",
       "      <td>pr71491858</td>\n",
       "      <td>3.25</td>\n",
       "      <td>59 km ESE of Punta Cana, Dominican Republic</td>\n",
       "      <td>1754534626070</td>\n",
       "      <td>1754535661440</td>\n",
       "      <td>None</td>\n",
       "      <td>https://earthquake.usgs.gov/earthquakes/eventp...</td>\n",
       "      <td>https://earthquake.usgs.gov/earthquakes/feed/v...</td>\n",
       "      <td>NaN</td>\n",
       "      <td>NaN</td>\n",
       "      <td>NaN</td>\n",
       "      <td>None</td>\n",
       "      <td>reviewed</td>\n",
       "      <td>0</td>\n",
       "      <td>162</td>\n",
       "      <td>pr</td>\n",
       "      <td>71491858</td>\n",
       "      <td>,pr71491858,</td>\n",
       "      <td>,pr,</td>\n",
       "      <td>,origin,phase-data,</td>\n",
       "      <td>11.0</td>\n",
       "      <td>0.6998</td>\n",
       "      <td>0.48</td>\n",
       "      <td>166.0</td>\n",
       "      <td>md</td>\n",
       "      <td>earthquake</td>\n",
       "      <td>M 3.3 - 59 km ESE of Punta Cana, Dominican Rep...</td>\n",
       "      <td>POINT Z (-67.84850 18.47550 7.24000)</td>\n",
       "    </tr>\n",
       "    <tr>\n",
       "      <th>2</th>\n",
       "      <td>us6000qys2</td>\n",
       "      <td>5.30</td>\n",
       "      <td>West Chile Rise</td>\n",
       "      <td>1754532765176</td>\n",
       "      <td>1754533931040</td>\n",
       "      <td>None</td>\n",
       "      <td>https://earthquake.usgs.gov/earthquakes/eventp...</td>\n",
       "      <td>https://earthquake.usgs.gov/earthquakes/feed/v...</td>\n",
       "      <td>NaN</td>\n",
       "      <td>NaN</td>\n",
       "      <td>NaN</td>\n",
       "      <td>None</td>\n",
       "      <td>reviewed</td>\n",
       "      <td>0</td>\n",
       "      <td>432</td>\n",
       "      <td>us</td>\n",
       "      <td>6000qys2</td>\n",
       "      <td>,us6000qys2,</td>\n",
       "      <td>,us,</td>\n",
       "      <td>,origin,phase-data,</td>\n",
       "      <td>43.0</td>\n",
       "      <td>10.0980</td>\n",
       "      <td>1.19</td>\n",
       "      <td>138.0</td>\n",
       "      <td>mb</td>\n",
       "      <td>earthquake</td>\n",
       "      <td>M 5.3 - West Chile Rise</td>\n",
       "      <td>POINT Z (-83.88380 -41.84290 10.00000)</td>\n",
       "    </tr>\n",
       "    <tr>\n",
       "      <th>3</th>\n",
       "      <td>us6000qyrr</td>\n",
       "      <td>4.70</td>\n",
       "      <td>220 km SE of Petropavlovsk-Kamchatsky, Russia</td>\n",
       "      <td>1754527874408</td>\n",
       "      <td>1754529752040</td>\n",
       "      <td>None</td>\n",
       "      <td>https://earthquake.usgs.gov/earthquakes/eventp...</td>\n",
       "      <td>https://earthquake.usgs.gov/earthquakes/feed/v...</td>\n",
       "      <td>NaN</td>\n",
       "      <td>NaN</td>\n",
       "      <td>NaN</td>\n",
       "      <td>None</td>\n",
       "      <td>reviewed</td>\n",
       "      <td>0</td>\n",
       "      <td>340</td>\n",
       "      <td>us</td>\n",
       "      <td>6000qyrr</td>\n",
       "      <td>,us6000qyrr,</td>\n",
       "      <td>,us,</td>\n",
       "      <td>,origin,phase-data,</td>\n",
       "      <td>49.0</td>\n",
       "      <td>1.9480</td>\n",
       "      <td>0.66</td>\n",
       "      <td>128.0</td>\n",
       "      <td>mb</td>\n",
       "      <td>earthquake</td>\n",
       "      <td>M 4.7 - 220 km SE of Petropavlovsk-Kamchatsky,...</td>\n",
       "      <td>POINT Z (160.81000 51.59860 10.00000)</td>\n",
       "    </tr>\n",
       "    <tr>\n",
       "      <th>4</th>\n",
       "      <td>us6000qyrp</td>\n",
       "      <td>4.50</td>\n",
       "      <td>164 km ESE of Petropavlovsk-Kamchatsky, Russia</td>\n",
       "      <td>1754527741225</td>\n",
       "      <td>1754529301040</td>\n",
       "      <td>None</td>\n",
       "      <td>https://earthquake.usgs.gov/earthquakes/eventp...</td>\n",
       "      <td>https://earthquake.usgs.gov/earthquakes/feed/v...</td>\n",
       "      <td>NaN</td>\n",
       "      <td>NaN</td>\n",
       "      <td>NaN</td>\n",
       "      <td>None</td>\n",
       "      <td>reviewed</td>\n",
       "      <td>0</td>\n",
       "      <td>312</td>\n",
       "      <td>us</td>\n",
       "      <td>6000qyrp</td>\n",
       "      <td>,us6000qyrp,</td>\n",
       "      <td>,us,</td>\n",
       "      <td>,origin,phase-data,</td>\n",
       "      <td>37.0</td>\n",
       "      <td>1.4580</td>\n",
       "      <td>0.78</td>\n",
       "      <td>116.0</td>\n",
       "      <td>mb</td>\n",
       "      <td>earthquake</td>\n",
       "      <td>M 4.5 - 164 km ESE of Petropavlovsk-Kamchatsky...</td>\n",
       "      <td>POINT Z (160.92290 52.55490 10.00000)</td>\n",
       "    </tr>\n",
       "  </tbody>\n",
       "</table>\n",
       "</div>"
      ],
      "text/plain": [
       "           id   mag                                           place  \\\n",
       "0  us6000qys8  4.40                     159 km SSW of Hihifo, Tonga   \n",
       "1  pr71491858  3.25     59 km ESE of Punta Cana, Dominican Republic   \n",
       "2  us6000qys2  5.30                                 West Chile Rise   \n",
       "3  us6000qyrr  4.70   220 km SE of Petropavlovsk-Kamchatsky, Russia   \n",
       "4  us6000qyrp  4.50  164 km ESE of Petropavlovsk-Kamchatsky, Russia   \n",
       "\n",
       "            time        updated    tz  \\\n",
       "0  1754536150895  1754537779040  None   \n",
       "1  1754534626070  1754535661440  None   \n",
       "2  1754532765176  1754533931040  None   \n",
       "3  1754527874408  1754529752040  None   \n",
       "4  1754527741225  1754529301040  None   \n",
       "\n",
       "                                                 url  \\\n",
       "0  https://earthquake.usgs.gov/earthquakes/eventp...   \n",
       "1  https://earthquake.usgs.gov/earthquakes/eventp...   \n",
       "2  https://earthquake.usgs.gov/earthquakes/eventp...   \n",
       "3  https://earthquake.usgs.gov/earthquakes/eventp...   \n",
       "4  https://earthquake.usgs.gov/earthquakes/eventp...   \n",
       "\n",
       "                                              detail  felt  cdi  mmi alert  \\\n",
       "0  https://earthquake.usgs.gov/earthquakes/feed/v...   NaN  NaN  NaN  None   \n",
       "1  https://earthquake.usgs.gov/earthquakes/feed/v...   NaN  NaN  NaN  None   \n",
       "2  https://earthquake.usgs.gov/earthquakes/feed/v...   NaN  NaN  NaN  None   \n",
       "3  https://earthquake.usgs.gov/earthquakes/feed/v...   NaN  NaN  NaN  None   \n",
       "4  https://earthquake.usgs.gov/earthquakes/feed/v...   NaN  NaN  NaN  None   \n",
       "\n",
       "     status  tsunami  sig net      code           ids sources  \\\n",
       "0  reviewed        0  298  us  6000qys8  ,us6000qys8,    ,us,   \n",
       "1  reviewed        0  162  pr  71491858  ,pr71491858,    ,pr,   \n",
       "2  reviewed        0  432  us  6000qys2  ,us6000qys2,    ,us,   \n",
       "3  reviewed        0  340  us  6000qyrr  ,us6000qyrr,    ,us,   \n",
       "4  reviewed        0  312  us  6000qyrp  ,us6000qyrp,    ,us,   \n",
       "\n",
       "                 types   nst     dmin   rms    gap magType        type  \\\n",
       "0  ,origin,phase-data,  31.0   4.1930  0.90   90.0      mb  earthquake   \n",
       "1  ,origin,phase-data,  11.0   0.6998  0.48  166.0      md  earthquake   \n",
       "2  ,origin,phase-data,  43.0  10.0980  1.19  138.0      mb  earthquake   \n",
       "3  ,origin,phase-data,  49.0   1.9480  0.66  128.0      mb  earthquake   \n",
       "4  ,origin,phase-data,  37.0   1.4580  0.78  116.0      mb  earthquake   \n",
       "\n",
       "                                               title  \\\n",
       "0                M 4.4 - 159 km SSW of Hihifo, Tonga   \n",
       "1  M 3.3 - 59 km ESE of Punta Cana, Dominican Rep...   \n",
       "2                            M 5.3 - West Chile Rise   \n",
       "3  M 4.7 - 220 km SE of Petropavlovsk-Kamchatsky,...   \n",
       "4  M 4.5 - 164 km ESE of Petropavlovsk-Kamchatsky...   \n",
       "\n",
       "                                   geometry  \n",
       "0  POINT Z (-174.42110 -17.26250 163.49100)  \n",
       "1      POINT Z (-67.84850 18.47550 7.24000)  \n",
       "2    POINT Z (-83.88380 -41.84290 10.00000)  \n",
       "3     POINT Z (160.81000 51.59860 10.00000)  \n",
       "4     POINT Z (160.92290 52.55490 10.00000)  "
      ]
     },
     "execution_count": 34,
     "metadata": {},
     "output_type": "execute_result"
    }
   ],
   "source": [
    "earthquakes.head()"
   ]
  },
  {
   "cell_type": "markdown",
   "metadata": {
    "slideshow": {
     "slide_type": "slide"
    }
   },
   "source": [
    "Let's explore the data interactively with Folium:"
   ]
  },
  {
   "cell_type": "code",
   "execution_count": 35,
   "metadata": {},
   "outputs": [],
   "source": [
    "# !pip install folium matplotlib mapclassify\n",
    "# !pip install folium"
   ]
  },
  {
   "cell_type": "code",
   "execution_count": 36,
   "metadata": {},
   "outputs": [],
   "source": [
    "from mapclassify import classify"
   ]
  },
  {
   "cell_type": "code",
   "execution_count": 40,
   "metadata": {
    "tags": []
   },
   "outputs": [],
   "source": [
    "# earthquakes.explore()\n",
    "\n",
    "# earthquakes.plot()"
   ]
  },
  {
   "cell_type": "markdown",
   "metadata": {},
   "source": [
    "Lots of other automated feeds available, updated every minute:\n",
    "\n",
    "\n",
    "![](imgs/usgs-1.png){width=312}\n",
    "![](imgs/usgs-2.png){width=300}\n"
   ]
  },
  {
   "cell_type": "markdown",
   "metadata": {
    "slideshow": {
     "slide_type": "slide"
    }
   },
   "source": [
    "### Example #2: The CARTO API\n",
    "\n",
    "- Philadelphia hosts the majority of its open data on OpenDataPhilly in the cloud using CARTO\n",
    "- They provide an API to download the data\n",
    "- You can access the API documentation on the dataset page on OpenDataPhilly"
   ]
  },
  {
   "cell_type": "markdown",
   "metadata": {
    "slideshow": {
     "slide_type": "subslide"
    }
   },
   "source": [
    "For example: shooting victims in Philadelphia\n",
    "\n",
    "[https://www.opendataphilly.org/dataset/shooting-victims](https://www.opendataphilly.org/dataset/shooting-victims)\n",
    "\n",
    "and the API documentation:\n",
    "\n",
    "[https://cityofphiladelphia.github.io/carto-api-explorer/#shootings](https://cityofphiladelphia.github.io/carto-api-explorer/#shootings)"
   ]
  },
  {
   "cell_type": "markdown",
   "metadata": {},
   "source": [
    "Let's take a look at the download URL for the data in the GeoJSON format:\n",
    "\n",
    "![](imgs/shooting-victims-api.png){width=500}\n"
   ]
  },
  {
   "cell_type": "markdown",
   "metadata": {},
   "source": [
    "#### The anatomy of an API request\n",
    "\n",
    "![](imgs/carto-api.png){width=\"900\"}\n",
    "\n",
    "\n",
    "\n",
    "- **Base URL**: shown in blue\n",
    "- **?**: shown in purple; it separates the base URL from the query parameters\n",
    "- **Query parameters**: underlined in red; these parameters allow the user to customize the data response\n",
    "- **&**: underlined in green; the separator between the query parameters"
   ]
  },
  {
   "cell_type": "markdown",
   "metadata": {},
   "source": [
    "So, let's break down the URL into its component parts:"
   ]
  },
  {
   "cell_type": "code",
   "execution_count": 41,
   "metadata": {
    "tags": []
   },
   "outputs": [],
   "source": [
    "# The API endpoint\n",
    "carto_api_endpoint = \"https://phl.carto.com/api/v2/sql\"\n",
    "\n",
    "# The query parameters\n",
    "params = {\n",
    "    \"q\": \"SELECT * FROM shootings\",\n",
    "    \"format\": \"geojson\",\n",
    "    \"skipfields\": \"cartodb_id\",\n",
    "    # Note: we won't need the filename parameter, since we're not saving the data to a file\n",
    "    # \"filename\": \"shootings\"\n",
    "}"
   ]
  },
  {
   "cell_type": "markdown",
   "metadata": {
    "slideshow": {
     "slide_type": "slide"
    }
   },
   "source": [
    "::: {.callout-note}\n",
    "### Note: SQL Queries\n",
    "\n",
    "The `q` parameter is a *SQL query*. It allows you to select a specific subset of data from the larger database.\n",
    "\n",
    "CARTO API documentation: [https://carto.com/developers/sql-api/](https://carto.com/developers/sql-api/)\n",
    "\n",
    "SQL documentation: [https://www.postgresql.org/docs/9.1/sql.html](https://www.postgresql.org/docs/9.1/sql.html)\n",
    "\n",
    "**General Query Syntax**\n",
    "\n",
    "`SELECT [field names] FROM [table name] WHERE [query]`\n",
    ":::"
   ]
  },
  {
   "cell_type": "markdown",
   "metadata": {
    "slideshow": {
     "slide_type": "slide"
    }
   },
   "source": [
    "#### Let's try it out in Python\n",
    "\n",
    "We'll use Python's `requests` library to use a \"get\" request to query the API endpoint with our desired query. Similar to our web scraping requests!"
   ]
  },
  {
   "cell_type": "code",
   "execution_count": 42,
   "metadata": {
    "tags": []
   },
   "outputs": [],
   "source": [
    "import requests"
   ]
  },
  {
   "cell_type": "markdown",
   "metadata": {},
   "source": [
    "Let's make the get request and pass the query parameters via the `params` keyword:"
   ]
  },
  {
   "cell_type": "code",
   "execution_count": 43,
   "metadata": {
    "tags": []
   },
   "outputs": [
    {
     "data": {
      "text/plain": [
       "<Response [200]>"
      ]
     },
     "execution_count": 43,
     "metadata": {},
     "output_type": "execute_result"
    }
   ],
   "source": [
    "response = requests.get(carto_api_endpoint, params=params)\n",
    "\n",
    "response"
   ]
  },
  {
   "cell_type": "code",
   "execution_count": 44,
   "metadata": {
    "slideshow": {
     "slide_type": "subslide"
    }
   },
   "outputs": [],
   "source": [
    "# Get the returned data in JSON format\n",
    "# This is a dictionary\n",
    "features = response.json()"
   ]
  },
  {
   "cell_type": "code",
   "execution_count": 46,
   "metadata": {},
   "outputs": [
    {
     "data": {
      "text/plain": [
       "dict"
      ]
     },
     "execution_count": 46,
     "metadata": {},
     "output_type": "execute_result"
    }
   ],
   "source": [
    "type(features)"
   ]
  },
  {
   "cell_type": "code",
   "execution_count": 47,
   "metadata": {
    "slideshow": {
     "slide_type": "subslide"
    }
   },
   "outputs": [
    {
     "data": {
      "text/plain": [
       "['type', 'features']"
      ]
     },
     "execution_count": 47,
     "metadata": {},
     "output_type": "execute_result"
    }
   ],
   "source": [
    "# What are the keys?\n",
    "list(features.keys())"
   ]
  },
  {
   "cell_type": "code",
   "execution_count": 48,
   "metadata": {
    "slideshow": {
     "slide_type": "subslide"
    }
   },
   "outputs": [
    {
     "data": {
      "text/plain": [
       "'FeatureCollection'"
      ]
     },
     "execution_count": 48,
     "metadata": {},
     "output_type": "execute_result"
    }
   ],
   "source": [
    "features[\"type\"]"
   ]
  },
  {
   "cell_type": "code",
   "execution_count": 49,
   "metadata": {
    "slideshow": {
     "slide_type": "subslide"
    }
   },
   "outputs": [
    {
     "data": {
      "text/plain": [
       "{'type': 'Feature',\n",
       " 'geometry': {'type': 'Point', 'coordinates': [-75.232057, 39.932664]},\n",
       " 'properties': {'objectid': 1,\n",
       "  'year': 2015,\n",
       "  'dc_key': '201512064080.00000000',\n",
       "  'code': '400',\n",
       "  'date_': '2015-08-12T00:00:00Z',\n",
       "  'time': '10:00:00',\n",
       "  'race': 'B',\n",
       "  'sex': 'M',\n",
       "  'age': '48',\n",
       "  'wound': 'Multiple',\n",
       "  'officer_involved': 'N',\n",
       "  'offender_injured': 'N',\n",
       "  'offender_deceased': 'N',\n",
       "  'location': '6000 BLOCK Regent St',\n",
       "  'latino': 0,\n",
       "  'point_x': -75.23205744,\n",
       "  'point_y': 39.93266438,\n",
       "  'dist': '12',\n",
       "  'inside': 0,\n",
       "  'outside': 1,\n",
       "  'fatal': 0}}"
      ]
     },
     "execution_count": 49,
     "metadata": {},
     "output_type": "execute_result"
    }
   ],
   "source": [
    "# Let's look at the first feature\n",
    "features[\"features\"][0]"
   ]
  },
  {
   "cell_type": "markdown",
   "metadata": {
    "slideshow": {
     "slide_type": "subslide"
    }
   },
   "source": [
    "Use the `GeoDataFrame.from_features()` function to create a GeoDataFrame."
   ]
  },
  {
   "cell_type": "code",
   "execution_count": 50,
   "metadata": {
    "slideshow": {
     "slide_type": "subslide"
    }
   },
   "outputs": [],
   "source": [
    "shootings = gpd.GeoDataFrame.from_features(features, crs=\"EPSG:4326\")"
   ]
  },
  {
   "cell_type": "markdown",
   "metadata": {},
   "source": [
    "\n",
    "::: {.callout-important}\n",
    "Don't forget to specify the CRS of the input data when using `GeoDataFrame.from_features()`.\n",
    ":::"
   ]
  },
  {
   "cell_type": "code",
   "execution_count": 51,
   "metadata": {
    "slideshow": {
     "slide_type": "subslide"
    }
   },
   "outputs": [
    {
     "data": {
      "text/html": [
       "<div>\n",
       "<style scoped>\n",
       "    .dataframe tbody tr th:only-of-type {\n",
       "        vertical-align: middle;\n",
       "    }\n",
       "\n",
       "    .dataframe tbody tr th {\n",
       "        vertical-align: top;\n",
       "    }\n",
       "\n",
       "    .dataframe thead th {\n",
       "        text-align: right;\n",
       "    }\n",
       "</style>\n",
       "<table border=\"1\" class=\"dataframe\">\n",
       "  <thead>\n",
       "    <tr style=\"text-align: right;\">\n",
       "      <th></th>\n",
       "      <th>geometry</th>\n",
       "      <th>objectid</th>\n",
       "      <th>year</th>\n",
       "      <th>dc_key</th>\n",
       "      <th>code</th>\n",
       "      <th>date_</th>\n",
       "      <th>time</th>\n",
       "      <th>race</th>\n",
       "      <th>sex</th>\n",
       "      <th>age</th>\n",
       "      <th>wound</th>\n",
       "      <th>officer_involved</th>\n",
       "      <th>offender_injured</th>\n",
       "      <th>offender_deceased</th>\n",
       "      <th>location</th>\n",
       "      <th>latino</th>\n",
       "      <th>point_x</th>\n",
       "      <th>point_y</th>\n",
       "      <th>dist</th>\n",
       "      <th>inside</th>\n",
       "      <th>outside</th>\n",
       "      <th>fatal</th>\n",
       "    </tr>\n",
       "  </thead>\n",
       "  <tbody>\n",
       "    <tr>\n",
       "      <th>0</th>\n",
       "      <td>POINT (-75.23206 39.93266)</td>\n",
       "      <td>1</td>\n",
       "      <td>2015</td>\n",
       "      <td>201512064080.00000000</td>\n",
       "      <td>400</td>\n",
       "      <td>2015-08-12T00:00:00Z</td>\n",
       "      <td>10:00:00</td>\n",
       "      <td>B</td>\n",
       "      <td>M</td>\n",
       "      <td>48</td>\n",
       "      <td>Multiple</td>\n",
       "      <td>N</td>\n",
       "      <td>N</td>\n",
       "      <td>N</td>\n",
       "      <td>6000 BLOCK Regent St</td>\n",
       "      <td>0.0</td>\n",
       "      <td>-75.232057</td>\n",
       "      <td>39.932664</td>\n",
       "      <td>12</td>\n",
       "      <td>0.0</td>\n",
       "      <td>1.0</td>\n",
       "      <td>0.0</td>\n",
       "    </tr>\n",
       "    <tr>\n",
       "      <th>1</th>\n",
       "      <td>POINT (-75.23004 39.93236)</td>\n",
       "      <td>2</td>\n",
       "      <td>2015</td>\n",
       "      <td>201512030511.00000000</td>\n",
       "      <td>400</td>\n",
       "      <td>2015-04-22T00:00:00Z</td>\n",
       "      <td>11:20:00</td>\n",
       "      <td>B</td>\n",
       "      <td>M</td>\n",
       "      <td>39</td>\n",
       "      <td>Multiple</td>\n",
       "      <td>N</td>\n",
       "      <td>N</td>\n",
       "      <td>N</td>\n",
       "      <td>2000 BLOCK S 60th St</td>\n",
       "      <td>0.0</td>\n",
       "      <td>-75.230036</td>\n",
       "      <td>39.932357</td>\n",
       "      <td>12</td>\n",
       "      <td>0.0</td>\n",
       "      <td>1.0</td>\n",
       "      <td>0.0</td>\n",
       "    </tr>\n",
       "    <tr>\n",
       "      <th>2</th>\n",
       "      <td>POINT (-75.22167 39.93636)</td>\n",
       "      <td>3</td>\n",
       "      <td>2015</td>\n",
       "      <td>201512012408.00000000</td>\n",
       "      <td>3400</td>\n",
       "      <td>2015-02-17T00:00:00Z</td>\n",
       "      <td>19:00:00</td>\n",
       "      <td>B</td>\n",
       "      <td>M</td>\n",
       "      <td>43</td>\n",
       "      <td>foot</td>\n",
       "      <td>N</td>\n",
       "      <td>N</td>\n",
       "      <td>N</td>\n",
       "      <td>5500 BLOCK Greenway Ave</td>\n",
       "      <td>0.0</td>\n",
       "      <td>-75.221674</td>\n",
       "      <td>39.936357</td>\n",
       "      <td>12</td>\n",
       "      <td>0.0</td>\n",
       "      <td>1.0</td>\n",
       "      <td>0.0</td>\n",
       "    </tr>\n",
       "    <tr>\n",
       "      <th>3</th>\n",
       "      <td>POINT (-75.22292 39.93538)</td>\n",
       "      <td>4</td>\n",
       "      <td>2015</td>\n",
       "      <td>201512002152.00000000</td>\n",
       "      <td>100</td>\n",
       "      <td>2015-01-10T00:00:00Z</td>\n",
       "      <td>00:34:00</td>\n",
       "      <td>B</td>\n",
       "      <td>M</td>\n",
       "      <td>24</td>\n",
       "      <td>Chest</td>\n",
       "      <td>N</td>\n",
       "      <td>N</td>\n",
       "      <td>N</td>\n",
       "      <td>1900 BLOCK S 56th St</td>\n",
       "      <td>0.0</td>\n",
       "      <td>-75.222921</td>\n",
       "      <td>39.935376</td>\n",
       "      <td>12</td>\n",
       "      <td>0.0</td>\n",
       "      <td>1.0</td>\n",
       "      <td>1.0</td>\n",
       "    </tr>\n",
       "    <tr>\n",
       "      <th>4</th>\n",
       "      <td>POINT (-75.22952 39.91840)</td>\n",
       "      <td>5</td>\n",
       "      <td>2015</td>\n",
       "      <td>201512000146.00000000</td>\n",
       "      <td>400</td>\n",
       "      <td>2015-01-01T00:00:00Z</td>\n",
       "      <td>13:41:00</td>\n",
       "      <td>B</td>\n",
       "      <td>M</td>\n",
       "      <td>24</td>\n",
       "      <td>Head</td>\n",
       "      <td>N</td>\n",
       "      <td>N</td>\n",
       "      <td>N</td>\n",
       "      <td>6600 BLOCK Dicks Ave</td>\n",
       "      <td>0.0</td>\n",
       "      <td>-75.229520</td>\n",
       "      <td>39.918396</td>\n",
       "      <td>12</td>\n",
       "      <td>0.0</td>\n",
       "      <td>1.0</td>\n",
       "      <td>0.0</td>\n",
       "    </tr>\n",
       "  </tbody>\n",
       "</table>\n",
       "</div>"
      ],
      "text/plain": [
       "                     geometry  objectid  year                 dc_key  code  \\\n",
       "0  POINT (-75.23206 39.93266)         1  2015  201512064080.00000000   400   \n",
       "1  POINT (-75.23004 39.93236)         2  2015  201512030511.00000000   400   \n",
       "2  POINT (-75.22167 39.93636)         3  2015  201512012408.00000000  3400   \n",
       "3  POINT (-75.22292 39.93538)         4  2015  201512002152.00000000   100   \n",
       "4  POINT (-75.22952 39.91840)         5  2015  201512000146.00000000   400   \n",
       "\n",
       "                  date_      time race sex age     wound officer_involved  \\\n",
       "0  2015-08-12T00:00:00Z  10:00:00    B   M  48  Multiple                N   \n",
       "1  2015-04-22T00:00:00Z  11:20:00    B   M  39  Multiple                N   \n",
       "2  2015-02-17T00:00:00Z  19:00:00    B   M  43      foot                N   \n",
       "3  2015-01-10T00:00:00Z  00:34:00    B   M  24     Chest                N   \n",
       "4  2015-01-01T00:00:00Z  13:41:00    B   M  24      Head                N   \n",
       "\n",
       "  offender_injured offender_deceased                 location  latino  \\\n",
       "0                N                 N     6000 BLOCK Regent St     0.0   \n",
       "1                N                 N     2000 BLOCK S 60th St     0.0   \n",
       "2                N                 N  5500 BLOCK Greenway Ave     0.0   \n",
       "3                N                 N     1900 BLOCK S 56th St     0.0   \n",
       "4                N                 N     6600 BLOCK Dicks Ave     0.0   \n",
       "\n",
       "     point_x    point_y dist  inside  outside  fatal  \n",
       "0 -75.232057  39.932664   12     0.0      1.0    0.0  \n",
       "1 -75.230036  39.932357   12     0.0      1.0    0.0  \n",
       "2 -75.221674  39.936357   12     0.0      1.0    0.0  \n",
       "3 -75.222921  39.935376   12     0.0      1.0    1.0  \n",
       "4 -75.229520  39.918396   12     0.0      1.0    0.0  "
      ]
     },
     "execution_count": 51,
     "metadata": {},
     "output_type": "execute_result"
    }
   ],
   "source": [
    "shootings.head()"
   ]
  },
  {
   "cell_type": "markdown",
   "metadata": {
    "slideshow": {
     "slide_type": "subslide"
    },
    "tags": []
   },
   "source": [
    "#### At-Home Exercise: Visualizing shootings data"
   ]
  },
  {
   "cell_type": "markdown",
   "metadata": {
    "slideshow": {
     "slide_type": "slide"
    },
    "tags": []
   },
   "source": [
    "**Step 1: Prep the data**\n",
    "\n",
    "- Drop rows where the geometry is NaN\n",
    "- Convert to a better CRS (e.g., 3857)\n",
    "- Load city limits from Open Data Philly and trim to those only within city limits (some shootings have wrong coordinates, outside Philadelphia!)"
   ]
  },
  {
   "cell_type": "code",
   "execution_count": 52,
   "metadata": {},
   "outputs": [],
   "source": [
    "# make sure we remove missing geometries\n",
    "shootings = shootings.dropna(subset=[\"geometry\"])\n",
    "\n",
    "# convert to a better CRS\n",
    "shootings = shootings.to_crs(epsg=3857)"
   ]
  },
  {
   "cell_type": "code",
   "execution_count": 53,
   "metadata": {
    "tags": []
   },
   "outputs": [],
   "source": [
    "city_limits = gpd.read_file(\n",
    "    \"https://opendata.arcgis.com/datasets/405ec3da942d4e20869d4e1449a2be48_0.geojson\"\n",
    ").to_crs(epsg=3857)"
   ]
  },
  {
   "cell_type": "code",
   "execution_count": 54,
   "metadata": {
    "tags": []
   },
   "outputs": [],
   "source": [
    "# Remove any shootings that are outside the city limits\n",
    "shootings = gpd.sjoin(shootings, city_limits, predicate=\"within\", how=\"inner\").drop(\n",
    "    columns=[\"index_right\"]\n",
    ")"
   ]
  },
  {
   "cell_type": "markdown",
   "metadata": {
    "slideshow": {
     "slide_type": "slide"
    },
    "tags": []
   },
   "source": [
    "**Step 2: Plot the points**\n",
    "\n",
    "A quick plot with geopandas to show the shootings as points, and overlay Philadelphia ZIP codes."
   ]
  },
  {
   "cell_type": "code",
   "execution_count": 55,
   "metadata": {
    "tags": []
   },
   "outputs": [],
   "source": [
    "# From Open Data Philly\n",
    "zip_codes = gpd.read_file(\n",
    "    \"https://opendata.arcgis.com/datasets/b54ec5210cee41c3a884c9086f7af1be_0.geojson\"\n",
    ").to_crs(epsg=3857)"
   ]
  },
  {
   "cell_type": "code",
   "execution_count": 56,
   "metadata": {},
   "outputs": [
    {
     "data": {
      "image/png": "[encoded data removed]",
      "text/plain": [
       "<Figure size 600x600 with 1 Axes>"
      ]
     },
     "metadata": {},
     "output_type": "display_data"
    }
   ],
   "source": [
    "fig, ax = plt.subplots(figsize=(6, 6))\n",
    "\n",
    "# ZIP Codes\n",
    "zip_codes.to_crs(epsg=3857).plot(ax=ax, facecolor=\"none\", edgecolor=\"black\")\n",
    "\n",
    "# Shootings\n",
    "shootings.plot(ax=ax, color=\"crimson\", markersize=10, alpha=0.4)\n",
    "ax.set_axis_off()"
   ]
  },
  {
   "cell_type": "markdown",
   "metadata": {
    "slideshow": {
     "slide_type": "slide"
    },
    "tags": []
   },
   "source": [
    "**Step 3: Make a (more useful) hex bin map**"
   ]
  },
  {
   "cell_type": "code",
   "execution_count": 57,
   "metadata": {},
   "outputs": [
    {
     "data": {
      "image/png": "[encoded data removed]",
      "text/plain": [
       "<Figure size 1000x1000 with 1 Axes>"
      ]
     },
     "metadata": {},
     "output_type": "display_data"
    }
   ],
   "source": [
    "# Initialize the axes\n",
    "fig, ax = plt.subplots(figsize=(10, 10), facecolor=plt.get_cmap(\"viridis\")(0))\n",
    "\n",
    "# Convert to Web Mercator and plot the hexbins\n",
    "x = shootings.geometry.x\n",
    "y = shootings.geometry.y\n",
    "ax.hexbin(x, y, gridsize=40, mincnt=1, cmap=\"viridis\")\n",
    "\n",
    "# overlay the city limits\n",
    "zip_codes.to_crs(epsg=3857).plot(\n",
    "    ax=ax, facecolor=\"none\", linewidth=0.5, edgecolor=\"white\"\n",
    ")\n",
    "\n",
    "ax.set_axis_off()"
   ]
  },
  {
   "cell_type": "markdown",
   "metadata": {
    "slideshow": {
     "slide_type": "slide"
    }
   },
   "source": [
    "#### Example: Count the total number of rows in a table\n",
    "\n",
    "The SQL `COUNT` function can be applied to count all rows."
   ]
  },
  {
   "cell_type": "code",
   "execution_count": 58,
   "metadata": {
    "slideshow": {
     "slide_type": "fragment"
    }
   },
   "outputs": [],
   "source": [
    "response = requests.get(\n",
    "    carto_api_endpoint, params={\"q\": \"SELECT COUNT(*) FROM shootings\"}\n",
    ")"
   ]
  },
  {
   "cell_type": "code",
   "execution_count": 59,
   "metadata": {
    "slideshow": {
     "slide_type": "subslide"
    }
   },
   "outputs": [
    {
     "data": {
      "text/plain": [
       "{'rows': [{'count': 17110}],\n",
       " 'time': 0.005,\n",
       " 'fields': {'count': {'type': 'number', 'pgtype': 'int8'}},\n",
       " 'total_rows': 1}"
      ]
     },
     "execution_count": 59,
     "metadata": {},
     "output_type": "execute_result"
    }
   ],
   "source": [
    "response.json()"
   ]
  },
  {
   "cell_type": "markdown",
   "metadata": {
    "slideshow": {
     "slide_type": "subslide"
    }
   },
   "source": [
    "::: {.callout-tip}\n",
    "It's always a good idea to check how many rows you might be downloading before requesting all of the data from an API!\n",
    ":::"
   ]
  },
  {
   "cell_type": "markdown",
   "metadata": {
    "slideshow": {
     "slide_type": "slide"
    }
   },
   "source": [
    "#### Example: Select all columns, limiting the total number returned\n",
    "\n",
    "The `LIMIT` function limits the number of returned rows. It is very useful for taking a quick look at the format of a database."
   ]
  },
  {
   "cell_type": "code",
   "execution_count": 60,
   "metadata": {
    "slideshow": {
     "slide_type": "subslide"
    }
   },
   "outputs": [],
   "source": [
    "# Limit the returned data to only 1 row\n",
    "query = \"SELECT * FROM shootings LIMIT 1\"\n",
    "\n",
    "# Make the request\n",
    "params = {\"q\": query, \"format\": \"geojson\"}\n",
    "response = requests.get(carto_api_endpoint, params=params)"
   ]
  },
  {
   "cell_type": "markdown",
   "metadata": {
    "slideshow": {
     "slide_type": "fragment"
    }
   },
   "source": [
    "Create the GeoDataFrame:"
   ]
  },
  {
   "cell_type": "code",
   "execution_count": 61,
   "metadata": {
    "slideshow": {
     "slide_type": "subslide"
    }
   },
   "outputs": [
    {
     "data": {
      "text/html": [
       "<div>\n",
       "<style scoped>\n",
       "    .dataframe tbody tr th:only-of-type {\n",
       "        vertical-align: middle;\n",
       "    }\n",
       "\n",
       "    .dataframe tbody tr th {\n",
       "        vertical-align: top;\n",
       "    }\n",
       "\n",
       "    .dataframe thead th {\n",
       "        text-align: right;\n",
       "    }\n",
       "</style>\n",
       "<table border=\"1\" class=\"dataframe\">\n",
       "  <thead>\n",
       "    <tr style=\"text-align: right;\">\n",
       "      <th></th>\n",
       "      <th>geometry</th>\n",
       "      <th>cartodb_id</th>\n",
       "      <th>objectid</th>\n",
       "      <th>year</th>\n",
       "      <th>dc_key</th>\n",
       "      <th>code</th>\n",
       "      <th>date_</th>\n",
       "      <th>time</th>\n",
       "      <th>race</th>\n",
       "      <th>sex</th>\n",
       "      <th>age</th>\n",
       "      <th>wound</th>\n",
       "      <th>officer_involved</th>\n",
       "      <th>offender_injured</th>\n",
       "      <th>offender_deceased</th>\n",
       "      <th>location</th>\n",
       "      <th>latino</th>\n",
       "      <th>point_x</th>\n",
       "      <th>point_y</th>\n",
       "      <th>dist</th>\n",
       "      <th>inside</th>\n",
       "      <th>outside</th>\n",
       "      <th>fatal</th>\n",
       "    </tr>\n",
       "  </thead>\n",
       "  <tbody>\n",
       "    <tr>\n",
       "      <th>0</th>\n",
       "      <td>POINT (-75.23206 39.93266)</td>\n",
       "      <td>1</td>\n",
       "      <td>1</td>\n",
       "      <td>2015</td>\n",
       "      <td>201512064080.00000000</td>\n",
       "      <td>400</td>\n",
       "      <td>2015-08-12T00:00:00Z</td>\n",
       "      <td>10:00:00</td>\n",
       "      <td>B</td>\n",
       "      <td>M</td>\n",
       "      <td>48</td>\n",
       "      <td>Multiple</td>\n",
       "      <td>N</td>\n",
       "      <td>N</td>\n",
       "      <td>N</td>\n",
       "      <td>6000 BLOCK Regent St</td>\n",
       "      <td>0</td>\n",
       "      <td>-75.232057</td>\n",
       "      <td>39.932664</td>\n",
       "      <td>12</td>\n",
       "      <td>0</td>\n",
       "      <td>1</td>\n",
       "      <td>0</td>\n",
       "    </tr>\n",
       "  </tbody>\n",
       "</table>\n",
       "</div>"
      ],
      "text/plain": [
       "                     geometry  cartodb_id  objectid  year  \\\n",
       "0  POINT (-75.23206 39.93266)           1         1  2015   \n",
       "\n",
       "                  dc_key code                 date_      time race sex age  \\\n",
       "0  201512064080.00000000  400  2015-08-12T00:00:00Z  10:00:00    B   M  48   \n",
       "\n",
       "      wound officer_involved offender_injured offender_deceased  \\\n",
       "0  Multiple                N                N                 N   \n",
       "\n",
       "               location  latino    point_x    point_y dist  inside  outside  \\\n",
       "0  6000 BLOCK Regent St       0 -75.232057  39.932664   12       0        1   \n",
       "\n",
       "   fatal  \n",
       "0      0  "
      ]
     },
     "execution_count": 61,
     "metadata": {},
     "output_type": "execute_result"
    }
   ],
   "source": [
    "df = gpd.GeoDataFrame.from_features(response.json(), crs=\"EPSG:4326\")\n",
    "\n",
    "df"
   ]
  },
  {
   "cell_type": "markdown",
   "metadata": {
    "slideshow": {
     "slide_type": "slide"
    }
   },
   "source": [
    "#### Example: Select by specific column values\n",
    "\n",
    "Use the `WHERE` function to select a subset where the logical condition is true."
   ]
  },
  {
   "cell_type": "markdown",
   "metadata": {
    "slideshow": {
     "slide_type": "subslide"
    }
   },
   "source": [
    "Example #1: Select nonfatal shootings only"
   ]
  },
  {
   "cell_type": "code",
   "execution_count": 62,
   "metadata": {
    "tags": []
   },
   "outputs": [],
   "source": [
    "# Select nonfatal shootings only\n",
    "query = \"SELECT * FROM shootings WHERE fatal = 0\""
   ]
  },
  {
   "cell_type": "code",
   "execution_count": 63,
   "metadata": {
    "slideshow": {
     "slide_type": "subslide"
    }
   },
   "outputs": [
    {
     "name": "stdout",
     "output_type": "stream",
     "text": [
      "number of nonfatal shootings =  13416\n"
     ]
    }
   ],
   "source": [
    "# Make the request\n",
    "params = {\"q\": query, \"format\": \"geojson\"}\n",
    "response = requests.get(carto_api_endpoint, params=params)\n",
    "\n",
    "# Make the GeoDataFrame\n",
    "nonfatal = gpd.GeoDataFrame.from_features(response.json(), crs=\"EPSG:4326\")\n",
    "\n",
    "# Print\n",
    "print(\"number of nonfatal shootings = \", len(nonfatal))"
   ]
  },
  {
   "cell_type": "markdown",
   "metadata": {
    "slideshow": {
     "slide_type": "slide"
    }
   },
   "source": [
    "Example #2: Select shootings in 2023"
   ]
  },
  {
   "cell_type": "code",
   "execution_count": 64,
   "metadata": {
    "tags": []
   },
   "outputs": [],
   "source": [
    "# Select based on \"date_\"\n",
    "query = \"SELECT * FROM shootings WHERE date_ >= '1/1/23'\""
   ]
  },
  {
   "cell_type": "code",
   "execution_count": 65,
   "metadata": {
    "slideshow": {
     "slide_type": "subslide"
    }
   },
   "outputs": [
    {
     "name": "stdout",
     "output_type": "stream",
     "text": [
      "number of shootings in 2023 =  3419\n"
     ]
    }
   ],
   "source": [
    "# Make the request\n",
    "params = {\"q\": query, \"format\": \"geojson\"}\n",
    "response = requests.get(carto_api_endpoint, params=params)\n",
    "\n",
    "# Make the GeoDataFrame\n",
    "shootings_2023 = gpd.GeoDataFrame.from_features(response.json(), crs=\"EPSG:4326\")\n",
    "\n",
    "# Print\n",
    "print(\"number of shootings in 2023 = \", len(shootings_2023))"
   ]
  },
  {
   "cell_type": "markdown",
   "metadata": {
    "slideshow": {
     "slide_type": "slide"
    },
    "tags": []
   },
   "source": [
    "#### At-Home Exercise: Explore trends by month and day of week"
   ]
  },
  {
   "cell_type": "markdown",
   "metadata": {
    "slideshow": {
     "slide_type": "subslide"
    },
    "tags": []
   },
   "source": [
    "##### Step 1: Convert the date column to `DateTime` objects\n",
    "\n",
    "Add Month and Day of Week columns"
   ]
  },
  {
   "cell_type": "code",
   "execution_count": 66,
   "metadata": {
    "slideshow": {
     "slide_type": "fragment"
    }
   },
   "outputs": [],
   "source": [
    "# Condddvert the data column to a datetime object\n",
    "shootings[\"date\"] = pd.to_datetime(shootings[\"date_\"])"
   ]
  },
  {
   "cell_type": "code",
   "execution_count": 67,
   "metadata": {
    "slideshow": {
     "slide_type": "fragment"
    }
   },
   "outputs": [],
   "source": [
    "# Add new columns: Month and Day of Week\n",
    "shootings[\"Month\"] = shootings[\"date\"].dt.month\n",
    "shootings[\"Day of Week\"] = shootings[\"date\"].dt.dayofweek  # Monday is 0, Sunday is 6"
   ]
  },
  {
   "cell_type": "markdown",
   "metadata": {
    "slideshow": {
     "slide_type": "subslide"
    }
   },
   "source": [
    "##### Step 2: Calculate number of shootings by month and day of week\n",
    "\n",
    "Use the familiar Groupby --> size()"
   ]
  },
  {
   "cell_type": "code",
   "execution_count": 68,
   "metadata": {
    "slideshow": {
     "slide_type": "fragment"
    }
   },
   "outputs": [
    {
     "data": {
      "text/html": [
       "<div>\n",
       "<style scoped>\n",
       "    .dataframe tbody tr th:only-of-type {\n",
       "        vertical-align: middle;\n",
       "    }\n",
       "\n",
       "    .dataframe tbody tr th {\n",
       "        vertical-align: top;\n",
       "    }\n",
       "\n",
       "    .dataframe thead th {\n",
       "        text-align: right;\n",
       "    }\n",
       "</style>\n",
       "<table border=\"1\" class=\"dataframe\">\n",
       "  <thead>\n",
       "    <tr style=\"text-align: right;\">\n",
       "      <th></th>\n",
       "      <th>Month</th>\n",
       "      <th>Day of Week</th>\n",
       "      <th>Count</th>\n",
       "    </tr>\n",
       "  </thead>\n",
       "  <tbody>\n",
       "    <tr>\n",
       "      <th>0</th>\n",
       "      <td>1</td>\n",
       "      <td>0</td>\n",
       "      <td>198</td>\n",
       "    </tr>\n",
       "    <tr>\n",
       "      <th>1</th>\n",
       "      <td>1</td>\n",
       "      <td>1</td>\n",
       "      <td>169</td>\n",
       "    </tr>\n",
       "    <tr>\n",
       "      <th>2</th>\n",
       "      <td>1</td>\n",
       "      <td>2</td>\n",
       "      <td>161</td>\n",
       "    </tr>\n",
       "    <tr>\n",
       "      <th>3</th>\n",
       "      <td>1</td>\n",
       "      <td>3</td>\n",
       "      <td>168</td>\n",
       "    </tr>\n",
       "    <tr>\n",
       "      <th>4</th>\n",
       "      <td>1</td>\n",
       "      <td>4</td>\n",
       "      <td>164</td>\n",
       "    </tr>\n",
       "  </tbody>\n",
       "</table>\n",
       "</div>"
      ],
      "text/plain": [
       "   Month  Day of Week  Count\n",
       "0      1            0    198\n",
       "1      1            1    169\n",
       "2      1            2    161\n",
       "3      1            3    168\n",
       "4      1            4    164"
      ]
     },
     "execution_count": 68,
     "metadata": {},
     "output_type": "execute_result"
    }
   ],
   "source": [
    "count = shootings.groupby([\"Month\", \"Day of Week\"]).size()\n",
    "count = count.reset_index(name=\"Count\")\n",
    "count.head()"
   ]
  },
  {
   "cell_type": "markdown",
   "metadata": {
    "slideshow": {
     "slide_type": "subslide"
    }
   },
   "source": [
    "##### Step 3: Make a heatmap using `hvplot`"
   ]
  },
  {
   "cell_type": "code",
   "execution_count": 69,
   "metadata": {
    "slideshow": {
     "slide_type": "subslide"
    },
    "tags": []
   },
   "outputs": [
    {
     "data": {},
     "metadata": {},
     "output_type": "display_data"
    },
    {
     "data": {
      "application/vnd.holoviews_exec.v0+json": "",
      "text/html": [
       "<div id='63a98937-31c5-46ad-aeed-9eed27a5bbb9'>\n",
       "  <div id=\"aa61121c-2e91-47aa-a3d2-90698dc7679f\" data-root-id=\"63a98937-31c5-46ad-aeed-9eed27a5bbb9\" style=\"display: contents;\"></div>\n",
       "</div>\n",
       "<script type=\"application/javascript\">(function(root) {\n",
       "  var docs_json = {\"3d6e11c9-c7f5-47ce-a213-294e1113f959\":{\"version\":\"3.7.3\",\"title\":\"Bokeh Application\",\"roots\":[{\"type\":\"object\",\"name\":\"Row\",\"id\":\"63a98937-31c5-46ad-aeed-9eed27a5bbb9\",\"attributes\":{\"name\":\"Row00296\",\"tags\":[\"embedded\"],\"stylesheets\":[\"\\n:host(.pn-loading):before, .pn-loading:before {\\n  background-color: #c3c3c3;\\n  mask-size: auto calc(min(50%, 400px));\\n  -webkit-mask-size: auto calc(min(50%, 400px));\\n}\",{\"type\":\"object\",\"name\":\"ImportedStyleSheet\",\"id\":\"8ebeff98-8895-4eb6-8109-2b1fb37a4593\",\"attributes\":{\"url\":\"https://cdn.holoviz.org/panel/1.7.5/dist/css/loading.css\"}},{\"type\":\"object\",\"name\":\"ImportedStyleSheet\",\"id\":\"63ee5112-9f82-4c59-82e1-f56001d4b0d7\",\"attributes\":{\"url\":\"https://cdn.holoviz.org/panel/1.7.5/dist/css/listpanel.css\"}},{\"type\":\"object\",\"name\":\"ImportedStyleSheet\",\"id\":\"b926cd38-5431-49ed-b5fa-b90c3169e19d\",\"attributes\":{\"url\":\"https://cdn.holoviz.org/panel/1.7.5/dist/bundled/theme/default.css\"}},{\"type\":\"object\",\"name\":\"ImportedStyleSheet\",\"id\":\"95508580-12f6-4bdb-97fd-2ca6aaab1ada\",\"attributes\":{\"url\":\"https://cdn.holoviz.org/panel/1.7.5/dist/bundled/theme/native.css\"}}],\"min_width\":400,\"margin\":0,\"sizing_mode\":\"stretch_width\",\"align\":\"start\",\"children\":[{\"type\":\"object\",\"name\":\"Spacer\",\"id\":\"96512757-6937-481a-86c4-d65af18156bc\",\"attributes\":{\"name\":\"HSpacer00300\",\"stylesheets\":[\"\\n:host(.pn-loading):before, .pn-loading:before {\\n  background-color: #c3c3c3;\\n  mask-size: auto calc(min(50%, 400px));\\n  -webkit-mask-size: auto calc(min(50%, 400px));\\n}\",{\"id\":\"8ebeff98-8895-4eb6-8109-2b1fb37a4593\"},{\"id\":\"b926cd38-5431-49ed-b5fa-b90c3169e19d\"},{\"id\":\"95508580-12f6-4bdb-97fd-2ca6aaab1ada\"}],\"min_width\":0,\"margin\":0,\"sizing_mode\":\"stretch_width\",\"align\":\"start\"}},{\"type\":\"object\",\"name\":\"Figure\",\"id\":\"117dd1df-8b40-4d3f-9909-c477a533131a\",\"attributes\":{\"width\":400,\"height\":500,\"margin\":[5,10],\"sizing_mode\":\"fixed\",\"align\":\"start\",\"x_range\":{\"type\":\"object\",\"name\":\"Range1d\",\"id\":\"1c9cc291-69ba-4551-83b4-6b384f0a03fa\",\"attributes\":{\"name\":\"Day of Week\",\"tags\":[[[\"Day of Week\",null]],[]],\"start\":-0.5,\"end\":6.5,\"reset_start\":-0.5,\"reset_end\":6.5}},\"y_range\":{\"type\":\"object\",\"name\":\"Range1d\",\"id\":\"07aeef05-4084-4063-952e-370eb5179c8e\",\"attributes\":{\"name\":\"Month\",\"tags\":[[[\"Month\",null]],{\"type\":\"map\",\"entries\":[[\"invert_yaxis\",true],[\"autorange\",false]]}],\"start\":12.5,\"end\":0.5,\"reset_start\":12.5,\"reset_end\":0.5}},\"x_scale\":{\"type\":\"object\",\"name\":\"LinearScale\",\"id\":\"e95b00e2-3c30-4e1c-960b-ce41a12dceb8\"},\"y_scale\":{\"type\":\"object\",\"name\":\"LinearScale\",\"id\":\"6c56f98d-5f14-42d3-858a-9c02099284e9\"},\"title\":{\"type\":\"object\",\"name\":\"Title\",\"id\":\"0b490692-3234-4bca-a7ca-4931b35566ae\",\"attributes\":{\"text_color\":\"black\",\"text_font_size\":\"12pt\"}},\"renderers\":[{\"type\":\"object\",\"name\":\"GlyphRenderer\",\"id\":\"b14f32fe-62e5-44f1-aa0c-f75c909356ff\",\"attributes\":{\"data_source\":{\"type\":\"object\",\"name\":\"ColumnDataSource\",\"id\":\"66aa2e30-e072-405e-8f26-169121849400\",\"attributes\":{\"selected\":{\"type\":\"object\",\"name\":\"Selection\",\"id\":\"eb852174-f410-41cd-b423-df964feaf7a0\",\"attributes\":{\"indices\":[],\"line_indices\":[]}},\"selection_policy\":{\"type\":\"object\",\"name\":\"UnionRenderers\",\"id\":\"b77c9b0b-e9b7-4a46-8d76-117a8e262a1d\"},\"data\":{\"type\":\"map\",\"entries\":[[\"Day_of_Week\",{\"type\":\"ndarray\",\"array\":{\"type\":\"bytes\",\"data\":\"AAAAAAAAAAAAAAAAAAAAAAAAAAAAAAAAAAAAAAAAAAAAAAAAAAAAAAAAAAAAAAAAAQAAAAEAAAABAAAAAQAAAAEAAAABAAAAAQAAAAEAAAABAAAAAQAAAAEAAAABAAAAAgAAAAIAAAACAAAAAgAAAAIAAAACAAAAAgAAAAIAAAACAAAAAgAAAAIAAAACAAAAAwAAAAMAAAADAAAAAwAAAAMAAAADAAAAAwAAAAMAAAADAAAAAwAAAAMAAAADAAAABAAAAAQAAAAEAAAABAAAAAQAAAAEAAAABAAAAAQAAAAEAAAABAAAAAQAAAAEAAAABQAAAAUAAAAFAAAABQAAAAUAAAAFAAAABQAAAAUAAAAFAAAABQAAAAUAAAAFAAAABgAAAAYAAAAGAAAABgAAAAYAAAAGAAAABgAAAAYAAAAGAAAABgAAAAYAAAAGAAAA\"},\"shape\":[84],\"dtype\":\"int32\",\"order\":\"little\"}],[\"Month\",{\"type\":\"ndarray\",\"array\":{\"type\":\"bytes\",\"data\":\"AQAAAAIAAAADAAAABAAAAAUAAAAGAAAABwAAAAgAAAAJAAAACgAAAAsAAAAMAAAAAQAAAAIAAAADAAAABAAAAAUAAAAGAAAABwAAAAgAAAAJAAAACgAAAAsAAAAMAAAAAQAAAAIAAAADAAAABAAAAAUAAAAGAAAABwAAAAgAAAAJAAAACgAAAAsAAAAMAAAAAQAAAAIAAAADAAAABAAAAAUAAAAGAAAABwAAAAgAAAAJAAAACgAAAAsAAAAMAAAAAQAAAAIAAAADAAAABAAAAAUAAAAGAAAABwAAAAgAAAAJAAAACgAAAAsAAAAMAAAAAQAAAAIAAAADAAAABAAAAAUAAAAGAAAABwAAAAgAAAAJAAAACgAAAAsAAAAMAAAAAQAAAAIAAAADAAAABAAAAAUAAAAGAAAABwAAAAgAAAAJAAAACgAAAAsAAAAMAAAA\"},\"shape\":[84],\"dtype\":\"int32\",\"order\":\"little\"}],[\"zvalues\",{\"type\":\"ndarray\",\"array\":{\"type\":\"bytes\",\"data\":\"xgAAAKQAAAC2AAAAywAAAAIBAAD/AAAAIgEAAAIBAADfAAAA2AAAALIAAAC8AAAAqQAAAJkAAAC4AAAAnAAAAN8AAADoAAAA0QAAAN0AAADKAAAA2wAAALUAAACkAAAAoQAAAJoAAACyAAAAuAAAANwAAADEAAAA4QAAABABAAC1AAAAzwAAANEAAAC3AAAAqAAAAI8AAACWAAAAyAAAAMsAAADeAAAA/AAAAMMAAADGAAAAvgAAAJgAAAC6AAAApAAAAHsAAACuAAAAngAAALIAAADTAAAA+AAAANcAAADSAAAAoAAAALgAAACjAAAAugAAAJ0AAAC8AAAAyAAAAPYAAAAgAQAABgEAABABAADgAAAAAAEAALcAAACrAAAAzQAAAJYAAADKAAAA2gAAAAsBAAACAQAAJQEAAAUBAADeAAAA4AAAANYAAAC8AAAA\"},\"shape\":[84],\"dtype\":\"int32\",\"order\":\"little\"}],[\"width\",{\"type\":\"ndarray\",\"array\":{\"type\":\"bytes\",\"data\":\"AAAAAAAA8D8AAAAAAADwPwAAAAAAAPA/AAAAAAAA8D8AAAAAAADwPwAAAAAAAPA/AAAAAAAA8D8AAAAAAADwPwAAAAAAAPA/AAAAAAAA8D8AAAAAAADwPwAAAAAAAPA/AAAAAAAA8D8AAAAAAADwPwAAAAAAAPA/AAAAAAAA8D8AAAAAAADwPwAAAAAAAPA/AAAAAAAA8D8AAAAAAADwPwAAAAAAAPA/AAAAAAAA8D8AAAAAAADwPwAAAAAAAPA/AAAAAAAA8D8AAAAAAADwPwAAAAAAAPA/AAAAAAAA8D8AAAAAAADwPwAAAAAAAPA/AAAAAAAA8D8AAAAAAADwPwAAAAAAAPA/AAAAAAAA8D8AAAAAAADwPwAAAAAAAPA/AAAAAAAA8D8AAAAAAADwPwAAAAAAAPA/AAAAAAAA8D8AAAAAAADwPwAAAAAAAPA/AAAAAAAA8D8AAAAAAADwPwAAAAAAAPA/AAAAAAAA8D8AAAAAAADwPwAAAAAAAPA/AAAAAAAA8D8AAAAAAADwPwAAAAAAAPA/AAAAAAAA8D8AAAAAAADwPwAAAAAAAPA/AAAAAAAA8D8AAAAAAADwPwAAAAAAAPA/AAAAAAAA8D8AAAAAAADwPwAAAAAAAPA/AAAAAAAA8D8AAAAAAADwPwAAAAAAAPA/AAAAAAAA8D8AAAAAAADwPwAAAAAAAPA/AAAAAAAA8D8AAAAAAADwPwAAAAAAAPA/AAAAAAAA8D8AAAAAAADwPwAAAAAAAPA/AAAAAAAA8D8AAAAAAADwPwAAAAAAAPA/AAAAAAAA8D8AAAAAAADwPwAAAAAAAPA/AAAAAAAA8D8AAAAAAADwPwAAAAAAAPA/AAAAAAAA8D8AAAAAAADwPwAAAAAAAPA/\"},\"shape\":[84],\"dtype\":\"float64\",\"order\":\"little\"}],[\"height\",{\"type\":\"ndarray\",\"array\":{\"type\":\"bytes\",\"data\":\"AAAAAAAA8D8AAAAAAADwPwAAAAAAAPA/AAAAAAAA8D8AAAAAAADwPwAAAAAAAPA/AAAAAAAA8D8AAAAAAADwPwAAAAAAAPA/AAAAAAAA8D8AAAAAAADwPwAAAAAAAPA/AAAAAAAA8D8AAAAAAADwPwAAAAAAAPA/AAAAAAAA8D8AAAAAAADwPwAAAAAAAPA/AAAAAAAA8D8AAAAAAADwPwAAAAAAAPA/AAAAAAAA8D8AAAAAAADwPwAAAAAAAPA/AAAAAAAA8D8AAAAAAADwPwAAAAAAAPA/AAAAAAAA8D8AAAAAAADwPwAAAAAAAPA/AAAAAAAA8D8AAAAAAADwPwAAAAAAAPA/AAAAAAAA8D8AAAAAAADwPwAAAAAAAPA/AAAAAAAA8D8AAAAAAADwPwAAAAAAAPA/AAAAAAAA8D8AAAAAAADwPwAAAAAAAPA/AAAAAAAA8D8AAAAAAADwPwAAAAAAAPA/AAAAAAAA8D8AAAAAAADwPwAAAAAAAPA/AAAAAAAA8D8AAAAAAADwPwAAAAAAAPA/AAAAAAAA8D8AAAAAAADwPwAAAAAAAPA/AAAAAAAA8D8AAAAAAADwPwAAAAAAAPA/AAAAAAAA8D8AAAAAAADwPwAAAAAAAPA/AAAAAAAA8D8AAAAAAADwPwAAAAAAAPA/AAAAAAAA8D8AAAAAAADwPwAAAAAAAPA/AAAAAAAA8D8AAAAAAADwPwAAAAAAAPA/AAAAAAAA8D8AAAAAAADwPwAAAAAAAPA/AAAAAAAA8D8AAAAAAADwPwAAAAAAAPA/AAAAAAAA8D8AAAAAAADwPwAAAAAAAPA/AAAAAAAA8D8AAAAAAADwPwAAAAAAAPA/AAAAAAAA8D8AAAAAAADwPwAAAAAAAPA/\"},\"shape\":[84],\"dtype\":\"float64\",\"order\":\"little\"}],[\"Count\",[\"198\",\"164\",\"182\",\"203\",\"258\",\"255\",\"290\",\"258\",\"223\",\"216\",\"178\",\"188\",\"169\",\"153\",\"184\",\"156\",\"223\",\"232\",\"209\",\"221\",\"202\",\"219\",\"181\",\"164\",\"161\",\"154\",\"178\",\"184\",\"220\",\"196\",\"225\",\"272\",\"181\",\"207\",\"209\",\"183\",\"168\",\"143\",\"150\",\"200\",\"203\",\"222\",\"252\",\"195\",\"198\",\"190\",\"152\",\"186\",\"164\",\"123\",\"174\",\"158\",\"178\",\"211\",\"248\",\"215\",\"210\",\"160\",\"184\",\"163\",\"186\",\"157\",\"188\",\"200\",\"246\",\"288\",\"262\",\"272\",\"224\",\"256\",\"183\",\"171\",\"205\",\"150\",\"202\",\"218\",\"267\",\"258\",\"293\",\"261\",\"222\",\"224\",\"214\",\"188\"]]]}}},\"view\":{\"type\":\"object\",\"name\":\"CDSView\",\"id\":\"a1bece17-b584-4fd7-93ff-404d520575ab\",\"attributes\":{\"filter\":{\"type\":\"object\",\"name\":\"AllIndices\",\"id\":\"f1687c3e-f72f-48f3-9099-34e07713ad67\"}}},\"glyph\":{\"type\":\"object\",\"name\":\"Rect\",\"id\":\"54bddeb5-a098-4b9f-b958-b6c1555a93fd\",\"attributes\":{\"tags\":[\"apply_ranges\"],\"x\":{\"type\":\"field\",\"field\":\"Day_of_Week\"},\"y\":{\"type\":\"field\",\"field\":\"Month\"},\"width\":{\"type\":\"field\",\"field\":\"width\"},\"height\":{\"type\":\"field\",\"field\":\"height\"},\"line_color\":{\"type\":\"value\",\"value\":\"#1f77b4\"},\"line_alpha\":{\"type\":\"value\",\"value\":0},\"fill_color\":{\"type\":\"field\",\"field\":\"zvalues\",\"transform\":{\"type\":\"object\",\"name\":\"LinearColorMapper\",\"id\":\"e941019a-e4e9-4ccc-a350-6a9dce851f14\",\"attributes\":{\"palette\":[\"#440154\",\"#440255\",\"#440357\",\"#450558\",\"#45065a\",\"#45085b\",\"#46095c\",\"#460b5e\",\"#460c5f\",\"#460e61\",\"#470f62\",\"#471163\",\"#471265\",\"#471466\",\"#471567\",\"#471669\",\"#47186a\",\"#48196b\",\"#481a6c\",\"#481c6e\",\"#481d6f\",\"#481e70\",\"#482071\",\"#482172\",\"#482273\",\"#482374\",\"#472575\",\"#472676\",\"#472777\",\"#472878\",\"#472a79\",\"#472b7a\",\"#472c7b\",\"#462d7c\",\"#462f7c\",\"#46307d\",\"#46317e\",\"#45327f\",\"#45347f\",\"#453580\",\"#453681\",\"#443781\",\"#443982\",\"#433a83\",\"#433b83\",\"#433c84\",\"#423d84\",\"#423e85\",\"#424085\",\"#414186\",\"#414286\",\"#404387\",\"#404487\",\"#3f4587\",\"#3f4788\",\"#3e4888\",\"#3e4989\",\"#3d4a89\",\"#3d4b89\",\"#3d4c89\",\"#3c4d8a\",\"#3c4e8a\",\"#3b508a\",\"#3b518a\",\"#3a528b\",\"#3a538b\",\"#39548b\",\"#39558b\",\"#38568b\",\"#38578c\",\"#37588c\",\"#37598c\",\"#365a8c\",\"#365b8c\",\"#355c8c\",\"#355d8c\",\"#345e8d\",\"#345f8d\",\"#33608d\",\"#33618d\",\"#32628d\",\"#32638d\",\"#31648d\",\"#31658d\",\"#31668d\",\"#30678d\",\"#30688d\",\"#2f698d\",\"#2f6a8d\",\"#2e6b8e\",\"#2e6c8e\",\"#2e6d8e\",\"#2d6e8e\",\"#2d6f8e\",\"#2c708e\",\"#2c718e\",\"#2c728e\",\"#2b738e\",\"#2b748e\",\"#2a758e\",\"#2a768e\",\"#2a778e\",\"#29788e\",\"#29798e\",\"#287a8e\",\"#287a8e\",\"#287b8e\",\"#277c8e\",\"#277d8e\",\"#277e8e\",\"#267f8e\",\"#26808e\",\"#26818e\",\"#25828e\",\"#25838d\",\"#24848d\",\"#24858d\",\"#24868d\",\"#23878d\",\"#23888d\",\"#23898d\",\"#22898d\",\"#228a8d\",\"#228b8d\",\"#218c8d\",\"#218d8c\",\"#218e8c\",\"#208f8c\",\"#20908c\",\"#20918c\",\"#1f928c\",\"#1f938b\",\"#1f948b\",\"#1f958b\",\"#1f968b\",\"#1e978a\",\"#1e988a\",\"#1e998a\",\"#1e998a\",\"#1e9a89\",\"#1e9b89\",\"#1e9c89\",\"#1e9d88\",\"#1e9e88\",\"#1e9f88\",\"#1ea087\",\"#1fa187\",\"#1fa286\",\"#1fa386\",\"#20a485\",\"#20a585\",\"#21a685\",\"#21a784\",\"#22a784\",\"#23a883\",\"#23a982\",\"#24aa82\",\"#25ab81\",\"#26ac81\",\"#27ad80\",\"#28ae7f\",\"#29af7f\",\"#2ab07e\",\"#2bb17d\",\"#2cb17d\",\"#2eb27c\",\"#2fb37b\",\"#30b47a\",\"#32b57a\",\"#33b679\",\"#35b778\",\"#36b877\",\"#38b976\",\"#39b976\",\"#3bba75\",\"#3dbb74\",\"#3ebc73\",\"#40bd72\",\"#42be71\",\"#44be70\",\"#45bf6f\",\"#47c06e\",\"#49c16d\",\"#4bc26c\",\"#4dc26b\",\"#4fc369\",\"#51c468\",\"#53c567\",\"#55c666\",\"#57c665\",\"#59c764\",\"#5bc862\",\"#5ec961\",\"#60c960\",\"#62ca5f\",\"#64cb5d\",\"#67cc5c\",\"#69cc5b\",\"#6bcd59\",\"#6dce58\",\"#70ce56\",\"#72cf55\",\"#74d054\",\"#77d052\",\"#79d151\",\"#7cd24f\",\"#7ed24e\",\"#81d34c\",\"#83d34b\",\"#86d449\",\"#88d547\",\"#8bd546\",\"#8dd644\",\"#90d643\",\"#92d741\",\"#95d73f\",\"#97d83e\",\"#9ad83c\",\"#9dd93a\",\"#9fd938\",\"#a2da37\",\"#a5da35\",\"#a7db33\",\"#aadb32\",\"#addc30\",\"#afdc2e\",\"#b2dd2c\",\"#b5dd2b\",\"#b7dd29\",\"#bade27\",\"#bdde26\",\"#bfdf24\",\"#c2df22\",\"#c5df21\",\"#c7e01f\",\"#cae01e\",\"#cde01d\",\"#cfe11c\",\"#d2e11b\",\"#d4e11a\",\"#d7e219\",\"#dae218\",\"#dce218\",\"#dfe318\",\"#e1e318\",\"#e4e318\",\"#e7e419\",\"#e9e419\",\"#ece41a\",\"#eee51b\",\"#f1e51c\",\"#f3e51e\",\"#f6e61f\",\"#f8e621\",\"#fae622\",\"#fde724\"],\"nan_color\":\"white\",\"low\":123,\"high\":293}}}}},\"selection_glyph\":{\"type\":\"object\",\"name\":\"Rect\",\"id\":\"533dc747-cea7-41de-a0bd-08a3f0ae73bc\",\"attributes\":{\"tags\":[\"apply_ranges\"],\"x\":{\"type\":\"field\",\"field\":\"Day_of_Week\"},\"y\":{\"type\":\"field\",\"field\":\"Month\"},\"width\":{\"type\":\"field\",\"field\":\"width\"},\"height\":{\"type\":\"field\",\"field\":\"height\"},\"line_color\":{\"type\":\"value\",\"value\":\"#1f77b4\"},\"line_alpha\":{\"type\":\"value\",\"value\":0},\"fill_color\":{\"type\":\"field\",\"field\":\"zvalues\",\"transform\":{\"id\":\"e941019a-e4e9-4ccc-a350-6a9dce851f14\"}}}},\"nonselection_glyph\":{\"type\":\"object\",\"name\":\"Rect\",\"id\":\"8b7c6bd9-05bd-46c4-bd79-3ff834cdd113\",\"attributes\":{\"tags\":[\"apply_ranges\"],\"x\":{\"type\":\"field\",\"field\":\"Day_of_Week\"},\"y\":{\"type\":\"field\",\"field\":\"Month\"},\"width\":{\"type\":\"field\",\"field\":\"width\"},\"height\":{\"type\":\"field\",\"field\":\"height\"},\"line_color\":{\"type\":\"value\",\"value\":\"#1f77b4\"},\"line_alpha\":{\"type\":\"value\",\"value\":0},\"fill_color\":{\"type\":\"field\",\"field\":\"zvalues\",\"transform\":{\"id\":\"e941019a-e4e9-4ccc-a350-6a9dce851f14\"}},\"fill_alpha\":{\"type\":\"value\",\"value\":0.1},\"hatch_alpha\":{\"type\":\"value\",\"value\":0.1}}},\"muted_glyph\":{\"type\":\"object\",\"name\":\"Rect\",\"id\":\"d7be674b-da56-4234-bea1-65df85f0ca95\",\"attributes\":{\"tags\":[\"apply_ranges\"],\"x\":{\"type\":\"field\",\"field\":\"Day_of_Week\"},\"y\":{\"type\":\"field\",\"field\":\"Month\"},\"width\":{\"type\":\"field\",\"field\":\"width\"},\"height\":{\"type\":\"field\",\"field\":\"height\"},\"line_color\":{\"type\":\"value\",\"value\":\"#1f77b4\"},\"line_alpha\":{\"type\":\"value\",\"value\":0},\"fill_color\":{\"type\":\"field\",\"field\":\"zvalues\",\"transform\":{\"id\":\"e941019a-e4e9-4ccc-a350-6a9dce851f14\"}},\"fill_alpha\":{\"type\":\"value\",\"value\":0.2},\"hatch_alpha\":{\"type\":\"value\",\"value\":0.2}}}}}],\"toolbar\":{\"type\":\"object\",\"name\":\"Toolbar\",\"id\":\"dadc219c-56ae-40a7-be28-65c2fb7b8660\",\"attributes\":{\"tools\":[{\"type\":\"object\",\"name\":\"WheelZoomTool\",\"id\":\"58d9bd30-3ed1-47cc-82c7-aca7c7c724e6\",\"attributes\":{\"tags\":[\"hv_created\"],\"renderers\":\"auto\",\"zoom_together\":\"none\"}},{\"type\":\"object\",\"name\":\"HoverTool\",\"id\":\"583e6283-58ca-43f7-a01d-8d5cac58a05d\",\"attributes\":{\"tags\":[\"hv_created\"],\"renderers\":[{\"id\":\"b14f32fe-62e5-44f1-aa0c-f75c909356ff\"}],\"tooltips\":[[\"Day of Week\",\"@{Day_of_Week}\"],[\"Month\",\"@{Month}\"],[\"Count\",\"@{Count}\"]]}},{\"type\":\"object\",\"name\":\"SaveTool\",\"id\":\"ba6869d2-e2f7-48a4-a4ef-dc6479bfd1e2\"},{\"type\":\"object\",\"name\":\"PanTool\",\"id\":\"bcd39dfd-b616-4a65-975d-b66c40017cf1\"},{\"type\":\"object\",\"name\":\"BoxZoomTool\",\"id\":\"d67f1074-b71e-408d-95ce-e5a54be8f0d6\",\"attributes\":{\"dimensions\":\"both\",\"overlay\":{\"type\":\"object\",\"name\":\"BoxAnnotation\",\"id\":\"a8bfb489-0e23-4232-8911-4d616d0f82e1\",\"attributes\":{\"syncable\":false,\"line_color\":\"black\",\"line_alpha\":1.0,\"line_width\":2,\"line_dash\":[4,4],\"fill_color\":\"lightgrey\",\"fill_alpha\":0.5,\"level\":\"overlay\",\"visible\":false,\"left\":{\"type\":\"number\",\"value\":\"nan\"},\"right\":{\"type\":\"number\",\"value\":\"nan\"},\"top\":{\"type\":\"number\",\"value\":\"nan\"},\"bottom\":{\"type\":\"number\",\"value\":\"nan\"},\"left_units\":\"canvas\",\"right_units\":\"canvas\",\"top_units\":\"canvas\",\"bottom_units\":\"canvas\",\"handles\":{\"type\":\"object\",\"name\":\"BoxInteractionHandles\",\"id\":\"c22219ba-f2b2-4f03-b696-3cb4ec0a3262\",\"attributes\":{\"all\":{\"type\":\"object\",\"name\":\"AreaVisuals\",\"id\":\"7dbab721-2a5b-4726-9776-b6c584c16fa0\",\"attributes\":{\"fill_color\":\"white\",\"hover_fill_color\":\"lightgray\"}}}}}}}},{\"type\":\"object\",\"name\":\"ResetTool\",\"id\":\"2b4f19c9-2c60-4883-8cb8-ab68afcc8aae\"}],\"active_drag\":{\"id\":\"bcd39dfd-b616-4a65-975d-b66c40017cf1\"},\"active_scroll\":{\"id\":\"58d9bd30-3ed1-47cc-82c7-aca7c7c724e6\"}}},\"left\":[{\"type\":\"object\",\"name\":\"LinearAxis\",\"id\":\"723999ac-6488-465d-9d8f-e41af1832f19\",\"attributes\":{\"ticker\":{\"type\":\"object\",\"name\":\"BasicTicker\",\"id\":\"ad132674-8a41-4a72-9e0c-2325e1d1dbb0\",\"attributes\":{\"mantissas\":[1,2,5]}},\"formatter\":{\"type\":\"object\",\"name\":\"BasicTickFormatter\",\"id\":\"6d0389cb-a59f-4f44-bdea-880ee7cfb347\"},\"axis_label\":\"Month\",\"major_label_policy\":{\"type\":\"object\",\"name\":\"AllLabels\",\"id\":\"6d290bdf-1059-424c-afd0-a3b52db7327c\"}}}],\"right\":[{\"type\":\"object\",\"name\":\"ColorBar\",\"id\":\"5e10b697-321d-469d-b60f-28cc155485d6\",\"attributes\":{\"location\":[0,0],\"ticker\":{\"type\":\"object\",\"name\":\"BasicTicker\",\"id\":\"0f683bf8-3758-45e2-8e60-c7c32b4ccb3a\",\"attributes\":{\"mantissas\":[1,2,5]}},\"major_label_policy\":{\"type\":\"object\",\"name\":\"NoOverlap\",\"id\":\"f0220bc7-0587-4e75-876c-6a4bf056cd22\"},\"label_standoff\":8,\"major_tick_line_color\":\"black\",\"bar_line_color\":\"black\",\"color_mapper\":{\"id\":\"e941019a-e4e9-4ccc-a350-6a9dce851f14\"}}}],\"below\":[{\"type\":\"object\",\"name\":\"LinearAxis\",\"id\":\"0eefc88b-b72d-403b-94cc-7b73453c18ab\",\"attributes\":{\"ticker\":{\"type\":\"object\",\"name\":\"BasicTicker\",\"id\":\"a981d6ba-9e4b-4586-8ed6-1703b50d8450\",\"attributes\":{\"mantissas\":[1,2,5]}},\"formatter\":{\"type\":\"object\",\"name\":\"BasicTickFormatter\",\"id\":\"9c510f6d-19c9-4436-8783-91139ce59710\"},\"axis_label\":\"Day of Week\",\"major_label_policy\":{\"type\":\"object\",\"name\":\"AllLabels\",\"id\":\"bdc322d8-4453-4641-9652-7a2fd6dc0518\"}}}],\"center\":[{\"type\":\"object\",\"name\":\"Grid\",\"id\":\"a0f63d12-16a5-4bcf-b022-be6ab41f8e17\",\"attributes\":{\"axis\":{\"id\":\"0eefc88b-b72d-403b-94cc-7b73453c18ab\"},\"grid_line_color\":null}},{\"type\":\"object\",\"name\":\"Grid\",\"id\":\"8cb0733e-57e7-4929-a060-c60fef63b58a\",\"attributes\":{\"dimension\":1,\"axis\":{\"id\":\"723999ac-6488-465d-9d8f-e41af1832f19\"},\"grid_line_color\":null}}],\"min_border_top\":10,\"min_border_bottom\":10,\"min_border_left\":10,\"min_border_right\":10,\"output_backend\":\"webgl\"}},{\"type\":\"object\",\"name\":\"Spacer\",\"id\":\"059b724a-3e10-4f3c-bad2-e845e670338f\",\"attributes\":{\"name\":\"HSpacer00301\",\"stylesheets\":[\"\\n:host(.pn-loading):before, .pn-loading:before {\\n  background-color: #c3c3c3;\\n  mask-size: auto calc(min(50%, 400px));\\n  -webkit-mask-size: auto calc(min(50%, 400px));\\n}\",{\"id\":\"8ebeff98-8895-4eb6-8109-2b1fb37a4593\"},{\"id\":\"b926cd38-5431-49ed-b5fa-b90c3169e19d\"},{\"id\":\"95508580-12f6-4bdb-97fd-2ca6aaab1ada\"}],\"min_width\":0,\"margin\":0,\"sizing_mode\":\"stretch_width\",\"align\":\"start\"}}]}}],\"defs\":[{\"type\":\"model\",\"name\":\"ReactiveHTML1\"},{\"type\":\"model\",\"name\":\"FlexBox1\",\"properties\":[{\"name\":\"align_content\",\"kind\":\"Any\",\"default\":\"flex-start\"},{\"name\":\"align_items\",\"kind\":\"Any\",\"default\":\"flex-start\"},{\"name\":\"flex_direction\",\"kind\":\"Any\",\"default\":\"row\"},{\"name\":\"flex_wrap\",\"kind\":\"Any\",\"default\":\"wrap\"},{\"name\":\"gap\",\"kind\":\"Any\",\"default\":\"\"},{\"name\":\"justify_content\",\"kind\":\"Any\",\"default\":\"flex-start\"}]},{\"type\":\"model\",\"name\":\"FloatPanel1\",\"properties\":[{\"name\":\"config\",\"kind\":\"Any\",\"default\":{\"type\":\"map\"}},{\"name\":\"contained\",\"kind\":\"Any\",\"default\":true},{\"name\":\"position\",\"kind\":\"Any\",\"default\":\"right-top\"},{\"name\":\"offsetx\",\"kind\":\"Any\",\"default\":null},{\"name\":\"offsety\",\"kind\":\"Any\",\"default\":null},{\"name\":\"theme\",\"kind\":\"Any\",\"default\":\"primary\"},{\"name\":\"status\",\"kind\":\"Any\",\"default\":\"normalized\"}]},{\"type\":\"model\",\"name\":\"GridStack1\",\"properties\":[{\"name\":\"ncols\",\"kind\":\"Any\",\"default\":null},{\"name\":\"nrows\",\"kind\":\"Any\",\"default\":null},{\"name\":\"allow_resize\",\"kind\":\"Any\",\"default\":true},{\"name\":\"allow_drag\",\"kind\":\"Any\",\"default\":true},{\"name\":\"state\",\"kind\":\"Any\",\"default\":[]}]},{\"type\":\"model\",\"name\":\"drag1\",\"properties\":[{\"name\":\"slider_width\",\"kind\":\"Any\",\"default\":5},{\"name\":\"slider_color\",\"kind\":\"Any\",\"default\":\"black\"},{\"name\":\"value\",\"kind\":\"Any\",\"default\":50}]},{\"type\":\"model\",\"name\":\"click1\",\"properties\":[{\"name\":\"terminal_output\",\"kind\":\"Any\",\"default\":\"\"},{\"name\":\"debug_name\",\"kind\":\"Any\",\"default\":\"\"},{\"name\":\"clears\",\"kind\":\"Any\",\"default\":0}]},{\"type\":\"model\",\"name\":\"ReactiveESM1\",\"properties\":[{\"name\":\"esm_constants\",\"kind\":\"Any\",\"default\":{\"type\":\"map\"}}]},{\"type\":\"model\",\"name\":\"JSComponent1\",\"properties\":[{\"name\":\"esm_constants\",\"kind\":\"Any\",\"default\":{\"type\":\"map\"}}]},{\"type\":\"model\",\"name\":\"ReactComponent1\",\"properties\":[{\"name\":\"use_shadow_dom\",\"kind\":\"Any\",\"default\":true},{\"name\":\"esm_constants\",\"kind\":\"Any\",\"default\":{\"type\":\"map\"}}]},{\"type\":\"model\",\"name\":\"AnyWidgetComponent1\",\"properties\":[{\"name\":\"use_shadow_dom\",\"kind\":\"Any\",\"default\":true},{\"name\":\"esm_constants\",\"kind\":\"Any\",\"default\":{\"type\":\"map\"}}]},{\"type\":\"model\",\"name\":\"FastWrapper1\",\"properties\":[{\"name\":\"object\",\"kind\":\"Any\",\"default\":null},{\"name\":\"style\",\"kind\":\"Any\",\"default\":null}]},{\"type\":\"model\",\"name\":\"NotificationArea1\",\"properties\":[{\"name\":\"js_events\",\"kind\":\"Any\",\"default\":{\"type\":\"map\"}},{\"name\":\"max_notifications\",\"kind\":\"Any\",\"default\":5},{\"name\":\"notifications\",\"kind\":\"Any\",\"default\":[]},{\"name\":\"position\",\"kind\":\"Any\",\"default\":\"bottom-right\"},{\"name\":\"_clear\",\"kind\":\"Any\",\"default\":0},{\"name\":\"types\",\"kind\":\"Any\",\"default\":[{\"type\":\"map\",\"entries\":[[\"type\",\"warning\"],[\"background\",\"#ffc107\"],[\"icon\",{\"type\":\"map\",\"entries\":[[\"className\",\"fas fa-exclamation-triangle\"],[\"tagName\",\"i\"],[\"color\",\"white\"]]}]]},{\"type\":\"map\",\"entries\":[[\"type\",\"info\"],[\"background\",\"#007bff\"],[\"icon\",{\"type\":\"map\",\"entries\":[[\"className\",\"fas fa-info-circle\"],[\"tagName\",\"i\"],[\"color\",\"white\"]]}]]}]}]},{\"type\":\"model\",\"name\":\"Notification\",\"properties\":[{\"name\":\"background\",\"kind\":\"Any\",\"default\":null},{\"name\":\"duration\",\"kind\":\"Any\",\"default\":3000},{\"name\":\"icon\",\"kind\":\"Any\",\"default\":null},{\"name\":\"message\",\"kind\":\"Any\",\"default\":\"\"},{\"name\":\"notification_type\",\"kind\":\"Any\",\"default\":null},{\"name\":\"_rendered\",\"kind\":\"Any\",\"default\":false},{\"name\":\"_destroyed\",\"kind\":\"Any\",\"default\":false}]},{\"type\":\"model\",\"name\":\"TemplateActions1\",\"properties\":[{\"name\":\"open_modal\",\"kind\":\"Any\",\"default\":0},{\"name\":\"close_modal\",\"kind\":\"Any\",\"default\":0}]},{\"type\":\"model\",\"name\":\"BootstrapTemplateActions1\",\"properties\":[{\"name\":\"open_modal\",\"kind\":\"Any\",\"default\":0},{\"name\":\"close_modal\",\"kind\":\"Any\",\"default\":0}]},{\"type\":\"model\",\"name\":\"TemplateEditor1\",\"properties\":[{\"name\":\"layout\",\"kind\":\"Any\",\"default\":[]}]},{\"type\":\"model\",\"name\":\"MaterialTemplateActions1\",\"properties\":[{\"name\":\"open_modal\",\"kind\":\"Any\",\"default\":0},{\"name\":\"close_modal\",\"kind\":\"Any\",\"default\":0}]},{\"type\":\"model\",\"name\":\"request_value1\",\"properties\":[{\"name\":\"fill\",\"kind\":\"Any\",\"default\":\"none\"},{\"name\":\"_synced\",\"kind\":\"Any\",\"default\":null},{\"name\":\"_request_sync\",\"kind\":\"Any\",\"default\":0}]},{\"type\":\"model\",\"name\":\"holoviews.plotting.bokeh.raster.HoverModel\",\"properties\":[{\"name\":\"xy\",\"kind\":\"Any\",\"default\":null},{\"name\":\"data\",\"kind\":\"Any\",\"default\":null}]}]}};\n",
       "  var render_items = [{\"docid\":\"3d6e11c9-c7f5-47ce-a213-294e1113f959\",\"roots\":{\"63a98937-31c5-46ad-aeed-9eed27a5bbb9\":\"aa61121c-2e91-47aa-a3d2-90698dc7679f\"},\"root_ids\":[\"63a98937-31c5-46ad-aeed-9eed27a5bbb9\"]}];\n",
       "  var docs = Object.values(docs_json)\n",
       "  if (!docs) {\n",
       "    return\n",
       "  }\n",
       "  const py_version = docs[0].version.replace('rc', '-rc.').replace('.dev', '-dev.')\n",
       "  async function embed_document(root) {\n",
       "    var Bokeh = get_bokeh(root)\n",
       "    await Bokeh.embed.embed_items_notebook(docs_json, render_items);\n",
       "    for (const render_item of render_items) {\n",
       "      for (const root_id of render_item.root_ids) {\n",
       "\tconst id_el = document.getElementById(root_id)\n",
       "\tif (id_el.children.length && id_el.children[0].hasAttribute('data-root-id')) {\n",
       "\t  const root_el = id_el.children[0]\n",
       "\t  root_el.id = root_el.id + '-rendered'\n",
       "\t  for (const child of root_el.children) {\n",
       "            // Ensure JupyterLab does not capture keyboard shortcuts\n",
       "            // see: https://jupyterlab.readthedocs.io/en/4.1.x/extension/notebook.html#keyboard-interaction-model\n",
       "\t    child.setAttribute('data-lm-suppress-shortcuts', 'true')\n",
       "\t  }\n",
       "\t}\n",
       "      }\n",
       "    }\n",
       "  }\n",
       "  function get_bokeh(root) {\n",
       "    if (root.Bokeh === undefined) {\n",
       "      return null\n",
       "    } else if (root.Bokeh.version !== py_version) {\n",
       "      if (root.Bokeh.versions === undefined || !root.Bokeh.versions.has(py_version)) {\n",
       "\treturn null\n",
       "      }\n",
       "      return root.Bokeh.versions.get(py_version);\n",
       "    } else if (root.Bokeh.version === py_version) {\n",
       "      return root.Bokeh\n",
       "    }\n",
       "    return null\n",
       "  }\n",
       "  function is_loaded(root) {\n",
       "    var Bokeh = get_bokeh(root)\n",
       "    return (Bokeh != null && Bokeh.Panel !== undefined)\n",
       "  }\n",
       "  if (is_loaded(root)) {\n",
       "    embed_document(root);\n",
       "  } else {\n",
       "    var attempts = 0;\n",
       "    var timer = setInterval(function(root) {\n",
       "      if (is_loaded(root)) {\n",
       "        clearInterval(timer);\n",
       "        embed_document(root);\n",
       "      } else if (document.readyState == \"complete\") {\n",
       "        attempts++;\n",
       "        if (attempts > 200) {\n",
       "          clearInterval(timer);\n",
       "\t  var Bokeh = get_bokeh(root)\n",
       "\t  if (Bokeh == null || Bokeh.Panel == null) {\n",
       "            console.warn(\"Panel: ERROR: Unable to run Panel code because Bokeh or Panel library is missing\");\n",
       "\t  } else {\n",
       "\t    console.warn(\"Panel: WARNING: Attempting to render but not all required libraries could be resolved.\")\n",
       "\t    embed_document(root)\n",
       "\t  }\n",
       "        }\n",
       "      }\n",
       "    }, 25, root)\n",
       "  }\n",
       "})(window);</script>"
      ],
      "text/plain": [
       ":HeatMap   [Day of Week,Month]   (Count)"
      ]
     },
     "execution_count": 69,
     "metadata": {
      "application/vnd.holoviews_exec.v0+json": {
       "id": "63a98937-31c5-46ad-aeed-9eed27a5bbb9"
      }
     },
     "output_type": "execute_result"
    }
   ],
   "source": [
    "# Remember 0 is Monday and 6 is Sunday\n",
    "count.hvplot.heatmap(\n",
    "    x=\"Day of Week\",\n",
    "    y=\"Month\",\n",
    "    C=\"Count\",\n",
    "    cmap=\"viridis\",\n",
    "    width=400,\n",
    "    height=500,\n",
    "    flip_yaxis=True,\n",
    ")"
   ]
  },
  {
   "cell_type": "markdown",
   "metadata": {
    "slideshow": {
     "slide_type": "subslide"
    }
   },
   "source": [
    "**Trends:** more shootings on the weekends and in the summer months"
   ]
  },
  {
   "cell_type": "markdown",
   "metadata": {
    "slideshow": {
     "slide_type": "slide"
    }
   },
   "source": [
    "### Example #3: GeoServices\n",
    "\n",
    "A GeoService is a standardized format for returning GeoJSON files over the web\n",
    "\n",
    "Originally developed by Esri, in 2010 the specification was transferred to the Open Web Foundation.\n",
    "\n",
    "Documentation: [http://geoservices.github.io/](http://geoservices.github.io/)"
   ]
  },
  {
   "cell_type": "markdown",
   "metadata": {
    "slideshow": {
     "slide_type": "slide"
    }
   },
   "source": [
    "#### Example: Philadelphia neighborhoods\n",
    "\n",
    "OpenDataPhilly provides GeoService API endpoints for the geometry hosted on its platform\n",
    "\n",
    "[https://opendataphilly.org/datasets/philadelphia-neighborhoods/](https://opendataphilly.org/datasets/philadelphia-neighborhoods/)"
   ]
  },
  {
   "cell_type": "code",
   "execution_count": 70,
   "metadata": {
    "slideshow": {
     "slide_type": "subslide"
    }
   },
   "outputs": [],
   "source": [
    "# The base URL for the neighborhoods layer\n",
    "neighborhood_url = \"https://services1.arcgis.com/a6oRSxEw6eIY5Zfb/arcgis/rest/services/Philadelphia_Neighborhoods/FeatureServer/0\""
   ]
  },
  {
   "cell_type": "markdown",
   "metadata": {},
   "source": [
    "![](imgs/geoservices-1.png){width=\"800\"}\n",
    "\n",
    "Source: [https://geoservices.github.io/resources.html](https://geoservices.github.io/resources.html)"
   ]
  },
  {
   "cell_type": "markdown",
   "metadata": {},
   "source": [
    "#### The `query/` endpoint\n",
    "\n",
    "Layers have a single endpoint for requesting features: the `/query` endpoint.\n"
   ]
  },
  {
   "cell_type": "code",
   "execution_count": 71,
   "metadata": {
    "tags": []
   },
   "outputs": [],
   "source": [
    "neighborhood_query_endpoint = neighborhood_url + \"/query\""
   ]
  },
  {
   "cell_type": "code",
   "execution_count": 72,
   "metadata": {
    "tags": []
   },
   "outputs": [
    {
     "data": {
      "text/plain": [
       "'https://services1.arcgis.com/a6oRSxEw6eIY5Zfb/arcgis/rest/services/Philadelphia_Neighborhoods/FeatureServer/0/query'"
      ]
     },
     "execution_count": 72,
     "metadata": {},
     "output_type": "execute_result"
    }
   ],
   "source": [
    "neighborhood_query_endpoint"
   ]
  },
  {
   "cell_type": "markdown",
   "metadata": {},
   "source": [
    "#### The allowed parameters\n",
    "\n",
    "The main request parameters are:\n",
    "\n",
    "- `where`: A SQL-like string to select a subset of features; to get all data, use `1=1` (always True)\n",
    "- `outFields`: The list of columns to return; to get all, use `*`\n",
    "- `f`: The returned format; for GeoJSON, use \"geojson\"\n",
    "- `outSR`: The desired output CRS"
   ]
  },
  {
   "cell_type": "code",
   "execution_count": 73,
   "metadata": {
    "tags": []
   },
   "outputs": [],
   "source": [
    "params = {\n",
    "    \"where\": \"1=1\",  # Give me all rows\n",
    "    \"outFields\": \"*\",  # All fields\n",
    "    \"f\": \"geojson\",  # GeoJSON format\n",
    "    \"outSR\": \"4326\",  # The desired output CRS\n",
    "}"
   ]
  },
  {
   "cell_type": "markdown",
   "metadata": {},
   "source": [
    "Make the request:"
   ]
  },
  {
   "cell_type": "code",
   "execution_count": 74,
   "metadata": {
    "tags": []
   },
   "outputs": [],
   "source": [
    "r = requests.get(neighborhood_query_endpoint, params=params)"
   ]
  },
  {
   "cell_type": "markdown",
   "metadata": {},
   "source": [
    "Get the features and create the GeoDataFrame:"
   ]
  },
  {
   "cell_type": "code",
   "execution_count": 75,
   "metadata": {
    "tags": []
   },
   "outputs": [],
   "source": [
    "json = r.json()\n",
    "\n",
    "features = json[\"features\"]"
   ]
  },
  {
   "cell_type": "code",
   "execution_count": 76,
   "metadata": {
    "tags": []
   },
   "outputs": [],
   "source": [
    "hoods = gpd.GeoDataFrame.from_features(features, crs=\"EPSG:4326\")"
   ]
  },
  {
   "cell_type": "code",
   "execution_count": 77,
   "metadata": {
    "tags": []
   },
   "outputs": [
    {
     "data": {
      "text/html": [
       "<div>\n",
       "<style scoped>\n",
       "    .dataframe tbody tr th:only-of-type {\n",
       "        vertical-align: middle;\n",
       "    }\n",
       "\n",
       "    .dataframe tbody tr th {\n",
       "        vertical-align: top;\n",
       "    }\n",
       "\n",
       "    .dataframe thead th {\n",
       "        text-align: right;\n",
       "    }\n",
       "</style>\n",
       "<table border=\"1\" class=\"dataframe\">\n",
       "  <thead>\n",
       "    <tr style=\"text-align: right;\">\n",
       "      <th></th>\n",
       "      <th>geometry</th>\n",
       "      <th>FID</th>\n",
       "      <th>NAME</th>\n",
       "      <th>LISTNAME</th>\n",
       "      <th>MAPNAME</th>\n",
       "      <th>Shape_Leng</th>\n",
       "      <th>Shape__Area</th>\n",
       "      <th>Shape__Length</th>\n",
       "    </tr>\n",
       "  </thead>\n",
       "  <tbody>\n",
       "    <tr>\n",
       "      <th>0</th>\n",
       "      <td>POLYGON ((-75.06773 40.00540, -75.06765 40.005...</td>\n",
       "      <td>1</td>\n",
       "      <td>BRIDESBURG</td>\n",
       "      <td>Bridesburg</td>\n",
       "      <td>Bridesburg</td>\n",
       "      <td>27814.546521</td>\n",
       "      <td>7.066581e+06</td>\n",
       "      <td>11074.587308</td>\n",
       "    </tr>\n",
       "    <tr>\n",
       "      <th>1</th>\n",
       "      <td>POLYGON ((-75.01560 40.09487, -75.01768 40.092...</td>\n",
       "      <td>2</td>\n",
       "      <td>BUSTLETON</td>\n",
       "      <td>Bustleton</td>\n",
       "      <td>Bustleton</td>\n",
       "      <td>48868.458365</td>\n",
       "      <td>1.812721e+07</td>\n",
       "      <td>19485.686530</td>\n",
       "    </tr>\n",
       "    <tr>\n",
       "      <th>2</th>\n",
       "      <td>POLYGON ((-75.18848 40.07273, -75.18846 40.072...</td>\n",
       "      <td>3</td>\n",
       "      <td>CEDARBROOK</td>\n",
       "      <td>Cedarbrook</td>\n",
       "      <td>Cedarbrook</td>\n",
       "      <td>20021.415802</td>\n",
       "      <td>3.950980e+06</td>\n",
       "      <td>7980.051802</td>\n",
       "    </tr>\n",
       "    <tr>\n",
       "      <th>3</th>\n",
       "      <td>POLYGON ((-75.21221 40.08603, -75.21211 40.086...</td>\n",
       "      <td>4</td>\n",
       "      <td>CHESTNUT_HILL</td>\n",
       "      <td>Chestnut Hill</td>\n",
       "      <td>Chestnut Hill</td>\n",
       "      <td>56394.297195</td>\n",
       "      <td>1.265385e+07</td>\n",
       "      <td>22476.270236</td>\n",
       "    </tr>\n",
       "    <tr>\n",
       "      <th>4</th>\n",
       "      <td>POLYGON ((-75.18479 40.02837, -75.18426 40.027...</td>\n",
       "      <td>5</td>\n",
       "      <td>EAST_FALLS</td>\n",
       "      <td>East Falls</td>\n",
       "      <td>East Falls</td>\n",
       "      <td>27400.776417</td>\n",
       "      <td>6.434879e+06</td>\n",
       "      <td>10907.970158</td>\n",
       "    </tr>\n",
       "    <tr>\n",
       "      <th>...</th>\n",
       "      <td>...</td>\n",
       "      <td>...</td>\n",
       "      <td>...</td>\n",
       "      <td>...</td>\n",
       "      <td>...</td>\n",
       "      <td>...</td>\n",
       "      <td>...</td>\n",
       "      <td>...</td>\n",
       "    </tr>\n",
       "    <tr>\n",
       "      <th>153</th>\n",
       "      <td>POLYGON ((-75.18373 39.91351, -75.18194 39.913...</td>\n",
       "      <td>154</td>\n",
       "      <td>PACKER_PARK</td>\n",
       "      <td>Packer Park</td>\n",
       "      <td>Packer Park</td>\n",
       "      <td>21816.017948</td>\n",
       "      <td>4.584862e+06</td>\n",
       "      <td>8444.679631</td>\n",
       "    </tr>\n",
       "    <tr>\n",
       "      <th>154</th>\n",
       "      <td>POLYGON ((-75.14654 39.93005, -75.14804 39.921...</td>\n",
       "      <td>155</td>\n",
       "      <td>PENNSPORT</td>\n",
       "      <td>Pennsport</td>\n",
       "      <td>Pennsport</td>\n",
       "      <td>11823.233108</td>\n",
       "      <td>1.026917e+06</td>\n",
       "      <td>4706.597865</td>\n",
       "    </tr>\n",
       "    <tr>\n",
       "      <th>155</th>\n",
       "      <td>POLYGON ((-75.16986 39.92312, -75.17015 39.921...</td>\n",
       "      <td>156</td>\n",
       "      <td>NEWBOLD</td>\n",
       "      <td>Newbold</td>\n",
       "      <td>Newbold</td>\n",
       "      <td>10052.570885</td>\n",
       "      <td>9.281435e+05</td>\n",
       "      <td>3994.098029</td>\n",
       "    </tr>\n",
       "    <tr>\n",
       "      <th>156</th>\n",
       "      <td>POLYGON ((-75.17630 39.92425, -75.17798 39.923...</td>\n",
       "      <td>157</td>\n",
       "      <td>WEST_PASSYUNK</td>\n",
       "      <td>West Passyunk</td>\n",
       "      <td>West Passyunk</td>\n",
       "      <td>10499.291848</td>\n",
       "      <td>1.027608e+06</td>\n",
       "      <td>4173.301421</td>\n",
       "    </tr>\n",
       "    <tr>\n",
       "      <th>157</th>\n",
       "      <td>POLYGON ((-75.15684 39.92897, -75.15712 39.927...</td>\n",
       "      <td>158</td>\n",
       "      <td>EAST_PASSYUNK</td>\n",
       "      <td>East Passyunk</td>\n",
       "      <td>East Passyunk</td>\n",
       "      <td>10987.761846</td>\n",
       "      <td>1.028395e+06</td>\n",
       "      <td>4368.384350</td>\n",
       "    </tr>\n",
       "  </tbody>\n",
       "</table>\n",
       "<p>158 rows × 8 columns</p>\n",
       "</div>"
      ],
      "text/plain": [
       "                                              geometry  FID           NAME  \\\n",
       "0    POLYGON ((-75.06773 40.00540, -75.06765 40.005...    1     BRIDESBURG   \n",
       "1    POLYGON ((-75.01560 40.09487, -75.01768 40.092...    2      BUSTLETON   \n",
       "2    POLYGON ((-75.18848 40.07273, -75.18846 40.072...    3     CEDARBROOK   \n",
       "3    POLYGON ((-75.21221 40.08603, -75.21211 40.086...    4  CHESTNUT_HILL   \n",
       "4    POLYGON ((-75.18479 40.02837, -75.18426 40.027...    5     EAST_FALLS   \n",
       "..                                                 ...  ...            ...   \n",
       "153  POLYGON ((-75.18373 39.91351, -75.18194 39.913...  154    PACKER_PARK   \n",
       "154  POLYGON ((-75.14654 39.93005, -75.14804 39.921...  155      PENNSPORT   \n",
       "155  POLYGON ((-75.16986 39.92312, -75.17015 39.921...  156        NEWBOLD   \n",
       "156  POLYGON ((-75.17630 39.92425, -75.17798 39.923...  157  WEST_PASSYUNK   \n",
       "157  POLYGON ((-75.15684 39.92897, -75.15712 39.927...  158  EAST_PASSYUNK   \n",
       "\n",
       "          LISTNAME        MAPNAME    Shape_Leng   Shape__Area  Shape__Length  \n",
       "0       Bridesburg     Bridesburg  27814.546521  7.066581e+06   11074.587308  \n",
       "1        Bustleton      Bustleton  48868.458365  1.812721e+07   19485.686530  \n",
       "2       Cedarbrook     Cedarbrook  20021.415802  3.950980e+06    7980.051802  \n",
       "3    Chestnut Hill  Chestnut Hill  56394.297195  1.265385e+07   22476.270236  \n",
       "4       East Falls     East Falls  27400.776417  6.434879e+06   10907.970158  \n",
       "..             ...            ...           ...           ...            ...  \n",
       "153    Packer Park    Packer Park  21816.017948  4.584862e+06    8444.679631  \n",
       "154      Pennsport      Pennsport  11823.233108  1.026917e+06    4706.597865  \n",
       "155        Newbold        Newbold  10052.570885  9.281435e+05    3994.098029  \n",
       "156  West Passyunk  West Passyunk  10499.291848  1.027608e+06    4173.301421  \n",
       "157  East Passyunk  East Passyunk  10987.761846  1.028395e+06    4368.384350  \n",
       "\n",
       "[158 rows x 8 columns]"
      ]
     },
     "execution_count": 77,
     "metadata": {},
     "output_type": "execute_result"
    }
   ],
   "source": [
    "hoods"
   ]
  },
  {
   "cell_type": "markdown",
   "metadata": {},
   "source": [
    "Now let's select data just for East Falls and subset the returned columns:"
   ]
  },
  {
   "cell_type": "code",
   "execution_count": 78,
   "metadata": {
    "tags": []
   },
   "outputs": [],
   "source": [
    "params = {\n",
    "    \"where\": \"LISTNAME = 'East Falls'\",\n",
    "    \"outFields\": [\"LISTNAME\"],\n",
    "    \"f\": \"geojson\",\n",
    "    \"outSR\": \"4326\",\n",
    "}\n",
    "\n",
    "r = requests.get(neighborhood_query_endpoint, params=params)"
   ]
  },
  {
   "cell_type": "code",
   "execution_count": 79,
   "metadata": {
    "tags": []
   },
   "outputs": [
    {
     "data": {
      "text/html": [
       "<div>\n",
       "<style scoped>\n",
       "    .dataframe tbody tr th:only-of-type {\n",
       "        vertical-align: middle;\n",
       "    }\n",
       "\n",
       "    .dataframe tbody tr th {\n",
       "        vertical-align: top;\n",
       "    }\n",
       "\n",
       "    .dataframe thead th {\n",
       "        text-align: right;\n",
       "    }\n",
       "</style>\n",
       "<table border=\"1\" class=\"dataframe\">\n",
       "  <thead>\n",
       "    <tr style=\"text-align: right;\">\n",
       "      <th></th>\n",
       "      <th>geometry</th>\n",
       "      <th>LISTNAME</th>\n",
       "    </tr>\n",
       "  </thead>\n",
       "  <tbody>\n",
       "    <tr>\n",
       "      <th>0</th>\n",
       "      <td>POLYGON ((-75.18479 40.02837, -75.18426 40.027...</td>\n",
       "      <td>East Falls</td>\n",
       "    </tr>\n",
       "  </tbody>\n",
       "</table>\n",
       "</div>"
      ],
      "text/plain": [
       "                                            geometry    LISTNAME\n",
       "0  POLYGON ((-75.18479 40.02837, -75.18426 40.027...  East Falls"
      ]
     },
     "execution_count": 79,
     "metadata": {},
     "output_type": "execute_result"
    }
   ],
   "source": [
    "east_falls = gpd.GeoDataFrame.from_features(r.json()[\"features\"], crs=\"EPSG:4326\")\n",
    "\n",
    "east_falls"
   ]
  },
  {
   "cell_type": "markdown",
   "metadata": {
    "slideshow": {
     "slide_type": "slide"
    }
   },
   "source": [
    "## Part 2: Natural Language Processing and the 311 Request API\n",
    "\n",
    "In part two, we'll pull data using the API for the Philly 311 system, available at: [https://iframe.publicstuff.com/#?client_id=242](https://iframe.publicstuff.com/#?client_id=242)\n",
    "\n",
    "We saw this site previously when we talked about web scraping last week:\n",
    "\n",
    "![](imgs/philly-311.png)"
   ]
  },
  {
   "cell_type": "markdown",
   "metadata": {},
   "source": [
    "Let's take another look at the address where the site is pulling its data from:\n",
    "\n",
    "`https://vc0.publicstuff.com/api/2.0/requests_list?client_id=242&device=iframe&limit=35&page=1`\n",
    "\n",
    "\n",
    "This is just an **API request!** It's an example of a *non-public, internal* API, but we can reverse-engineer it to extract the data we want!"
   ]
  },
  {
   "cell_type": "markdown",
   "metadata": {},
   "source": [
    "Break it down into it's component parts:\n",
    "\n",
    "- **Base URL:** [https://vc0.publicstuff.com/api/2.0/requests_list](https://vc0.publicstuff.com/api/2.0/requests_list)\n",
    "- **Query parameters:** client_id, device, limit, page\n",
    "\n",
    "It looks likes \"client_id\" identifies data for the City of Philadelphia, which is definitely a required parameter. Otherwise, the other parameters seem optional, returning the requests on a certain device and viewing page."
   ]
  },
  {
   "cell_type": "markdown",
   "metadata": {
    "tags": []
   },
   "source": [
    "Let's test it out. We'll grab 2 requests from the first page:"
   ]
  },
  {
   "cell_type": "code",
   "execution_count": 80,
   "metadata": {
    "tags": []
   },
   "outputs": [
    {
     "data": {
      "text/plain": [
       "{'response': {'requests': [{'request': {'id': 17210010,\n",
       "     'image_thumbnail': '',\n",
       "     'title': 'Vacant Lot Clean Up',\n",
       "     'description': 'Please for the love of God clean this bs up. My house has do many mice and flies because of this nonsense.',\n",
       "     'status': 'submitted',\n",
       "     'address': '615 Winton St, Philadelphia, PA 19148, USA',\n",
       "     'location': '',\n",
       "     'zipcode': None,\n",
       "     'foreign_id': '17974428',\n",
       "     'date_created': 1754538539,\n",
       "     'count_comments': 0,\n",
       "     'count_followers': 0,\n",
       "     'count_supporters': 0,\n",
       "     'lat': 39.9220356,\n",
       "     'lon': -75.1574552,\n",
       "     'user_follows': 0,\n",
       "     'user_comments': 0,\n",
       "     'user_request': 0,\n",
       "     'rank': '1',\n",
       "     'user': 'Gilmoregirl117'}},\n",
       "   {'request': {'id': 17210006,\n",
       "     'image_thumbnail': '',\n",
       "     'title': 'Maintenance Complaint',\n",
       "     'description': 'Front I and grass never  cut very tall',\n",
       "     'status': 'submitted',\n",
       "     'address': '1544 Stoney Ln, Philadelphia, PA 19115, USA',\n",
       "     'location': '',\n",
       "     'zipcode': None,\n",
       "     'foreign_id': '17974427',\n",
       "     'date_created': 1754537919,\n",
       "     'count_comments': 0,\n",
       "     'count_followers': 0,\n",
       "     'count_supporters': 0,\n",
       "     'lat': 40.0837405,\n",
       "     'lon': -75.0443821,\n",
       "     'user_follows': 0,\n",
       "     'user_comments': 0,\n",
       "     'user_request': 0,\n",
       "     'rank': '1',\n",
       "     'user': 'KOZA'}}],\n",
       "  'count': '2',\n",
       "  'benchmark': 9.287112951278687,\n",
       "  'status': {'type': 'success',\n",
       "   'message': 'Success',\n",
       "   'code': 200,\n",
       "   'code_message': 'Ok'}}}"
      ]
     },
     "execution_count": 80,
     "metadata": {},
     "output_type": "execute_result"
    }
   ],
   "source": [
    "r = requests.get(\n",
    "    \"https://vc0.publicstuff.com/api/2.0/requests_list\",\n",
    "    params={\"client_id\": 242, \"page\": 1, \"limit\": 2},\n",
    ")\n",
    "\n",
    "json = r.json()\n",
    "\n",
    "json"
   ]
  },
  {
   "cell_type": "markdown",
   "metadata": {},
   "source": [
    "Now we need to understand the structure of the response. First, access the list of requests:"
   ]
  },
  {
   "cell_type": "code",
   "execution_count": 81,
   "metadata": {
    "tags": []
   },
   "outputs": [
    {
     "data": {
      "text/plain": [
       "[{'request': {'id': 17210010,\n",
       "   'image_thumbnail': '',\n",
       "   'title': 'Vacant Lot Clean Up',\n",
       "   'description': 'Please for the love of God clean this bs up. My house has do many mice and flies because of this nonsense.',\n",
       "   'status': 'submitted',\n",
       "   'address': '615 Winton St, Philadelphia, PA 19148, USA',\n",
       "   'location': '',\n",
       "   'zipcode': None,\n",
       "   'foreign_id': '17974428',\n",
       "   'date_created': 1754538539,\n",
       "   'count_comments': 0,\n",
       "   'count_followers': 0,\n",
       "   'count_supporters': 0,\n",
       "   'lat': 39.9220356,\n",
       "   'lon': -75.1574552,\n",
       "   'user_follows': 0,\n",
       "   'user_comments': 0,\n",
       "   'user_request': 0,\n",
       "   'rank': '1',\n",
       "   'user': 'Gilmoregirl117'}},\n",
       " {'request': {'id': 17210006,\n",
       "   'image_thumbnail': '',\n",
       "   'title': 'Maintenance Complaint',\n",
       "   'description': 'Front I and grass never  cut very tall',\n",
       "   'status': 'submitted',\n",
       "   'address': '1544 Stoney Ln, Philadelphia, PA 19115, USA',\n",
       "   'location': '',\n",
       "   'zipcode': None,\n",
       "   'foreign_id': '17974427',\n",
       "   'date_created': 1754537919,\n",
       "   'count_comments': 0,\n",
       "   'count_followers': 0,\n",
       "   'count_supporters': 0,\n",
       "   'lat': 40.0837405,\n",
       "   'lon': -75.0443821,\n",
       "   'user_follows': 0,\n",
       "   'user_comments': 0,\n",
       "   'user_request': 0,\n",
       "   'rank': '1',\n",
       "   'user': 'KOZA'}}]"
      ]
     },
     "execution_count": 81,
     "metadata": {},
     "output_type": "execute_result"
    }
   ],
   "source": [
    "request_list = json[\"response\"][\"requests\"]\n",
    "\n",
    "request_list"
   ]
  },
  {
   "cell_type": "markdown",
   "metadata": {},
   "source": [
    "We need to extract out the \"request\" key of each list entry. Let's do that and create a DataFrame:"
   ]
  },
  {
   "cell_type": "code",
   "execution_count": 82,
   "metadata": {
    "tags": []
   },
   "outputs": [],
   "source": [
    "data = pd.DataFrame([r[\"request\"] for r in request_list])"
   ]
  },
  {
   "cell_type": "code",
   "execution_count": 83,
   "metadata": {
    "tags": []
   },
   "outputs": [
    {
     "data": {
      "text/html": [
       "<div>\n",
       "<style scoped>\n",
       "    .dataframe tbody tr th:only-of-type {\n",
       "        vertical-align: middle;\n",
       "    }\n",
       "\n",
       "    .dataframe tbody tr th {\n",
       "        vertical-align: top;\n",
       "    }\n",
       "\n",
       "    .dataframe thead th {\n",
       "        text-align: right;\n",
       "    }\n",
       "</style>\n",
       "<table border=\"1\" class=\"dataframe\">\n",
       "  <thead>\n",
       "    <tr style=\"text-align: right;\">\n",
       "      <th></th>\n",
       "      <th>id</th>\n",
       "      <th>image_thumbnail</th>\n",
       "      <th>title</th>\n",
       "      <th>description</th>\n",
       "      <th>status</th>\n",
       "      <th>address</th>\n",
       "      <th>location</th>\n",
       "      <th>zipcode</th>\n",
       "      <th>foreign_id</th>\n",
       "      <th>date_created</th>\n",
       "      <th>count_comments</th>\n",
       "      <th>count_followers</th>\n",
       "      <th>count_supporters</th>\n",
       "      <th>lat</th>\n",
       "      <th>lon</th>\n",
       "      <th>user_follows</th>\n",
       "      <th>user_comments</th>\n",
       "      <th>user_request</th>\n",
       "      <th>rank</th>\n",
       "      <th>user</th>\n",
       "    </tr>\n",
       "  </thead>\n",
       "  <tbody>\n",
       "    <tr>\n",
       "      <th>0</th>\n",
       "      <td>17210010</td>\n",
       "      <td></td>\n",
       "      <td>Vacant Lot Clean Up</td>\n",
       "      <td>Please for the love of God clean this bs up. M...</td>\n",
       "      <td>submitted</td>\n",
       "      <td>615 Winton St, Philadelphia, PA 19148, USA</td>\n",
       "      <td></td>\n",
       "      <td>None</td>\n",
       "      <td>17974428</td>\n",
       "      <td>1754538539</td>\n",
       "      <td>0</td>\n",
       "      <td>0</td>\n",
       "      <td>0</td>\n",
       "      <td>39.922036</td>\n",
       "      <td>-75.157455</td>\n",
       "      <td>0</td>\n",
       "      <td>0</td>\n",
       "      <td>0</td>\n",
       "      <td>1</td>\n",
       "      <td>Gilmoregirl117</td>\n",
       "    </tr>\n",
       "    <tr>\n",
       "      <th>1</th>\n",
       "      <td>17210006</td>\n",
       "      <td></td>\n",
       "      <td>Maintenance Complaint</td>\n",
       "      <td>Front I and grass never  cut very tall</td>\n",
       "      <td>submitted</td>\n",
       "      <td>1544 Stoney Ln, Philadelphia, PA 19115, USA</td>\n",
       "      <td></td>\n",
       "      <td>None</td>\n",
       "      <td>17974427</td>\n",
       "      <td>1754537919</td>\n",
       "      <td>0</td>\n",
       "      <td>0</td>\n",
       "      <td>0</td>\n",
       "      <td>40.083740</td>\n",
       "      <td>-75.044382</td>\n",
       "      <td>0</td>\n",
       "      <td>0</td>\n",
       "      <td>0</td>\n",
       "      <td>1</td>\n",
       "      <td>KOZA</td>\n",
       "    </tr>\n",
       "  </tbody>\n",
       "</table>\n",
       "</div>"
      ],
      "text/plain": [
       "         id image_thumbnail                  title  \\\n",
       "0  17210010                    Vacant Lot Clean Up   \n",
       "1  17210006                  Maintenance Complaint   \n",
       "\n",
       "                                         description     status  \\\n",
       "0  Please for the love of God clean this bs up. M...  submitted   \n",
       "1             Front I and grass never  cut very tall  submitted   \n",
       "\n",
       "                                       address location zipcode foreign_id  \\\n",
       "0   615 Winton St, Philadelphia, PA 19148, USA             None   17974428   \n",
       "1  1544 Stoney Ln, Philadelphia, PA 19115, USA             None   17974427   \n",
       "\n",
       "   date_created  count_comments  count_followers  count_supporters        lat  \\\n",
       "0    1754538539               0                0                 0  39.922036   \n",
       "1    1754537919               0                0                 0  40.083740   \n",
       "\n",
       "         lon  user_follows  user_comments  user_request rank            user  \n",
       "0 -75.157455             0              0             0    1  Gilmoregirl117  \n",
       "1 -75.044382             0              0             0    1            KOZA  "
      ]
     },
     "execution_count": 83,
     "metadata": {},
     "output_type": "execute_result"
    }
   ],
   "source": [
    "data.head()"
   ]
  },
  {
   "cell_type": "markdown",
   "metadata": {},
   "source": [
    "Success! But we want to build up a larger dataset...let's pull data for the first 3 pages of data. This will take a minute or two..."
   ]
  },
  {
   "cell_type": "code",
   "execution_count": 84,
   "metadata": {
    "tags": []
   },
   "outputs": [
    {
     "name": "stdout",
     "output_type": "stream",
     "text": [
      "Getting data for page #1...\n",
      "Getting data for page #2...\n",
      "Getting data for page #3...\n"
     ]
    }
   ],
   "source": [
    "# Store the data we request\n",
    "data = []\n",
    "\n",
    "# Total number of pages\n",
    "total_pages = 3\n",
    "\n",
    "# Loop over each page\n",
    "for page_num in range(1, total_pages + 1):\n",
    "    # Print out the page number\n",
    "    print(f\"Getting data for page #{page_num}...\")\n",
    "\n",
    "    # Make the request\n",
    "    r = requests.get(\n",
    "        \"https://vc0.publicstuff.com/api/2.0/requests_list\",\n",
    "        params={\n",
    "            \"client_id\": 242,  # Unique identifier for Philadelphia\n",
    "            \"page\": page_num,  # What page of data to pull\n",
    "            \"limit\": 200,  # How many rows per page\n",
    "        },\n",
    "    )\n",
    "\n",
    "    # Get the json\n",
    "    d = r.json()\n",
    "\n",
    "    # Add the new data to our list and save\n",
    "    data = data + [r[\"request\"] for r in d[\"response\"][\"requests\"]]\n",
    "\n",
    "# Create a dataframe\n",
    "data = pd.DataFrame(data)"
   ]
  },
  {
   "cell_type": "code",
   "execution_count": 85,
   "metadata": {
    "tags": []
   },
   "outputs": [
    {
     "data": {
      "text/plain": [
       "600"
      ]
     },
     "execution_count": 85,
     "metadata": {},
     "output_type": "execute_result"
    }
   ],
   "source": [
    "len(data)"
   ]
  },
  {
   "cell_type": "code",
   "execution_count": 86,
   "metadata": {
    "tags": []
   },
   "outputs": [
    {
     "data": {
      "text/html": [
       "<div>\n",
       "<style scoped>\n",
       "    .dataframe tbody tr th:only-of-type {\n",
       "        vertical-align: middle;\n",
       "    }\n",
       "\n",
       "    .dataframe tbody tr th {\n",
       "        vertical-align: top;\n",
       "    }\n",
       "\n",
       "    .dataframe thead th {\n",
       "        text-align: right;\n",
       "    }\n",
       "</style>\n",
       "<table border=\"1\" class=\"dataframe\">\n",
       "  <thead>\n",
       "    <tr style=\"text-align: right;\">\n",
       "      <th></th>\n",
       "      <th>id</th>\n",
       "      <th>image_thumbnail</th>\n",
       "      <th>title</th>\n",
       "      <th>description</th>\n",
       "      <th>status</th>\n",
       "      <th>address</th>\n",
       "      <th>location</th>\n",
       "      <th>zipcode</th>\n",
       "      <th>foreign_id</th>\n",
       "      <th>date_created</th>\n",
       "      <th>count_comments</th>\n",
       "      <th>count_followers</th>\n",
       "      <th>count_supporters</th>\n",
       "      <th>lat</th>\n",
       "      <th>lon</th>\n",
       "      <th>user_follows</th>\n",
       "      <th>user_comments</th>\n",
       "      <th>user_request</th>\n",
       "      <th>rank</th>\n",
       "      <th>user</th>\n",
       "      <th>primary_attachment</th>\n",
       "    </tr>\n",
       "  </thead>\n",
       "  <tbody>\n",
       "    <tr>\n",
       "      <th>0</th>\n",
       "      <td>17210222</td>\n",
       "      <td></td>\n",
       "      <td>Vacant Lot Clean Up</td>\n",
       "      <td>overgrown</td>\n",
       "      <td>submitted</td>\n",
       "      <td>2222 Moore St, Philadelphia, PA 19145, USA</td>\n",
       "      <td></td>\n",
       "      <td>None</td>\n",
       "      <td>17974478</td>\n",
       "      <td>1754566097</td>\n",
       "      <td>0</td>\n",
       "      <td>0</td>\n",
       "      <td>0</td>\n",
       "      <td>39.929688</td>\n",
       "      <td>-75.182719</td>\n",
       "      <td>0</td>\n",
       "      <td>0</td>\n",
       "      <td>0</td>\n",
       "      <td>1</td>\n",
       "      <td></td>\n",
       "      <td>NaN</td>\n",
       "    </tr>\n",
       "    <tr>\n",
       "      <th>1</th>\n",
       "      <td>17210217</td>\n",
       "      <td></td>\n",
       "      <td>Other</td>\n",
       "      <td></td>\n",
       "      <td>submitted</td>\n",
       "      <td>10943 Waldemire Dr, Philadelphia, PA 19154, USA</td>\n",
       "      <td></td>\n",
       "      <td>None</td>\n",
       "      <td>17974475</td>\n",
       "      <td>1754565873</td>\n",
       "      <td>0</td>\n",
       "      <td>0</td>\n",
       "      <td>0</td>\n",
       "      <td>40.076298</td>\n",
       "      <td>-74.982679</td>\n",
       "      <td>0</td>\n",
       "      <td>0</td>\n",
       "      <td>0</td>\n",
       "      <td>1</td>\n",
       "      <td></td>\n",
       "      <td>NaN</td>\n",
       "    </tr>\n",
       "    <tr>\n",
       "      <th>2</th>\n",
       "      <td>17210209</td>\n",
       "      <td>https://d17aqltn7cihbm.cloudfront.net/uploads/...</td>\n",
       "      <td>Pothole Repair</td>\n",
       "      <td>Whole in street</td>\n",
       "      <td>submitted</td>\n",
       "      <td>1223 Morris St,Philadelphia, PA 19148</td>\n",
       "      <td>Philadelphia, Pennsylvania</td>\n",
       "      <td>19148</td>\n",
       "      <td>17974474</td>\n",
       "      <td>1754565680</td>\n",
       "      <td>0</td>\n",
       "      <td>0</td>\n",
       "      <td>0</td>\n",
       "      <td>39.928913</td>\n",
       "      <td>-75.165887</td>\n",
       "      <td>0</td>\n",
       "      <td>0</td>\n",
       "      <td>0</td>\n",
       "      <td>1</td>\n",
       "      <td>spfdeutch</td>\n",
       "      <td>{'id': 5609758, 'extension': 'jpg', 'content_t...</td>\n",
       "    </tr>\n",
       "    <tr>\n",
       "      <th>3</th>\n",
       "      <td>17210205</td>\n",
       "      <td>https://d17aqltn7cihbm.cloudfront.net/uploads/...</td>\n",
       "      <td>Illegal Dumping</td>\n",
       "      <td>undefined</td>\n",
       "      <td>submitted</td>\n",
       "      <td>761 Sloan St, Philadelphia, PA 19104, USA</td>\n",
       "      <td></td>\n",
       "      <td>None</td>\n",
       "      <td>17974473</td>\n",
       "      <td>1754565543</td>\n",
       "      <td>0</td>\n",
       "      <td>0</td>\n",
       "      <td>0</td>\n",
       "      <td>39.966908</td>\n",
       "      <td>-75.202294</td>\n",
       "      <td>0</td>\n",
       "      <td>0</td>\n",
       "      <td>0</td>\n",
       "      <td>1</td>\n",
       "      <td>unionhill</td>\n",
       "      <td>{'id': 5609756, 'extension': 'jpg', 'content_t...</td>\n",
       "    </tr>\n",
       "    <tr>\n",
       "      <th>4</th>\n",
       "      <td>17210194</td>\n",
       "      <td>https://d17aqltn7cihbm.cloudfront.net/uploads/...</td>\n",
       "      <td>Maintenance Complaint</td>\n",
       "      <td>Property is overgrown with grass and weeds</td>\n",
       "      <td>submitted</td>\n",
       "      <td>7534 Tabor Ave, Philadelphia, PA 19111, USA</td>\n",
       "      <td></td>\n",
       "      <td>None</td>\n",
       "      <td>17974470</td>\n",
       "      <td>1754564609</td>\n",
       "      <td>0</td>\n",
       "      <td>0</td>\n",
       "      <td>0</td>\n",
       "      <td>40.063343</td>\n",
       "      <td>-75.077113</td>\n",
       "      <td>0</td>\n",
       "      <td>0</td>\n",
       "      <td>0</td>\n",
       "      <td>1</td>\n",
       "      <td>mpa1213</td>\n",
       "      <td>{'id': 5609750, 'extension': 'jpeg', 'content_...</td>\n",
       "    </tr>\n",
       "  </tbody>\n",
       "</table>\n",
       "</div>"
      ],
      "text/plain": [
       "         id                                    image_thumbnail  \\\n",
       "0  17210222                                                      \n",
       "1  17210217                                                      \n",
       "2  17210209  https://d17aqltn7cihbm.cloudfront.net/uploads/...   \n",
       "3  17210205  https://d17aqltn7cihbm.cloudfront.net/uploads/...   \n",
       "4  17210194  https://d17aqltn7cihbm.cloudfront.net/uploads/...   \n",
       "\n",
       "                   title                                 description  \\\n",
       "0    Vacant Lot Clean Up                                   overgrown   \n",
       "1                  Other                                               \n",
       "2         Pothole Repair                             Whole in street   \n",
       "3        Illegal Dumping                                   undefined   \n",
       "4  Maintenance Complaint  Property is overgrown with grass and weeds   \n",
       "\n",
       "      status                                          address  \\\n",
       "0  submitted       2222 Moore St, Philadelphia, PA 19145, USA   \n",
       "1  submitted  10943 Waldemire Dr, Philadelphia, PA 19154, USA   \n",
       "2  submitted            1223 Morris St,Philadelphia, PA 19148   \n",
       "3  submitted        761 Sloan St, Philadelphia, PA 19104, USA   \n",
       "4  submitted      7534 Tabor Ave, Philadelphia, PA 19111, USA   \n",
       "\n",
       "                     location zipcode foreign_id  date_created  \\\n",
       "0                                None   17974478    1754566097   \n",
       "1                                None   17974475    1754565873   \n",
       "2  Philadelphia, Pennsylvania   19148   17974474    1754565680   \n",
       "3                                None   17974473    1754565543   \n",
       "4                                None   17974470    1754564609   \n",
       "\n",
       "   count_comments  count_followers  count_supporters        lat        lon  \\\n",
       "0               0                0                 0  39.929688 -75.182719   \n",
       "1               0                0                 0  40.076298 -74.982679   \n",
       "2               0                0                 0  39.928913 -75.165887   \n",
       "3               0                0                 0  39.966908 -75.202294   \n",
       "4               0                0                 0  40.063343 -75.077113   \n",
       "\n",
       "   user_follows  user_comments  user_request rank       user  \\\n",
       "0             0              0             0    1              \n",
       "1             0              0             0    1              \n",
       "2             0              0             0    1  spfdeutch   \n",
       "3             0              0             0    1  unionhill   \n",
       "4             0              0             0    1    mpa1213   \n",
       "\n",
       "                                  primary_attachment  \n",
       "0                                                NaN  \n",
       "1                                                NaN  \n",
       "2  {'id': 5609758, 'extension': 'jpg', 'content_t...  \n",
       "3  {'id': 5609756, 'extension': 'jpg', 'content_t...  \n",
       "4  {'id': 5609750, 'extension': 'jpeg', 'content_...  "
      ]
     },
     "execution_count": 86,
     "metadata": {},
     "output_type": "execute_result"
    }
   ],
   "source": [
    "data.head()"
   ]
  },
  {
   "cell_type": "markdown",
   "metadata": {},
   "source": [
    "Let's focus on the \"description\" column. This is the narrative text that the user inputs when entering a 311 request, and it is an example of *semi-structured* data. For the rest of today, we'll focus on how to extract information from semi-structured data."
   ]
  },
  {
   "cell_type": "markdown",
   "metadata": {
    "slideshow": {
     "slide_type": "subslide"
    }
   },
   "source": [
    "### Semi-structured data\n",
    "\n",
    "Data that contains some elements that cannot be easily consumed by computers \n",
    "\n",
    "**Examples:** human-readable text, audio, images, etc"
   ]
  },
  {
   "cell_type": "markdown",
   "metadata": {
    "slideshow": {
     "slide_type": "subslide"
    }
   },
   "source": [
    "### Key challenges\n",
    "\n",
    "- **Text mining**: analyzing blocks of text to extract the relevant pieces of information\n",
    "- **Natural language processing (NLP)**: programming computers to process and analyze human languages\n",
    "- **Sentiment analysis**: analyzing blocks of text to derive the attitude or emotional state of the person"
   ]
  },
  {
   "cell_type": "markdown",
   "metadata": {},
   "source": [
    "::: {.callout-note}\n",
    "Twitter is one of the main API examples of semi-structured data, but since Elon Musk overhauled the API access, it's become prohibitively expensive to access (RIP 💀)\n",
    ":::"
   ]
  },
  {
   "cell_type": "markdown",
   "metadata": {},
   "source": [
    "To get started, let's remove any requests where the description is missing:"
   ]
  },
  {
   "cell_type": "code",
   "execution_count": 87,
   "metadata": {
    "tags": []
   },
   "outputs": [],
   "source": [
    "data = data.dropna(subset=[\"description\"])\n",
    "data_final = data.loc[data[\"description\"] != \"\"]"
   ]
  },
  {
   "cell_type": "code",
   "execution_count": 88,
   "metadata": {
    "tags": []
   },
   "outputs": [
    {
     "data": {
      "text/plain": [
       "['overgrown',\n",
       " 'Whole in street',\n",
       " 'undefined',\n",
       " 'Property is overgrown with grass and weeds',\n",
       " 'Has been parked here for months, obviously living in it. Starting to see garbage on the street and sidewalk outside of it',\n",
       " 'Blighted property. Vagrants are now back in the property after the city boarded it up with wood. The building is in disrepair. It is a quality of life concern because there are home owners and renters that live on the block. Please come out and boarder with a more permanent solution like cinderblocks and cement. Because these vandalizing vagrants who also need homelessness and drug abuse help have caused  major damage to the eye care business next door.',\n",
       " \"They've been starting at 6:30am for months, the law is 7. It's incredibly frustrating\",\n",
       " 'Bailey 894 PSEO',\n",
       " 'periodically both refuse and recycling has missed the pick up. the items are stored on the side of the building. they pull up the driveway and back out the same way and miss the items. if they go all they way through the driveway they would see the items',\n",
       " 'Overgrown Weeds Is Blocking The Driveway Preventing Access To Rear Of Property']"
      ]
     },
     "execution_count": 88,
     "metadata": {},
     "output_type": "execute_result"
    }
   ],
   "source": [
    "# Strip out spaces and convert to a list\n",
    "descriptions = data_final[\"description\"].str.strip().tolist()\n",
    "\n",
    "descriptions[:10]"
   ]
  },
  {
   "cell_type": "markdown",
   "metadata": {
    "slideshow": {
     "slide_type": "slide"
    }
   },
   "source": [
    "### Use case #1: calculating word frequencies\n",
    "\n",
    "An example of **text mining**"
   ]
  },
  {
   "cell_type": "markdown",
   "metadata": {
    "slideshow": {
     "slide_type": "slide"
    }
   },
   "source": [
    "#### Text mining and dealing with messy data\n",
    "\n",
    "Some steps to clean up our text data:\n",
    "\n",
    "1. Break strings into words\n",
    "1. Remove capitalization\n",
    "1. Remove stop words\n",
    "1. Remove punctuation"
   ]
  },
  {
   "cell_type": "markdown",
   "metadata": {},
   "source": [
    "**1. Break strings into words**\n",
    "\n",
    "Use the `.split()` command to break a string into words by splitting on spaces."
   ]
  },
  {
   "cell_type": "code",
   "execution_count": 89,
   "metadata": {
    "tags": []
   },
   "outputs": [
    {
     "data": {
      "text/plain": [
       "['This', 'is', 'an', 'Example']"
      ]
     },
     "execution_count": 89,
     "metadata": {},
     "output_type": "execute_result"
    }
   ],
   "source": [
    "example_string = \"This is an Example\"\n",
    "\n",
    "example_string.split()"
   ]
  },
  {
   "cell_type": "code",
   "execution_count": 90,
   "metadata": {
    "tags": []
   },
   "outputs": [],
   "source": [
    "descriptions_words = [desc.split() for desc in descriptions]"
   ]
  },
  {
   "cell_type": "code",
   "execution_count": 91,
   "metadata": {
    "tags": []
   },
   "outputs": [
    {
     "data": {
      "text/plain": [
       "['overgrown']"
      ]
     },
     "execution_count": 91,
     "metadata": {},
     "output_type": "execute_result"
    }
   ],
   "source": [
    "descriptions_words[0]"
   ]
  },
  {
   "cell_type": "markdown",
   "metadata": {},
   "source": [
    "This is a list of lists, e.g., the first element is a list of words. Let's *flatten* this into a list of just words:"
   ]
  },
  {
   "cell_type": "code",
   "execution_count": 92,
   "metadata": {
    "tags": []
   },
   "outputs": [],
   "source": [
    "descriptions_words_flat = []\n",
    "\n",
    "for list_of_words in descriptions_words:\n",
    "    for word in list_of_words:\n",
    "        descriptions_words_flat.append(word)"
   ]
  },
  {
   "cell_type": "code",
   "execution_count": 93,
   "metadata": {
    "tags": []
   },
   "outputs": [
    {
     "data": {
      "text/plain": [
       "'overgrown'"
      ]
     },
     "execution_count": 93,
     "metadata": {},
     "output_type": "execute_result"
    }
   ],
   "source": [
    "descriptions_words_flat[0]"
   ]
  },
  {
   "cell_type": "code",
   "execution_count": 94,
   "metadata": {
    "tags": []
   },
   "outputs": [
    {
     "data": {
      "text/plain": [
       "21921"
      ]
     },
     "execution_count": 94,
     "metadata": {},
     "output_type": "execute_result"
    }
   ],
   "source": [
    "len(descriptions_words_flat)"
   ]
  },
  {
   "cell_type": "markdown",
   "metadata": {
    "slideshow": {
     "slide_type": "slide"
    }
   },
   "source": [
    "**2. Convert all words to lower case**\n",
    "\n",
    "Use `.lower()` makes all words lower cased"
   ]
  },
  {
   "cell_type": "code",
   "execution_count": 95,
   "metadata": {
    "slideshow": {
     "slide_type": "subslide"
    }
   },
   "outputs": [],
   "source": [
    "descriptions_words_lower = [word.lower() for word in descriptions_words_flat]"
   ]
  },
  {
   "cell_type": "code",
   "execution_count": 96,
   "metadata": {
    "tags": []
   },
   "outputs": [
    {
     "data": {
      "text/plain": [
       "['overgrown',\n",
       " 'whole',\n",
       " 'in',\n",
       " 'street',\n",
       " 'undefined',\n",
       " 'property',\n",
       " 'is',\n",
       " 'overgrown',\n",
       " 'with',\n",
       " 'grass']"
      ]
     },
     "execution_count": 96,
     "metadata": {},
     "output_type": "execute_result"
    }
   ],
   "source": [
    "descriptions_words_lower[:10]"
   ]
  },
  {
   "cell_type": "code",
   "execution_count": 97,
   "metadata": {
    "tags": []
   },
   "outputs": [
    {
     "data": {
      "text/plain": [
       "21921"
      ]
     },
     "execution_count": 97,
     "metadata": {},
     "output_type": "execute_result"
    }
   ],
   "source": [
    "len(descriptions_words_lower)"
   ]
  },
  {
   "cell_type": "markdown",
   "metadata": {
    "slideshow": {
     "slide_type": "slide"
    }
   },
   "source": [
    "**3. Remove stop words**\n",
    "\n",
    "Common words that do not carry much significance and are often ignored in text analysis."
   ]
  },
  {
   "cell_type": "markdown",
   "metadata": {
    "slideshow": {
     "slide_type": "subslide"
    }
   },
   "source": [
    "We can use the `nltk` package.\n",
    "\n",
    "The \"Natural Language Toolkit\" https://www.nltk.org/"
   ]
  },
  {
   "cell_type": "markdown",
   "metadata": {
    "slideshow": {
     "slide_type": "slide"
    }
   },
   "source": [
    "Import and download the stop words:"
   ]
  },
  {
   "cell_type": "code",
   "execution_count": 100,
   "metadata": {},
   "outputs": [],
   "source": [
    "# !pip install nltk"
   ]
  },
  {
   "cell_type": "code",
   "execution_count": 101,
   "metadata": {
    "slideshow": {
     "slide_type": "fragment"
    }
   },
   "outputs": [
    {
     "name": "stderr",
     "output_type": "stream",
     "text": [
      "[nltk_data] Downloading package stopwords to\n",
      "[nltk_data]     /Users/jianglix/nltk_data...\n",
      "[nltk_data]   Unzipping corpora/stopwords.zip.\n"
     ]
    }
   ],
   "source": [
    "import nltk\n",
    "\n",
    "nltk.download(\"stopwords\");"
   ]
  },
  {
   "cell_type": "markdown",
   "metadata": {
    "slideshow": {
     "slide_type": "slide"
    }
   },
   "source": [
    "Get the list of common stop words:"
   ]
  },
  {
   "cell_type": "code",
   "execution_count": 102,
   "metadata": {
    "slideshow": {
     "slide_type": "fragment"
    }
   },
   "outputs": [
    {
     "data": {
      "text/plain": [
       "['those',\n",
       " \"we'd\",\n",
       " 'under',\n",
       " 'further',\n",
       " \"he'll\",\n",
       " 'with',\n",
       " \"we'll\",\n",
       " 'why',\n",
       " \"i'll\",\n",
       " 'at']"
      ]
     },
     "execution_count": 102,
     "metadata": {},
     "output_type": "execute_result"
    }
   ],
   "source": [
    "stop_words = list(set(nltk.corpus.stopwords.words(\"english\")))\n",
    "\n",
    "stop_words[:10]"
   ]
  },
  {
   "cell_type": "code",
   "execution_count": 103,
   "metadata": {
    "slideshow": {
     "slide_type": "subslide"
    }
   },
   "outputs": [
    {
     "data": {
      "text/plain": [
       "198"
      ]
     },
     "execution_count": 103,
     "metadata": {},
     "output_type": "execute_result"
    }
   ],
   "source": [
    "len(stop_words)"
   ]
  },
  {
   "cell_type": "code",
   "execution_count": 104,
   "metadata": {
    "tags": []
   },
   "outputs": [],
   "source": [
    "descriptions_no_stop = []\n",
    "\n",
    "for word in descriptions_words_lower:\n",
    "    if word not in stop_words:\n",
    "        descriptions_no_stop.append(word)"
   ]
  },
  {
   "cell_type": "code",
   "execution_count": 105,
   "metadata": {
    "tags": []
   },
   "outputs": [],
   "source": [
    "descriptions_no_stop = [\n",
    "    word for word in descriptions_words_lower if word not in stop_words\n",
    "]"
   ]
  },
  {
   "cell_type": "code",
   "execution_count": 106,
   "metadata": {
    "tags": []
   },
   "outputs": [
    {
     "data": {
      "text/plain": [
       "14301"
      ]
     },
     "execution_count": 106,
     "metadata": {},
     "output_type": "execute_result"
    }
   ],
   "source": [
    "len(descriptions_no_stop)"
   ]
  },
  {
   "cell_type": "markdown",
   "metadata": {},
   "source": [
    "**4. Remove punctuation**"
   ]
  },
  {
   "cell_type": "markdown",
   "metadata": {
    "slideshow": {
     "slide_type": "slide"
    }
   },
   "source": [
    "Get the list of common punctuation:"
   ]
  },
  {
   "cell_type": "code",
   "execution_count": 107,
   "metadata": {
    "slideshow": {
     "slide_type": "subslide"
    }
   },
   "outputs": [],
   "source": [
    "import string"
   ]
  },
  {
   "cell_type": "code",
   "execution_count": 108,
   "metadata": {
    "slideshow": {
     "slide_type": "fragment"
    }
   },
   "outputs": [],
   "source": [
    "punctuation = list(string.punctuation)"
   ]
  },
  {
   "cell_type": "code",
   "execution_count": 109,
   "metadata": {
    "slideshow": {
     "slide_type": "fragment"
    }
   },
   "outputs": [
    {
     "data": {
      "text/plain": [
       "['!', '\"', '#', '$', '%']"
      ]
     },
     "execution_count": 109,
     "metadata": {},
     "output_type": "execute_result"
    }
   ],
   "source": [
    "punctuation[:5]"
   ]
  },
  {
   "cell_type": "markdown",
   "metadata": {
    "slideshow": {
     "slide_type": "slide"
    }
   },
   "source": [
    "Remove punctuation from words:"
   ]
  },
  {
   "cell_type": "code",
   "execution_count": 110,
   "metadata": {
    "tags": []
   },
   "outputs": [],
   "source": [
    "descriptions_final = []\n",
    "\n",
    "# Loop over all words\n",
    "for word in descriptions_no_stop:\n",
    "    # Remove any punctuation from the words\n",
    "    for p in punctuation:\n",
    "        word = word.replace(p, \"\")\n",
    "\n",
    "    # Save it if the string is not empty\n",
    "    if word != \"\":\n",
    "        descriptions_final.append(word)"
   ]
  },
  {
   "cell_type": "markdown",
   "metadata": {},
   "source": [
    "Convert to a Dataframe with one column:"
   ]
  },
  {
   "cell_type": "code",
   "execution_count": 111,
   "metadata": {
    "tags": []
   },
   "outputs": [],
   "source": [
    "words = pd.DataFrame({\"words\": descriptions_final})"
   ]
  },
  {
   "cell_type": "code",
   "execution_count": 112,
   "metadata": {
    "tags": []
   },
   "outputs": [
    {
     "data": {
      "text/html": [
       "<div>\n",
       "<style scoped>\n",
       "    .dataframe tbody tr th:only-of-type {\n",
       "        vertical-align: middle;\n",
       "    }\n",
       "\n",
       "    .dataframe tbody tr th {\n",
       "        vertical-align: top;\n",
       "    }\n",
       "\n",
       "    .dataframe thead th {\n",
       "        text-align: right;\n",
       "    }\n",
       "</style>\n",
       "<table border=\"1\" class=\"dataframe\">\n",
       "  <thead>\n",
       "    <tr style=\"text-align: right;\">\n",
       "      <th></th>\n",
       "      <th>words</th>\n",
       "    </tr>\n",
       "  </thead>\n",
       "  <tbody>\n",
       "    <tr>\n",
       "      <th>0</th>\n",
       "      <td>overgrown</td>\n",
       "    </tr>\n",
       "    <tr>\n",
       "      <th>1</th>\n",
       "      <td>whole</td>\n",
       "    </tr>\n",
       "    <tr>\n",
       "      <th>2</th>\n",
       "      <td>street</td>\n",
       "    </tr>\n",
       "    <tr>\n",
       "      <th>3</th>\n",
       "      <td>undefined</td>\n",
       "    </tr>\n",
       "    <tr>\n",
       "      <th>4</th>\n",
       "      <td>property</td>\n",
       "    </tr>\n",
       "  </tbody>\n",
       "</table>\n",
       "</div>"
      ],
      "text/plain": [
       "       words\n",
       "0  overgrown\n",
       "1      whole\n",
       "2     street\n",
       "3  undefined\n",
       "4   property"
      ]
     },
     "execution_count": 112,
     "metadata": {},
     "output_type": "execute_result"
    }
   ],
   "source": [
    "words.head()"
   ]
  },
  {
   "cell_type": "markdown",
   "metadata": {
    "tags": []
   },
   "source": [
    "**Calculate the word frequencies** \n",
    "\n",
    "Use a pandas groupby and sort to put in descending order:"
   ]
  },
  {
   "cell_type": "code",
   "execution_count": 113,
   "metadata": {
    "tags": []
   },
   "outputs": [],
   "source": [
    "N = (\n",
    "    words.groupby(\"words\", as_index=False)\n",
    "    .size()\n",
    "    .sort_values(\"size\", ascending=False, ignore_index=True)\n",
    ")"
   ]
  },
  {
   "cell_type": "markdown",
   "metadata": {},
   "source": [
    "The top 15 words by frequency:"
   ]
  },
  {
   "cell_type": "code",
   "execution_count": 114,
   "metadata": {
    "tags": []
   },
   "outputs": [
    {
     "data": {
      "text/html": [
       "<div>\n",
       "<style scoped>\n",
       "    .dataframe tbody tr th:only-of-type {\n",
       "        vertical-align: middle;\n",
       "    }\n",
       "\n",
       "    .dataframe tbody tr th {\n",
       "        vertical-align: top;\n",
       "    }\n",
       "\n",
       "    .dataframe thead th {\n",
       "        text-align: right;\n",
       "    }\n",
       "</style>\n",
       "<table border=\"1\" class=\"dataframe\">\n",
       "  <thead>\n",
       "    <tr style=\"text-align: right;\">\n",
       "      <th></th>\n",
       "      <th>words</th>\n",
       "      <th>size</th>\n",
       "    </tr>\n",
       "  </thead>\n",
       "  <tbody>\n",
       "    <tr>\n",
       "      <th>0</th>\n",
       "      <td>street</td>\n",
       "      <td>234</td>\n",
       "    </tr>\n",
       "    <tr>\n",
       "      <th>1</th>\n",
       "      <td>trash</td>\n",
       "      <td>220</td>\n",
       "    </tr>\n",
       "    <tr>\n",
       "      <th>2</th>\n",
       "      <td>please</td>\n",
       "      <td>215</td>\n",
       "    </tr>\n",
       "    <tr>\n",
       "      <th>3</th>\n",
       "      <td>people</td>\n",
       "      <td>190</td>\n",
       "    </tr>\n",
       "    <tr>\n",
       "      <th>4</th>\n",
       "      <td>especially</td>\n",
       "      <td>175</td>\n",
       "    </tr>\n",
       "    <tr>\n",
       "      <th>5</th>\n",
       "      <td>philadelphia</td>\n",
       "      <td>174</td>\n",
       "    </tr>\n",
       "    <tr>\n",
       "      <th>6</th>\n",
       "      <td>police</td>\n",
       "      <td>140</td>\n",
       "    </tr>\n",
       "    <tr>\n",
       "      <th>7</th>\n",
       "      <td>17th</td>\n",
       "      <td>140</td>\n",
       "    </tr>\n",
       "    <tr>\n",
       "      <th>8</th>\n",
       "      <td>3815</td>\n",
       "      <td>140</td>\n",
       "    </tr>\n",
       "    <tr>\n",
       "      <th>9</th>\n",
       "      <td>eagles</td>\n",
       "      <td>121</td>\n",
       "    </tr>\n",
       "    <tr>\n",
       "      <th>10</th>\n",
       "      <td>north</td>\n",
       "      <td>109</td>\n",
       "    </tr>\n",
       "    <tr>\n",
       "      <th>11</th>\n",
       "      <td>arrest</td>\n",
       "      <td>105</td>\n",
       "    </tr>\n",
       "    <tr>\n",
       "      <th>12</th>\n",
       "      <td>gay</td>\n",
       "      <td>104</td>\n",
       "    </tr>\n",
       "    <tr>\n",
       "      <th>13</th>\n",
       "      <td>contact</td>\n",
       "      <td>104</td>\n",
       "    </tr>\n",
       "    <tr>\n",
       "      <th>14</th>\n",
       "      <td>address</td>\n",
       "      <td>97</td>\n",
       "    </tr>\n",
       "  </tbody>\n",
       "</table>\n",
       "</div>"
      ],
      "text/plain": [
       "           words  size\n",
       "0         street   234\n",
       "1          trash   220\n",
       "2         please   215\n",
       "3         people   190\n",
       "4     especially   175\n",
       "5   philadelphia   174\n",
       "6         police   140\n",
       "7           17th   140\n",
       "8           3815   140\n",
       "9         eagles   121\n",
       "10         north   109\n",
       "11        arrest   105\n",
       "12           gay   104\n",
       "13       contact   104\n",
       "14       address    97"
      ]
     },
     "execution_count": 114,
     "metadata": {},
     "output_type": "execute_result"
    }
   ],
   "source": [
    "top15 = N.head(15)\n",
    "\n",
    "top15"
   ]
  },
  {
   "cell_type": "markdown",
   "metadata": {
    "slideshow": {
     "slide_type": "slide"
    }
   },
   "source": [
    "**Plot the frequencies**\n",
    "\n",
    "Use `seaborn` to plot our DataFrame of word counts..."
   ]
  },
  {
   "cell_type": "code",
   "execution_count": 115,
   "metadata": {
    "slideshow": {
     "slide_type": "slide"
    }
   },
   "outputs": [
    {
     "data": {
      "image/png": "[encoded data removed]",
      "text/plain": [
       "<Figure size 800x800 with 1 Axes>"
      ]
     },
     "metadata": {},
     "output_type": "display_data"
    }
   ],
   "source": [
    "fig, ax = plt.subplots(figsize=(8, 8))\n",
    "\n",
    "# Plot horizontal bar graph\n",
    "sns.barplot(\n",
    "    y=\"words\",\n",
    "    x=\"size\",\n",
    "    data=top15,\n",
    "    ax=ax,\n",
    "    color=\"#cc3000\",\n",
    "    saturation=1.0,\n",
    ")\n",
    "\n",
    "ax.set_title(\"Most Common Words Found in 311 Requests\", fontsize=16);"
   ]
  },
  {
   "cell_type": "markdown",
   "metadata": {},
   "source": [
    "**Takeaway:** Philly cares about trash! They don't call it Filthadelphia for nothing..."
   ]
  }
 ],
 "metadata": {
  "celltoolbar": "Slideshow",
  "kernelspec": {
   "display_name": "geospatial",
   "language": "python",
   "name": "python3"
  },
  "language_info": {
   "codemirror_mode": {
    "name": "ipython",
    "version": 3
   },
   "file_extension": ".py",
   "mimetype": "text/x-python",
   "name": "python",
   "nbconvert_exporter": "python",
   "pygments_lexer": "ipython3",
   "version": "3.10.16"
  },
  "toc-autonumbering": false,
  "toc-showcode": false,
  "toc-showtags": false
 },
 "nbformat": 4,
 "nbformat_minor": 4
}
